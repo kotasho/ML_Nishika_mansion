{
 "cells": [
  {
   "cell_type": "markdown",
   "metadata": {},
   "source": [
    "## ライブラリ読み込み"
   ]
  },
  {
   "cell_type": "code",
   "execution_count": 223,
   "metadata": {},
   "outputs": [],
   "source": [
    "import numpy as np\n",
    "import pandas as pd\n",
    "import matplotlib.pyplot as plt\n",
    "%matplotlib inline\n",
    "# from matplotlib import rcParams\n",
    "# plt.rcParams[\"font.family\"] = \"MS Gothic\"\n",
    "import seaborn as sns\n",
    "\n",
    "# !pip install japanize-matplotlib\n",
    "import japanize_matplotlib"
   ]
  },
  {
   "cell_type": "code",
   "execution_count": 2,
   "metadata": {},
   "outputs": [],
   "source": [
    "# import glob\n",
    "#47都道府県分csvファイルがあるので、全て結合して１つのファイルとする\n",
    "# csv_files = glob.glob('train/*.csv')"
   ]
  },
  {
   "cell_type": "code",
   "execution_count": 3,
   "metadata": {},
   "outputs": [],
   "source": [
    "# #csvファイルの中身を追加していくリストを用意\n",
    "# data_list = []\n",
    "\n",
    "# #読み込むファイルのリストを走査\n",
    "# for file in csv_files:\n",
    "#     data_list.append(pd.read_csv(file))\n",
    "\n",
    "# #リストを全て行方向に結合\n",
    "# #axis=1:行方向に結合, sort\n",
    "# df = pd.concat(data_list, axis=0, sort=True)\n",
    "\n",
    "# df.to_csv(\"train/train_all_pre.csv\",index=False)"
   ]
  },
  {
   "cell_type": "code",
   "execution_count": 477,
   "metadata": {},
   "outputs": [
    {
     "name": "stderr",
     "output_type": "stream",
     "text": [
      "/Users/kotasho/opt/anaconda3/lib/python3.7/site-packages/IPython/core/interactiveshell.py:2698: DtypeWarning: Columns (27) have mixed types.Specify dtype option on import or set low_memory=False.\n",
      "  interactivity=interactivity, compiler=compiler, result=result)\n"
     ]
    }
   ],
   "source": [
    "train = pd.read_csv('train/train_all_pre.csv')\n",
    "test = pd.read_csv('test.csv')"
   ]
  },
  {
   "cell_type": "markdown",
   "metadata": {},
   "source": [
    "## データの読み込み"
   ]
  },
  {
   "cell_type": "code",
   "execution_count": 478,
   "metadata": {},
   "outputs": [],
   "source": [
    "#結合 -> 分割時の目印にする\n",
    "train['Train_flg'] = True\n",
    "test['Train_flg'] = False"
   ]
  },
  {
   "cell_type": "code",
   "execution_count": 479,
   "metadata": {},
   "outputs": [],
   "source": [
    "#trainとtestを合わせる\n",
    "data = pd.concat([train, test])\n",
    "data = data.reset_index() "
   ]
  },
  {
   "cell_type": "markdown",
   "metadata": {},
   "source": [
    "## 内容確認と前処理"
   ]
  },
  {
   "cell_type": "code",
   "execution_count": 287,
   "metadata": {},
   "outputs": [
    {
     "data": {
      "text/plain": [
       "(3313995, 28)"
      ]
     },
     "execution_count": 287,
     "metadata": {},
     "output_type": "execute_result"
    }
   ],
   "source": [
    "train.shape"
   ]
  },
  {
   "cell_type": "code",
   "execution_count": 542,
   "metadata": {},
   "outputs": [
    {
     "data": {
      "text/plain": [
       "(3313995, 30)"
      ]
     },
     "execution_count": 542,
     "metadata": {},
     "output_type": "execute_result"
    }
   ],
   "source": [
    "data[data['Train_flg'] == True].shape"
   ]
  },
  {
   "cell_type": "code",
   "execution_count": 47,
   "metadata": {},
   "outputs": [
    {
     "data": {
      "text/plain": [
       "(23204, 30)"
      ]
     },
     "execution_count": 47,
     "metadata": {},
     "output_type": "execute_result"
    }
   ],
   "source": [
    "test.shape"
   ]
  },
  {
   "cell_type": "code",
   "execution_count": 541,
   "metadata": {},
   "outputs": [
    {
     "data": {
      "text/plain": [
       "(23204, 30)"
      ]
     },
     "execution_count": 541,
     "metadata": {},
     "output_type": "execute_result"
    }
   ],
   "source": [
    "data[data['Train_flg'] == False].shape"
   ]
  },
  {
   "cell_type": "code",
   "execution_count": 225,
   "metadata": {},
   "outputs": [
    {
     "data": {
      "text/plain": [
       "(3337199, 30)"
      ]
     },
     "execution_count": 225,
     "metadata": {},
     "output_type": "execute_result"
    }
   ],
   "source": [
    "data.shape"
   ]
  },
  {
   "cell_type": "code",
   "execution_count": 637,
   "metadata": {},
   "outputs": [
    {
     "name": "stdout",
     "output_type": "stream",
     "text": [
      "<class 'pandas.core.frame.DataFrame'>\n",
      "RangeIndex: 3337199 entries, 0 to 3337198\n",
      "Data columns (total 30 columns):\n",
      " #   Column        Dtype  \n",
      "---  ------        -----  \n",
      " 0   index         int64  \n",
      " 1   ID            int64  \n",
      " 2   今後の利用目的       object \n",
      " 3   前面道路：幅員（ｍ）    float64\n",
      " 4   前面道路：方位       float64\n",
      " 5   前面道路：種類       float64\n",
      " 6   取引の事情等        object \n",
      " 7   取引価格（総額）_log  float64\n",
      " 8   取引時点          object \n",
      " 9   土地の形状         float64\n",
      " 10  地区名           object \n",
      " 11  地域            float64\n",
      " 12  容積率（％）        float64\n",
      " 13  市区町村コード       int64  \n",
      " 14  市区町村名         object \n",
      " 15  延床面積（㎡）       float64\n",
      " 16  建ぺい率（％）       float64\n",
      " 17  建物の構造         object \n",
      " 18  建築年           object \n",
      " 19  改装            object \n",
      " 20  最寄駅：名称        object \n",
      " 21  最寄駅：距離（分）     object \n",
      " 22  用途            object \n",
      " 23  種類            object \n",
      " 24  都市計画          object \n",
      " 25  都道府県名         object \n",
      " 26  間取り           object \n",
      " 27  間口            float64\n",
      " 28  面積（㎡）         object \n",
      " 29  Train_flg     bool   \n",
      "dtypes: bool(1), float64(10), int64(3), object(16)\n",
      "memory usage: 741.5+ MB\n"
     ]
    }
   ],
   "source": [
    "data.info()"
   ]
  },
  {
   "cell_type": "code",
   "execution_count": 558,
   "metadata": {},
   "outputs": [
    {
     "data": {
      "text/plain": [
       "7.220486390797865"
      ]
     },
     "execution_count": 558,
     "metadata": {},
     "output_type": "execute_result"
    }
   ],
   "source": [
    "train['取引価格（総額）_log'].mean()"
   ]
  },
  {
   "cell_type": "code",
   "execution_count": 497,
   "metadata": {},
   "outputs": [
    {
     "data": {
      "image/png": "[encoded data removed]",
      "text/plain": [
       "<matplotlib.figure.Figure at 0x1a24224b10>"
      ]
     },
     "metadata": {
      "needs_background": "light"
     },
     "output_type": "display_data"
    }
   ],
   "source": [
    "sns.distplot(train['取引価格（総額）_log'])"
   ]
  },
  {
   "cell_type": "code",
   "execution_count": 538,
   "metadata": {},
   "outputs": [
    {
     "data": {
      "text/plain": [
       "土地の形状           100.000000\n",
       "間口              100.000000\n",
       "前面道路：種類         100.000000\n",
       "前面道路：方位         100.000000\n",
       "前面道路：幅員（ｍ）      100.000000\n",
       "地域              100.000000\n",
       "延床面積（㎡）         100.000000\n",
       "取引の事情等           97.229143\n",
       "今後の利用目的          54.487041\n",
       "改装                9.094453\n",
       "用途                8.283983\n",
       "間取り               3.474141\n",
       "容積率（％）            3.466560\n",
       "建ぺい率（％）           3.466560\n",
       "最寄駅：距離（分）         3.457780\n",
       "建築年               2.887841\n",
       "都市計画              2.855718\n",
       "建物の構造             2.379211\n",
       "取引価格（総額）_log      0.695314\n",
       "最寄駅：名称            0.397429\n",
       "地区名               0.098646\n",
       "都道府県名             0.000000\n",
       "ID                0.000000\n",
       "Train_flg         0.000000\n",
       "市区町村名             0.000000\n",
       "取引時点              0.000000\n",
       "市区町村コード           0.000000\n",
       "面積（㎡）             0.000000\n",
       "種類                0.000000\n",
       "index             0.000000\n",
       "Name: Missing Ratio, dtype: float64"
      ]
     },
     "execution_count": 538,
     "metadata": {},
     "output_type": "execute_result"
    }
   ],
   "source": [
    "data_na = (data.isnull().sum() / len(data)) * 100\n",
    "#data_na = data_na.drop(data_na[data_na == 0].index).sort_values(ascending=False)[:30]\n",
    "data_na = data_na.sort_values(ascending=False)[:30]\n",
    "missing_data = pd.DataFrame({'Missing Ratio' :data_na})\n",
    "missing_data['Missing Ratio'].sort_values(ascending=False)"
   ]
  },
  {
   "cell_type": "code",
   "execution_count": 539,
   "metadata": {},
   "outputs": [
    {
     "data": {
      "text/plain": [
       "<matplotlib.text.Text at 0x1a596405d0>"
      ]
     },
     "execution_count": 539,
     "metadata": {},
     "output_type": "execute_result"
    },
    {
     "data": {
      "image/png": "[encoded data removed]",
      "text/plain": [
       "<matplotlib.figure.Figure at 0x1a5078cfd0>"
      ]
     },
     "metadata": {
      "needs_background": "light"
     },
     "output_type": "display_data"
    }
   ],
   "source": [
    "# plt.rcParams['font.family'] = 'IPAexGothic'\n",
    "f, ax = plt.subplots(figsize=(15, 12))\n",
    "plt.xticks(rotation='90')\n",
    "sns.barplot(x=data_na.index, y=data_na)\n",
    "plt.xlabel('項目', fontsize=15)\n",
    "plt.ylabel('欠損値の割合', fontsize=15)\n",
    "plt.title('各項目の欠損値', fontsize=15)"
   ]
  },
  {
   "cell_type": "code",
   "execution_count": 480,
   "metadata": {},
   "outputs": [],
   "source": [
    "data = data.drop(['土地の形状', '間口', '前面道路：種類', '前面道路：方位', '前面道路：幅員（ｍ）', \\\n",
    "                  '地域', '延床面積（㎡）', '取引の事情等', '今後の利用目的'], axis=1)"
   ]
  },
  {
   "cell_type": "markdown",
   "metadata": {},
   "source": [
    "## 改装"
   ]
  },
  {
   "cell_type": "code",
   "execution_count": 93,
   "metadata": {},
   "outputs": [
    {
     "data": {
      "text/plain": [
       "未改装    2187377\n",
       "改装済     846322\n",
       "Name: 改装, dtype: int64"
      ]
     },
     "execution_count": 93,
     "metadata": {},
     "output_type": "execute_result"
    }
   ],
   "source": [
    "data['改装'].value_counts()"
   ]
  },
  {
   "cell_type": "code",
   "execution_count": 163,
   "metadata": {},
   "outputs": [
    {
     "data": {
      "text/plain": [
       "改装\n",
       "未改装    7.223064\n",
       "改装済    7.222403\n",
       "Name: 取引価格（総額）_log, dtype: float64"
      ]
     },
     "execution_count": 163,
     "metadata": {},
     "output_type": "execute_result"
    }
   ],
   "source": [
    "train.groupby('改装').mean()['取引価格（総額）_log'].sort_values(ascending=False)"
   ]
  },
  {
   "cell_type": "code",
   "execution_count": 481,
   "metadata": {},
   "outputs": [
    {
     "name": "stderr",
     "output_type": "stream",
     "text": [
      "/Users/kotasho/opt/anaconda3/lib/python3.7/site-packages/ipykernel_launcher.py:2: SettingWithCopyWarning: \n",
      "A value is trying to be set on a copy of a slice from a DataFrame\n",
      "\n",
      "See the caveats in the documentation: https://pandas.pydata.org/pandas-docs/stable/user_guide/indexing.html#returning-a-view-versus-a-copy\n",
      "  \n",
      "/Users/kotasho/opt/anaconda3/lib/python3.7/site-packages/ipykernel_launcher.py:3: SettingWithCopyWarning: \n",
      "A value is trying to be set on a copy of a slice from a DataFrame\n",
      "\n",
      "See the caveats in the documentation: https://pandas.pydata.org/pandas-docs/stable/user_guide/indexing.html#returning-a-view-versus-a-copy\n",
      "  This is separate from the ipykernel package so we can avoid doing imports until\n"
     ]
    }
   ],
   "source": [
    "#未改装：０　　改装済：１　\n",
    "data['改装'][(data['改装'] == '未改装') | (data['改装'].isnull() == True)] = 0\n",
    "data['改装'][data['改装'] == '改装済'] = 1"
   ]
  },
  {
   "cell_type": "code",
   "execution_count": 482,
   "metadata": {},
   "outputs": [],
   "source": [
    "data['改装'] = data['改装'].astype(int)"
   ]
  },
  {
   "cell_type": "code",
   "execution_count": 90,
   "metadata": {},
   "outputs": [
    {
     "data": {
      "text/plain": [
       "0    2490877\n",
       "1     846322\n",
       "Name: 改装, dtype: int64"
      ]
     },
     "execution_count": 90,
     "metadata": {},
     "output_type": "execute_result"
    }
   ],
   "source": [
    "data['改装'].value_counts()"
   ]
  },
  {
   "cell_type": "markdown",
   "metadata": {},
   "source": [
    "## 取引時点を加工"
   ]
  },
  {
   "cell_type": "code",
   "execution_count": 483,
   "metadata": {},
   "outputs": [],
   "source": [
    "data['取引時点_年'] = data['取引時点'].str[:4]\n",
    "data['取引時点_四半期'] = data['取引時点'].str[5:]\n",
    "\n",
    "def change_date(取引時点_四半期):\n",
    "    if 取引時点_四半期 == '第１四半期':\n",
    "        return '0331'\n",
    "    elif 取引時点_四半期 == '第２四半期':\n",
    "        return '0630'\n",
    "    elif 取引時点_四半期 == '第３四半期':                          \n",
    "        return '0930'\n",
    "    elif 取引時点_四半期 == '第４四半期':\n",
    "        return '1231'\n",
    "    else:\n",
    "        return ''"
   ]
  },
  {
   "cell_type": "code",
   "execution_count": 484,
   "metadata": {},
   "outputs": [],
   "source": [
    "data['取引時点_2'] = data['取引時点_四半期'].apply(change_date)"
   ]
  },
  {
   "cell_type": "code",
   "execution_count": 485,
   "metadata": {},
   "outputs": [],
   "source": [
    "data['取引年月'] = data['取引時点_年'] + data['取引時点_2']"
   ]
  },
  {
   "cell_type": "code",
   "execution_count": 65,
   "metadata": {},
   "outputs": [
    {
     "data": {
      "text/plain": [
       "array(['20060930', '20190331', '20121231', '20110630', '20100930',\n",
       "       '20100630', '20160331', '20161231', '20090930', '20170930',\n",
       "       '20200331', '20140630', '20160630', '20180331', '20130930',\n",
       "       '20141231', '20130331', '20110930', '20171231', '20101231',\n",
       "       '20151231', '20060630', '20090630', '20131231', '20191231',\n",
       "       '20180930', '20120331', '20090331', '20111231', '20120630',\n",
       "       '20181231', '20200630', '20140331', '20110331', '20140930',\n",
       "       '20150930', '20080930', '20070331', '20100331', '20130630',\n",
       "       '20170331', '20170630', '20091231', '20071231', '20190930',\n",
       "       '20081231', '20061231', '20190630', '20120930', '20180630',\n",
       "       '20160930', '20150331', '20070930', '20080331', '20080630',\n",
       "       '20070630', '20150630', '20060331', '20051231', '20050930',\n",
       "       '20201231', '20200930'], dtype=object)"
      ]
     },
     "execution_count": 65,
     "metadata": {},
     "output_type": "execute_result"
    }
   ],
   "source": [
    "data['取引年月'].unique()"
   ]
  },
  {
   "cell_type": "code",
   "execution_count": 486,
   "metadata": {},
   "outputs": [],
   "source": [
    "data['取引年月_西暦'] = data['取引年月'].str[0:4]\n",
    "data['取引年月_西暦'] = data['取引年月_西暦'].astype(int) "
   ]
  },
  {
   "cell_type": "code",
   "execution_count": 487,
   "metadata": {},
   "outputs": [],
   "source": [
    "data['取引年月'] = data['取引年月'].astype(int)"
   ]
  },
  {
   "cell_type": "code",
   "execution_count": 162,
   "metadata": {},
   "outputs": [
    {
     "data": {
      "text/plain": [
       "20200331    73460\n",
       "20140331    67805\n",
       "20170331    66240\n",
       "20150331    66185\n",
       "20130331    66165\n",
       "            ...  \n",
       "20060331    21610\n",
       "20051231    18250\n",
       "20050930    17675\n",
       "20200930    13450\n",
       "20201231     9754\n",
       "Name: 取引年月, Length: 62, dtype: int64"
      ]
     },
     "execution_count": 162,
     "metadata": {},
     "output_type": "execute_result"
    }
   ],
   "source": [
    "data['取引年月'].value_counts()"
   ]
  },
  {
   "cell_type": "markdown",
   "metadata": {},
   "source": [
    "## 建築年を加工"
   ]
  },
  {
   "cell_type": "code",
   "execution_count": 632,
   "metadata": {},
   "outputs": [
    {
     "data": {
      "text/plain": [
       "96373"
      ]
     },
     "execution_count": 632,
     "metadata": {},
     "output_type": "execute_result"
    }
   ],
   "source": [
    "data['建築年'].isnull().sum()"
   ]
  },
  {
   "cell_type": "code",
   "execution_count": 488,
   "metadata": {},
   "outputs": [],
   "source": [
    "data['和暦開始'] = data['建築年'].str[:2]"
   ]
  },
  {
   "cell_type": "code",
   "execution_count": 282,
   "metadata": {},
   "outputs": [
    {
     "data": {
      "text/plain": [
       "array(['平成', '昭和', nan, '戦前', '令和'], dtype=object)"
      ]
     },
     "execution_count": 282,
     "metadata": {},
     "output_type": "execute_result"
    }
   ],
   "source": [
    "data['和暦開始'].unique()"
   ]
  },
  {
   "cell_type": "code",
   "execution_count": 489,
   "metadata": {},
   "outputs": [],
   "source": [
    "#戦前、nanは1930とする\n",
    "def era_convert(和暦開始):\n",
    "    if 和暦開始 == '昭和':\n",
    "        return 1925\n",
    "    elif 和暦開始 == '平成':\n",
    "        return 1988\n",
    "    elif 和暦開始 == '令和':\n",
    "        return 2018\n",
    "    else:\n",
    "        return 1930"
   ]
  },
  {
   "cell_type": "code",
   "execution_count": 490,
   "metadata": {},
   "outputs": [],
   "source": [
    "data['和暦開始年'] = data['和暦開始'].apply(era_convert)"
   ]
  },
  {
   "cell_type": "code",
   "execution_count": 491,
   "metadata": {},
   "outputs": [],
   "source": [
    "data['和暦_年'] = data['建築年'].str[2:4]"
   ]
  },
  {
   "cell_type": "code",
   "execution_count": 492,
   "metadata": {},
   "outputs": [],
   "source": [
    "data['和暦_年'] = data['和暦_年'].str.replace('年', '')"
   ]
  },
  {
   "cell_type": "code",
   "execution_count": 166,
   "metadata": {},
   "outputs": [
    {
     "data": {
      "text/plain": [
       "array(['3', '58', '13', '64', '12', '62', '8', '27', '20', '59', '63',\n",
       "       nan, '10', '60', '50', '2', '11', '54', '16', '49', '61', '6', '7',\n",
       "       '18', '17', '9', '22', '5', '24', '25', '15', '21', '30', '4',\n",
       "       '14', '26', '19', '29', '31', '55', '46', '57', '56', '23', '51',\n",
       "       '47', '48', '52', '53', '43', '40', '28', '44', '', '36', '45',\n",
       "       '41', '42', '39', '37', '32', '33', '38', '34', '35'], dtype=object)"
      ]
     },
     "execution_count": 166,
     "metadata": {},
     "output_type": "execute_result"
    }
   ],
   "source": [
    "data['和暦_年'].unique()"
   ]
  },
  {
   "cell_type": "code",
   "execution_count": 493,
   "metadata": {},
   "outputs": [
    {
     "name": "stderr",
     "output_type": "stream",
     "text": [
      "/Users/kotasho/opt/anaconda3/lib/python3.7/site-packages/ipykernel_launcher.py:1: SettingWithCopyWarning: \n",
      "A value is trying to be set on a copy of a slice from a DataFrame\n",
      "\n",
      "See the caveats in the documentation: https://pandas.pydata.org/pandas-docs/stable/user_guide/indexing.html#returning-a-view-versus-a-copy\n",
      "  \"\"\"Entry point for launching an IPython kernel.\n"
     ]
    }
   ],
   "source": [
    "data['和暦_年'][(data['和暦_年'] == '') | (data['和暦_年'].isnull())] = '0'"
   ]
  },
  {
   "cell_type": "code",
   "execution_count": 288,
   "metadata": {},
   "outputs": [
    {
     "data": {
      "text/plain": [
       "array([1988, 1925, 1930, 2018])"
      ]
     },
     "execution_count": 288,
     "metadata": {},
     "output_type": "execute_result"
    }
   ],
   "source": [
    "data['和暦開始年'].unique()"
   ]
  },
  {
   "cell_type": "code",
   "execution_count": 168,
   "metadata": {},
   "outputs": [
    {
     "data": {
      "text/plain": [
       "1988    2248653\n",
       "1925     987808\n",
       "1930      99187\n",
       "2018       1551\n",
       "Name: 和暦開始年, dtype: int64"
      ]
     },
     "execution_count": 168,
     "metadata": {},
     "output_type": "execute_result"
    }
   ],
   "source": [
    "data['和暦開始年'].value_counts()"
   ]
  },
  {
   "cell_type": "code",
   "execution_count": 494,
   "metadata": {},
   "outputs": [],
   "source": [
    "data['和暦開始年'] = data['和暦開始年'].astype(int)\n",
    "data['和暦_年'] = data['和暦_年'].astype(int)"
   ]
  },
  {
   "cell_type": "code",
   "execution_count": 495,
   "metadata": {},
   "outputs": [],
   "source": [
    "data['建築年'] = data['和暦開始年'] + data['和暦_年']"
   ]
  },
  {
   "cell_type": "code",
   "execution_count": 331,
   "metadata": {},
   "outputs": [
    {
     "data": {
      "text/html": [
       "<div>\n",
       "<style scoped>\n",
       "    .dataframe tbody tr th:only-of-type {\n",
       "        vertical-align: middle;\n",
       "    }\n",
       "\n",
       "    .dataframe tbody tr th {\n",
       "        vertical-align: top;\n",
       "    }\n",
       "\n",
       "    .dataframe thead th {\n",
       "        text-align: right;\n",
       "    }\n",
       "</style>\n",
       "<table border=\"1\" class=\"dataframe\">\n",
       "  <thead>\n",
       "    <tr style=\"text-align: right;\">\n",
       "      <th></th>\n",
       "      <th>取引年月_西暦</th>\n",
       "      <th>建築年</th>\n",
       "    </tr>\n",
       "  </thead>\n",
       "  <tbody>\n",
       "    <tr>\n",
       "      <th>0</th>\n",
       "      <td>2006</td>\n",
       "      <td>1991</td>\n",
       "    </tr>\n",
       "    <tr>\n",
       "      <th>1</th>\n",
       "      <td>2019</td>\n",
       "      <td>1983</td>\n",
       "    </tr>\n",
       "    <tr>\n",
       "      <th>2</th>\n",
       "      <td>2012</td>\n",
       "      <td>2001</td>\n",
       "    </tr>\n",
       "    <tr>\n",
       "      <th>3</th>\n",
       "      <td>2011</td>\n",
       "      <td>1989</td>\n",
       "    </tr>\n",
       "    <tr>\n",
       "      <th>4</th>\n",
       "      <td>2010</td>\n",
       "      <td>2000</td>\n",
       "    </tr>\n",
       "  </tbody>\n",
       "</table>\n",
       "</div>"
      ],
      "text/plain": [
       "   取引年月_西暦   建築年\n",
       "0     2006  1991\n",
       "1     2019  1983\n",
       "2     2012  2001\n",
       "3     2011  1989\n",
       "4     2010  2000"
      ]
     },
     "execution_count": 331,
     "metadata": {},
     "output_type": "execute_result"
    }
   ],
   "source": [
    "data[['取引年月_西暦', '建築年']].head()"
   ]
  },
  {
   "cell_type": "code",
   "execution_count": 496,
   "metadata": {},
   "outputs": [],
   "source": [
    "data['築年数'] = data['取引年月_西暦'] - data['建築年']"
   ]
  },
  {
   "cell_type": "markdown",
   "metadata": {},
   "source": [
    "## 地区名"
   ]
  },
  {
   "cell_type": "code",
   "execution_count": 543,
   "metadata": {},
   "outputs": [
    {
     "data": {
      "text/plain": [
       "地区名\n",
       "麻布永坂町      8.561378\n",
       "元麻布        8.163697\n",
       "麻布狸穴町      8.058572\n",
       "市谷船河原町     8.006290\n",
       "鉢山町        8.002973\n",
       "             ...   \n",
       "厳美町        5.659125\n",
       "横井上        5.600689\n",
       "三ヶ日町下尾奈    5.367497\n",
       "大字丹治       4.849485\n",
       "東立科        4.556217\n",
       "Name: 取引価格（総額）_log, Length: 12090, dtype: float64"
      ]
     },
     "execution_count": 543,
     "metadata": {},
     "output_type": "execute_result"
    }
   ],
   "source": [
    "train.groupby('地区名').mean()['取引価格（総額）_log'].sort_values(ascending=False)"
   ]
  },
  {
   "cell_type": "code",
   "execution_count": 17,
   "metadata": {},
   "outputs": [
    {
     "data": {
      "text/plain": [
       "0    本町\n",
       "dtype: object"
      ]
     },
     "execution_count": 17,
     "metadata": {},
     "output_type": "execute_result"
    }
   ],
   "source": [
    "data['地区名'].mode()"
   ]
  },
  {
   "cell_type": "code",
   "execution_count": 24,
   "metadata": {},
   "outputs": [
    {
     "data": {
      "text/plain": [
       "array(['福岡県', '熊本県', '愛知県', '静岡県', '茨城県', '長野県', '広島県', '山口県', '岐阜県',\n",
       "       '栃木県', '鳥取県', '和歌山県', '三重県', '京都府', '大阪府', '岡山県', '富山県', '青森県',\n",
       "       '石川県', '北海道', '新潟県', '神奈川県', '兵庫県', '宮城県', '群馬県', '愛媛県', '高知県',\n",
       "       '埼玉県', '東京都', '福島県', '山形県', '千葉県'], dtype=object)"
      ]
     },
     "execution_count": 24,
     "metadata": {},
     "output_type": "execute_result"
    }
   ],
   "source": [
    "data['都道府県名'][data['地区名'] == '本町'].unique()"
   ]
  },
  {
   "cell_type": "code",
   "execution_count": 497,
   "metadata": {},
   "outputs": [
    {
     "name": "stderr",
     "output_type": "stream",
     "text": [
      "/Users/kotasho/opt/anaconda3/lib/python3.7/site-packages/ipykernel_launcher.py:1: SettingWithCopyWarning: \n",
      "A value is trying to be set on a copy of a slice from a DataFrame\n",
      "\n",
      "See the caveats in the documentation: https://pandas.pydata.org/pandas-docs/stable/user_guide/indexing.html#returning-a-view-versus-a-copy\n",
      "  \"\"\"Entry point for launching an IPython kernel.\n"
     ]
    }
   ],
   "source": [
    "data['地区名'][data['地区名'].isnull() == True] = data['地区名'].mode()[0]"
   ]
  },
  {
   "cell_type": "code",
   "execution_count": 498,
   "metadata": {},
   "outputs": [],
   "source": [
    "from sklearn.preprocessing import LabelEncoder\n",
    "\n",
    "le = LabelEncoder()\n",
    "encoded = le.fit_transform(data['地区名'].values)\n",
    "decoded = le.inverse_transform(encoded)\n",
    "data['地区名'] = encoded"
   ]
  },
  {
   "cell_type": "markdown",
   "metadata": {},
   "source": [
    "## 最寄駅：名称"
   ]
  },
  {
   "cell_type": "code",
   "execution_count": 218,
   "metadata": {},
   "outputs": [
    {
     "data": {
      "text/plain": [
       "最寄駅：名称\n",
       "日比谷       7.969297\n",
       "辛島町       7.965983\n",
       "永田町       7.871649\n",
       "新豊洲       7.820463\n",
       "神谷町       7.819061\n",
       "            ...   \n",
       "下泉        6.039591\n",
       "仁愛女子高校    6.000000\n",
       "尾奈        5.414313\n",
       "三ケ日       5.166667\n",
       "吉野神宮      4.849485\n",
       "Name: 取引価格（総額）_log, Length: 3846, dtype: float64"
      ]
     },
     "execution_count": 218,
     "metadata": {},
     "output_type": "execute_result"
    }
   ],
   "source": [
    "train.groupby('最寄駅：名称').mean()['取引価格（総額）_log'].sort_values(ascending=False)"
   ]
  },
  {
   "cell_type": "code",
   "execution_count": 222,
   "metadata": {},
   "outputs": [
    {
     "data": {
      "text/plain": [
       "13263"
      ]
     },
     "execution_count": 222,
     "metadata": {},
     "output_type": "execute_result"
    }
   ],
   "source": [
    "len(data['最寄駅：名称'][data['最寄駅：名称'].isnull() == True]) "
   ]
  },
  {
   "cell_type": "code",
   "execution_count": 499,
   "metadata": {},
   "outputs": [
    {
     "name": "stderr",
     "output_type": "stream",
     "text": [
      "/Users/kotasho/opt/anaconda3/lib/python3.7/site-packages/ipykernel_launcher.py:1: SettingWithCopyWarning: \n",
      "A value is trying to be set on a copy of a slice from a DataFrame\n",
      "\n",
      "See the caveats in the documentation: https://pandas.pydata.org/pandas-docs/stable/user_guide/indexing.html#returning-a-view-versus-a-copy\n",
      "  \"\"\"Entry point for launching an IPython kernel.\n"
     ]
    }
   ],
   "source": [
    "data['最寄駅：名称'][data['最寄駅：名称'].isnull() == True] = data['最寄駅：名称'].mode()[0]"
   ]
  },
  {
   "cell_type": "code",
   "execution_count": 500,
   "metadata": {},
   "outputs": [],
   "source": [
    "le = LabelEncoder()\n",
    "encoded = le.fit_transform(data['最寄駅：名称'].values)\n",
    "decoded = le.inverse_transform(encoded)\n",
    "data['最寄駅：名称'] = encoded"
   ]
  },
  {
   "cell_type": "markdown",
   "metadata": {},
   "source": [
    "## 最寄駅：距離（分）を加工"
   ]
  },
  {
   "cell_type": "code",
   "execution_count": 428,
   "metadata": {},
   "outputs": [
    {
     "data": {
      "text/plain": [
       "115380"
      ]
     },
     "execution_count": 428,
     "metadata": {},
     "output_type": "execute_result"
    }
   ],
   "source": [
    "train['最寄駅：距離（分）'].isnull().sum()"
   ]
  },
  {
   "cell_type": "code",
   "execution_count": 427,
   "metadata": {},
   "outputs": [
    {
     "data": {
      "text/plain": [
       "13"
      ]
     },
     "execution_count": 427,
     "metadata": {},
     "output_type": "execute_result"
    }
   ],
   "source": [
    "test['最寄駅：距離（分）'].isnull().sum()"
   ]
  },
  {
   "cell_type": "code",
   "execution_count": 344,
   "metadata": {},
   "outputs": [
    {
     "data": {
      "text/plain": [
       "array([nan, '25', '30分?60分', '21', '13', '5', '2', '11', '7', '10', '6',\n",
       "       '14', '3', '8', '15', '4', '9', '16', '18', '1H?1H30', '23', '1',\n",
       "       '20', '19', '26', '12', '28', '24', '29', '0', '27', '17',\n",
       "       '1H30?2H', '22', '2H?'], dtype=object)"
      ]
     },
     "execution_count": 344,
     "metadata": {},
     "output_type": "execute_result"
    }
   ],
   "source": [
    "data['最寄駅：距離（分）'].unique()"
   ]
  },
  {
   "cell_type": "code",
   "execution_count": 8,
   "metadata": {},
   "outputs": [
    {
     "data": {
      "text/plain": [
       "最寄駅：距離（分）\n",
       "1          7.319250\n",
       "0          7.309720\n",
       "2          7.290342\n",
       "3          7.287793\n",
       "4          7.276354\n",
       "6          7.269745\n",
       "5          7.266076\n",
       "7          7.263506\n",
       "8          7.250800\n",
       "10         7.250393\n",
       "9          7.248901\n",
       "11         7.234368\n",
       "12         7.220599\n",
       "13         7.206391\n",
       "14         7.190744\n",
       "15         7.189879\n",
       "17         7.178023\n",
       "16         7.160166\n",
       "18         7.140583\n",
       "19         7.112215\n",
       "20         7.093304\n",
       "21         7.079635\n",
       "23         7.079633\n",
       "24         7.072694\n",
       "22         7.067335\n",
       "26         7.062790\n",
       "28         7.059977\n",
       "25         7.051012\n",
       "29         7.038829\n",
       "30分?60分    7.021592\n",
       "27         6.997248\n",
       "1H?1H30    6.984857\n",
       "1H30?2H    6.856076\n",
       "2H?        6.693521\n",
       "Name: 取引価格（総額）_log, dtype: float64"
      ]
     },
     "execution_count": 8,
     "metadata": {},
     "output_type": "execute_result"
    }
   ],
   "source": [
    "train.groupby('最寄駅：距離（分）').mean()['取引価格（総額）_log'].sort_values(ascending=False)\n",
    "# mean.plot.bar(title='最寄駅：距離（分）の頻度')"
   ]
  },
  {
   "cell_type": "code",
   "execution_count": 451,
   "metadata": {},
   "outputs": [
    {
     "data": {
      "text/plain": [
       "<matplotlib.axes._subplots.AxesSubplot at 0x1a5dd33cd0>"
      ]
     },
     "execution_count": 451,
     "metadata": {},
     "output_type": "execute_result"
    },
    {
     "data": {
      "image/png": "[encoded data removed]",
      "text/plain": [
       "<matplotlib.figure.Figure at 0x1a36682890>"
      ]
     },
     "metadata": {
      "needs_background": "light"
     },
     "output_type": "display_data"
    }
   ],
   "source": [
    "counts = data['最寄駅：距離（分）'].value_counts()\n",
    "counts.plot.bar(title='最寄駅：距離（分）の頻度')"
   ]
  },
  {
   "cell_type": "code",
   "execution_count": 501,
   "metadata": {},
   "outputs": [
    {
     "name": "stderr",
     "output_type": "stream",
     "text": [
      "/Users/kotasho/opt/anaconda3/lib/python3.7/site-packages/ipykernel_launcher.py:2: SettingWithCopyWarning: \n",
      "A value is trying to be set on a copy of a slice from a DataFrame\n",
      "\n",
      "See the caveats in the documentation: https://pandas.pydata.org/pandas-docs/stable/user_guide/indexing.html#returning-a-view-versus-a-copy\n",
      "  \n",
      "/Users/kotasho/opt/anaconda3/lib/python3.7/site-packages/ipykernel_launcher.py:3: SettingWithCopyWarning: \n",
      "A value is trying to be set on a copy of a slice from a DataFrame\n",
      "\n",
      "See the caveats in the documentation: https://pandas.pydata.org/pandas-docs/stable/user_guide/indexing.html#returning-a-view-versus-a-copy\n",
      "  This is separate from the ipykernel package so we can avoid doing imports until\n",
      "/Users/kotasho/opt/anaconda3/lib/python3.7/site-packages/ipykernel_launcher.py:4: SettingWithCopyWarning: \n",
      "A value is trying to be set on a copy of a slice from a DataFrame\n",
      "\n",
      "See the caveats in the documentation: https://pandas.pydata.org/pandas-docs/stable/user_guide/indexing.html#returning-a-view-versus-a-copy\n",
      "  after removing the cwd from sys.path.\n",
      "/Users/kotasho/opt/anaconda3/lib/python3.7/site-packages/ipykernel_launcher.py:5: SettingWithCopyWarning: \n",
      "A value is trying to be set on a copy of a slice from a DataFrame\n",
      "\n",
      "See the caveats in the documentation: https://pandas.pydata.org/pandas-docs/stable/user_guide/indexing.html#returning-a-view-versus-a-copy\n",
      "  \"\"\"\n"
     ]
    }
   ],
   "source": [
    "#文言から推察\n",
    "data['最寄駅：距離（分）'][(data['最寄駅：距離（分）'] == '30分?60分')] = '30'\n",
    "data['最寄駅：距離（分）'][(data['最寄駅：距離（分）'] == '1H?1H30')] = '60'\n",
    "data['最寄駅：距離（分）'][(data['最寄駅：距離（分）'] == '1H30?2H')] = '90'\n",
    "data['最寄駅：距離（分）'][(data['最寄駅：距離（分）'] == '2H?')] = '120'"
   ]
  },
  {
   "cell_type": "code",
   "execution_count": 190,
   "metadata": {},
   "outputs": [
    {
     "data": {
      "text/plain": [
       "6      267079\n",
       "4      257406\n",
       "5      238878\n",
       "8      232628\n",
       "3      225912\n",
       "9      201459\n",
       "7      170023\n",
       "30     166569\n",
       "10     165876\n",
       "11     160562\n",
       "2      142633\n",
       "13     119520\n",
       "1      103507\n",
       "14      98201\n",
       "15      97069\n",
       "12      79310\n",
       "16      74980\n",
       "18      60995\n",
       "19      54978\n",
       "20      46525\n",
       "21      37337\n",
       "23      34745\n",
       "25      32219\n",
       "24      25645\n",
       "28      21456\n",
       "26      20824\n",
       "0       19416\n",
       "60      18851\n",
       "29      18702\n",
       "17      12939\n",
       "22       5540\n",
       "120      4348\n",
       "90       3571\n",
       "27       2103\n",
       "Name: 最寄駅：距離（分）, dtype: int64"
      ]
     },
     "execution_count": 190,
     "metadata": {},
     "output_type": "execute_result"
    }
   ],
   "source": [
    "data['最寄駅：距離（分）'].value_counts()"
   ]
  },
  {
   "cell_type": "code",
   "execution_count": 14,
   "metadata": {},
   "outputs": [
    {
     "data": {
      "text/plain": [
       "<bound method Series.count of 0          NaN\n",
       "5          NaN\n",
       "30         NaN\n",
       "33         NaN\n",
       "41         NaN\n",
       "          ... \n",
       "3313857    NaN\n",
       "3313858    NaN\n",
       "3313869    NaN\n",
       "3313976    NaN\n",
       "3313982    NaN\n",
       "Name: 最寄駅：距離（分）, Length: 115380, dtype: object>"
      ]
     },
     "execution_count": 14,
     "metadata": {},
     "output_type": "execute_result"
    }
   ],
   "source": [
    "train['最寄駅：距離（分）'][train['最寄駅：距離（分）'].isnull() == True].count"
   ]
  },
  {
   "cell_type": "code",
   "execution_count": 16,
   "metadata": {},
   "outputs": [
    {
     "data": {
      "text/html": [
       "<div>\n",
       "<style scoped>\n",
       "    .dataframe tbody tr th:only-of-type {\n",
       "        vertical-align: middle;\n",
       "    }\n",
       "\n",
       "    .dataframe tbody tr th {\n",
       "        vertical-align: top;\n",
       "    }\n",
       "\n",
       "    .dataframe thead th {\n",
       "        text-align: right;\n",
       "    }\n",
       "</style>\n",
       "<table border=\"1\" class=\"dataframe\">\n",
       "  <thead>\n",
       "    <tr style=\"text-align: right;\">\n",
       "      <th></th>\n",
       "      <th>最寄駅：距離（分）</th>\n",
       "      <th>取引価格（総額）_log</th>\n",
       "    </tr>\n",
       "  </thead>\n",
       "  <tbody>\n",
       "    <tr>\n",
       "      <th>0</th>\n",
       "      <td>NaN</td>\n",
       "      <td>6.740363</td>\n",
       "    </tr>\n",
       "    <tr>\n",
       "      <th>5</th>\n",
       "      <td>NaN</td>\n",
       "      <td>6.857332</td>\n",
       "    </tr>\n",
       "    <tr>\n",
       "      <th>30</th>\n",
       "      <td>NaN</td>\n",
       "      <td>7.146128</td>\n",
       "    </tr>\n",
       "    <tr>\n",
       "      <th>33</th>\n",
       "      <td>NaN</td>\n",
       "      <td>7.491362</td>\n",
       "    </tr>\n",
       "    <tr>\n",
       "      <th>41</th>\n",
       "      <td>NaN</td>\n",
       "      <td>6.505150</td>\n",
       "    </tr>\n",
       "    <tr>\n",
       "      <th>...</th>\n",
       "      <td>...</td>\n",
       "      <td>...</td>\n",
       "    </tr>\n",
       "    <tr>\n",
       "      <th>3313857</th>\n",
       "      <td>NaN</td>\n",
       "      <td>7.462398</td>\n",
       "    </tr>\n",
       "    <tr>\n",
       "      <th>3313858</th>\n",
       "      <td>NaN</td>\n",
       "      <td>7.301030</td>\n",
       "    </tr>\n",
       "    <tr>\n",
       "      <th>3313869</th>\n",
       "      <td>NaN</td>\n",
       "      <td>7.176091</td>\n",
       "    </tr>\n",
       "    <tr>\n",
       "      <th>3313976</th>\n",
       "      <td>NaN</td>\n",
       "      <td>6.748188</td>\n",
       "    </tr>\n",
       "    <tr>\n",
       "      <th>3313982</th>\n",
       "      <td>NaN</td>\n",
       "      <td>6.623249</td>\n",
       "    </tr>\n",
       "  </tbody>\n",
       "</table>\n",
       "<p>115380 rows × 2 columns</p>\n",
       "</div>"
      ],
      "text/plain": [
       "        最寄駅：距離（分）  取引価格（総額）_log\n",
       "0             NaN      6.740363\n",
       "5             NaN      6.857332\n",
       "30            NaN      7.146128\n",
       "33            NaN      7.491362\n",
       "41            NaN      6.505150\n",
       "...           ...           ...\n",
       "3313857       NaN      7.462398\n",
       "3313858       NaN      7.301030\n",
       "3313869       NaN      7.176091\n",
       "3313976       NaN      6.748188\n",
       "3313982       NaN      6.623249\n",
       "\n",
       "[115380 rows x 2 columns]"
      ]
     },
     "execution_count": 16,
     "metadata": {},
     "output_type": "execute_result"
    }
   ],
   "source": [
    "train[['最寄駅：距離（分）', '取引価格（総額）_log']][train['最寄駅：距離（分）'].isnull() == True]"
   ]
  },
  {
   "cell_type": "code",
   "execution_count": 502,
   "metadata": {},
   "outputs": [
    {
     "name": "stderr",
     "output_type": "stream",
     "text": [
      "/Users/kotasho/opt/anaconda3/lib/python3.7/site-packages/ipykernel_launcher.py:2: SettingWithCopyWarning: \n",
      "A value is trying to be set on a copy of a slice from a DataFrame\n",
      "\n",
      "See the caveats in the documentation: https://pandas.pydata.org/pandas-docs/stable/user_guide/indexing.html#returning-a-view-versus-a-copy\n",
      "  \n"
     ]
    }
   ],
   "source": [
    "#欠損値に最頻値を代入\n",
    "data['最寄駅：距離（分）'][data['最寄駅：距離（分）'].isnull() == True] = data['最寄駅：距離（分）'].mode()[0]"
   ]
  },
  {
   "cell_type": "code",
   "execution_count": 48,
   "metadata": {},
   "outputs": [
    {
     "data": {
      "text/plain": [
       "Series([], Name: 最寄駅：距離（分）, dtype: object)"
      ]
     },
     "execution_count": 48,
     "metadata": {},
     "output_type": "execute_result"
    }
   ],
   "source": [
    "data['最寄駅：距離（分）'][data['最寄駅：距離（分）'].isnull() == True] "
   ]
  },
  {
   "cell_type": "code",
   "execution_count": 503,
   "metadata": {},
   "outputs": [],
   "source": [
    "data['最寄駅：距離（分）'] = data['最寄駅：距離（分）'].astype(int)"
   ]
  },
  {
   "cell_type": "markdown",
   "metadata": {},
   "source": [
    "## 容積率"
   ]
  },
  {
   "cell_type": "code",
   "execution_count": 108,
   "metadata": {},
   "outputs": [
    {
     "data": {
      "text/plain": [
       "容積率（％）\n",
       "1200.0    7.493097\n",
       "1100.0    7.426976\n",
       "700.0     7.363329\n",
       "1300.0    7.349885\n",
       "1000.0    7.318784\n",
       "500.0     7.317013\n",
       "600.0     7.306944\n",
       "300.0     7.294909\n",
       "80.0      7.278622\n",
       "150.0     7.272627\n",
       "100.0     7.255146\n",
       "400.0     7.224427\n",
       "800.0     7.211193\n",
       "60.0      7.204020\n",
       "50.0      7.182735\n",
       "200.0     7.167344\n",
       "900.0     7.117105\n",
       "Name: 取引価格（総額）_log, dtype: float64"
      ]
     },
     "execution_count": 108,
     "metadata": {},
     "output_type": "execute_result"
    }
   ],
   "source": [
    "train.groupby('容積率（％）').mean()['取引価格（総額）_log'].sort_values(ascending=False)"
   ]
  },
  {
   "cell_type": "code",
   "execution_count": 81,
   "metadata": {},
   "outputs": [
    {
     "data": {
      "text/plain": [
       "200.0     1533153\n",
       "400.0      544111\n",
       "300.0      446195\n",
       "500.0      214137\n",
       "600.0      201584\n",
       "150.0      118058\n",
       "100.0       50428\n",
       "700.0       43646\n",
       "800.0       35716\n",
       "80.0        30391\n",
       "1000.0       1856\n",
       "60.0         1588\n",
       "900.0         395\n",
       "50.0          145\n",
       "1200.0         55\n",
       "1100.0         30\n",
       "1300.0         25\n",
       "Name: 容積率（％）, dtype: int64"
      ]
     },
     "execution_count": 81,
     "metadata": {},
     "output_type": "execute_result"
    }
   ],
   "source": [
    "data['容積率（％）'].value_counts()"
   ]
  },
  {
   "cell_type": "code",
   "execution_count": 452,
   "metadata": {},
   "outputs": [
    {
     "data": {
      "text/plain": [
       "<matplotlib.axes._subplots.AxesSubplot at 0x1a36682d10>"
      ]
     },
     "execution_count": 452,
     "metadata": {},
     "output_type": "execute_result"
    },
    {
     "data": {
      "image/png": "[encoded data removed]",
      "text/plain": [
       "<matplotlib.figure.Figure at 0x1aac297050>"
      ]
     },
     "metadata": {
      "needs_background": "light"
     },
     "output_type": "display_data"
    }
   ],
   "source": [
    "counts = data['容積率（％）'].value_counts()\n",
    "counts.plot.bar(title='容積率（％）の頻度')"
   ]
  },
  {
   "cell_type": "code",
   "execution_count": 504,
   "metadata": {},
   "outputs": [
    {
     "name": "stderr",
     "output_type": "stream",
     "text": [
      "/Users/kotasho/opt/anaconda3/lib/python3.7/site-packages/ipykernel_launcher.py:2: SettingWithCopyWarning: \n",
      "A value is trying to be set on a copy of a slice from a DataFrame\n",
      "\n",
      "See the caveats in the documentation: https://pandas.pydata.org/pandas-docs/stable/user_guide/indexing.html#returning-a-view-versus-a-copy\n",
      "  \n"
     ]
    }
   ],
   "source": [
    "#欠損値に最頻値を代入\n",
    "data['容積率（％）'][data['容積率（％）'].isnull() == True] = data['容積率（％）'].mode()[0]"
   ]
  },
  {
   "cell_type": "code",
   "execution_count": 505,
   "metadata": {},
   "outputs": [],
   "source": [
    "data['容積率（％）'] = data['容積率（％）'].astype(int)"
   ]
  },
  {
   "cell_type": "markdown",
   "metadata": {},
   "source": [
    "## 建ぺい率"
   ]
  },
  {
   "cell_type": "code",
   "execution_count": 31,
   "metadata": {},
   "outputs": [
    {
     "data": {
      "text/plain": [
       "建ぺい率（％）\n",
       "30.0    7.354840\n",
       "40.0    7.299285\n",
       "50.0    7.259272\n",
       "80.0    7.236514\n",
       "60.0    7.210906\n",
       "70.0    6.906555\n",
       "Name: 取引価格（総額）_log, dtype: float64"
      ]
     },
     "execution_count": 31,
     "metadata": {},
     "output_type": "execute_result"
    }
   ],
   "source": [
    "train.groupby('建ぺい率（％）').mean()['取引価格（総額）_log'].sort_values(ascending=False)"
   ]
  },
  {
   "cell_type": "code",
   "execution_count": 77,
   "metadata": {},
   "outputs": [
    {
     "data": {
      "text/plain": [
       "60    1826377\n",
       "80    1292786\n",
       "67     115686\n",
       "50      73792\n",
       "40      24031\n",
       "30       2416\n",
       "70       2111\n",
       "Name: 建ぺい率（％）, dtype: int64"
      ]
     },
     "execution_count": 77,
     "metadata": {},
     "output_type": "execute_result"
    }
   ],
   "source": [
    "data['建ぺい率（％）'].value_counts()"
   ]
  },
  {
   "cell_type": "code",
   "execution_count": 109,
   "metadata": {},
   "outputs": [
    {
     "data": {
      "text/plain": [
       "67.63175874193276"
      ]
     },
     "execution_count": 109,
     "metadata": {},
     "output_type": "execute_result"
    }
   ],
   "source": [
    "data['建ぺい率（％）'].mean()"
   ]
  },
  {
   "cell_type": "code",
   "execution_count": 141,
   "metadata": {},
   "outputs": [
    {
     "data": {
      "text/plain": [
       "0    60\n",
       "dtype: object"
      ]
     },
     "execution_count": 141,
     "metadata": {},
     "output_type": "execute_result"
    }
   ],
   "source": [
    "data['建ぺい率（％）'].mode()"
   ]
  },
  {
   "cell_type": "code",
   "execution_count": 453,
   "metadata": {},
   "outputs": [
    {
     "data": {
      "text/plain": [
       "<matplotlib.axes._subplots.AxesSubplot at 0x1af8983190>"
      ]
     },
     "execution_count": 453,
     "metadata": {},
     "output_type": "execute_result"
    },
    {
     "data": {
      "image/png": "[encoded data removed]",
      "text/plain": [
       "<matplotlib.figure.Figure at 0x1af895d790>"
      ]
     },
     "metadata": {
      "needs_background": "light"
     },
     "output_type": "display_data"
    }
   ],
   "source": [
    "counts = data['建ぺい率（％）'].value_counts()\n",
    "counts.plot.bar(title='建ぺい率（％）の頻度')"
   ]
  },
  {
   "cell_type": "code",
   "execution_count": 506,
   "metadata": {},
   "outputs": [
    {
     "name": "stderr",
     "output_type": "stream",
     "text": [
      "/Users/kotasho/opt/anaconda3/lib/python3.7/site-packages/ipykernel_launcher.py:2: SettingWithCopyWarning: \n",
      "A value is trying to be set on a copy of a slice from a DataFrame\n",
      "\n",
      "See the caveats in the documentation: https://pandas.pydata.org/pandas-docs/stable/user_guide/indexing.html#returning-a-view-versus-a-copy\n",
      "  \n"
     ]
    }
   ],
   "source": [
    "#欠損値に最頻値を代入\n",
    "data['建ぺい率（％）'][data['建ぺい率（％）'].isnull() == True] = data['建ぺい率（％）'].mode()[0]"
   ]
  },
  {
   "cell_type": "code",
   "execution_count": 362,
   "metadata": {},
   "outputs": [],
   "source": [
    "data['建ぺい率（％）'] = data['建ぺい率（％）'].astype(int)"
   ]
  },
  {
   "cell_type": "markdown",
   "metadata": {},
   "source": [
    "## 面積"
   ]
  },
  {
   "cell_type": "code",
   "execution_count": 486,
   "metadata": {},
   "outputs": [
    {
     "data": {
      "text/plain": [
       "面積（㎡）\n",
       "490     9.278754\n",
       "1500    9.210720\n",
       "980     9.113943\n",
       "1300    9.069593\n",
       "520     8.928666\n",
       "          ...   \n",
       "10      6.692248\n",
       "15      6.650515\n",
       "10      6.586515\n",
       "610     6.000000\n",
       "610     6.000000\n",
       "Name: 取引価格（総額）_log, Length: 211, dtype: float64"
      ]
     },
     "execution_count": 486,
     "metadata": {},
     "output_type": "execute_result"
    }
   ],
   "source": [
    "train.groupby('面積（㎡）').mean()['取引価格（総額）_log'].sort_values(ascending=False)"
   ]
  },
  {
   "cell_type": "code",
   "execution_count": 487,
   "metadata": {},
   "outputs": [
    {
     "data": {
      "text/plain": [
       "<matplotlib.axes._subplots.AxesSubplot at 0x1aa4ec8e90>"
      ]
     },
     "execution_count": 487,
     "metadata": {},
     "output_type": "execute_result"
    },
    {
     "data": {
      "image/png": "[encoded data removed]",
      "text/plain": [
       "<matplotlib.figure.Figure at 0x1a4eb88d50>"
      ]
     },
     "metadata": {
      "needs_background": "light"
     },
     "output_type": "display_data"
    }
   ],
   "source": [
    "counts = data['面積（㎡）'].value_counts().head(30)\n",
    "counts.plot.bar(title='面積（㎡）の頻度')"
   ]
  },
  {
   "cell_type": "code",
   "execution_count": 489,
   "metadata": {},
   "outputs": [
    {
     "data": {
      "text/plain": [
       "1500    10\n",
       "Name: 面積（㎡）, dtype: int64"
      ]
     },
     "execution_count": 489,
     "metadata": {},
     "output_type": "execute_result"
    }
   ],
   "source": [
    "train['面積（㎡）'][train['面積（㎡）'] == 1500].value_counts()"
   ]
  },
  {
   "cell_type": "code",
   "execution_count": 507,
   "metadata": {},
   "outputs": [
    {
     "name": "stderr",
     "output_type": "stream",
     "text": [
      "/Users/kotasho/opt/anaconda3/lib/python3.7/site-packages/ipykernel_launcher.py:1: SettingWithCopyWarning: \n",
      "A value is trying to be set on a copy of a slice from a DataFrame\n",
      "\n",
      "See the caveats in the documentation: https://pandas.pydata.org/pandas-docs/stable/user_guide/indexing.html#returning-a-view-versus-a-copy\n",
      "  \"\"\"Entry point for launching an IPython kernel.\n"
     ]
    }
   ],
   "source": [
    "data['面積（㎡）'][data['面積（㎡）'] == '2000㎡以上'] = 2000\n",
    "data['面積（㎡）'] = data['面積（㎡）'].astype(int)"
   ]
  },
  {
   "cell_type": "code",
   "execution_count": 364,
   "metadata": {},
   "outputs": [
    {
     "data": {
      "text/html": [
       "<div>\n",
       "<style scoped>\n",
       "    .dataframe tbody tr th:only-of-type {\n",
       "        vertical-align: middle;\n",
       "    }\n",
       "\n",
       "    .dataframe tbody tr th {\n",
       "        vertical-align: top;\n",
       "    }\n",
       "\n",
       "    .dataframe thead th {\n",
       "        text-align: right;\n",
       "    }\n",
       "</style>\n",
       "<table border=\"1\" class=\"dataframe\">\n",
       "  <thead>\n",
       "    <tr style=\"text-align: right;\">\n",
       "      <th></th>\n",
       "      <th>取引価格（総額）_log</th>\n",
       "      <th>容積率（％）</th>\n",
       "      <th>建ぺい率（％）</th>\n",
       "      <th>建築年</th>\n",
       "      <th>築年数</th>\n",
       "      <th>最寄駅：距離（分）</th>\n",
       "      <th>面積（㎡）</th>\n",
       "    </tr>\n",
       "  </thead>\n",
       "  <tbody>\n",
       "    <tr>\n",
       "      <th>count</th>\n",
       "      <td>3.313995e+06</td>\n",
       "      <td>3.337199e+06</td>\n",
       "      <td>3.337199e+06</td>\n",
       "      <td>3.337199e+06</td>\n",
       "      <td>3.337199e+06</td>\n",
       "      <td>3.337199e+06</td>\n",
       "      <td>3.337199e+06</td>\n",
       "    </tr>\n",
       "    <tr>\n",
       "      <th>mean</th>\n",
       "      <td>7.220486e+00</td>\n",
       "      <td>2.984667e+02</td>\n",
       "      <td>6.736720e+01</td>\n",
       "      <td>1.993249e+03</td>\n",
       "      <td>2.007434e+01</td>\n",
       "      <td>1.065032e+01</td>\n",
       "      <td>5.859926e+01</td>\n",
       "    </tr>\n",
       "    <tr>\n",
       "      <th>std</th>\n",
       "      <td>3.543172e-01</td>\n",
       "      <td>1.468101e+02</td>\n",
       "      <td>1.031918e+01</td>\n",
       "      <td>1.582339e+01</td>\n",
       "      <td>1.611598e+01</td>\n",
       "      <td>9.596817e+00</td>\n",
       "      <td>2.674445e+01</td>\n",
       "    </tr>\n",
       "    <tr>\n",
       "      <th>min</th>\n",
       "      <td>2.653213e+00</td>\n",
       "      <td>5.000000e+01</td>\n",
       "      <td>3.000000e+01</td>\n",
       "      <td>1.930000e+03</td>\n",
       "      <td>-2.000000e+00</td>\n",
       "      <td>0.000000e+00</td>\n",
       "      <td>1.000000e+01</td>\n",
       "    </tr>\n",
       "    <tr>\n",
       "      <th>25%</th>\n",
       "      <td>7.041393e+00</td>\n",
       "      <td>2.000000e+02</td>\n",
       "      <td>6.000000e+01</td>\n",
       "      <td>1.986000e+03</td>\n",
       "      <td>9.000000e+00</td>\n",
       "      <td>5.000000e+00</td>\n",
       "      <td>4.500000e+01</td>\n",
       "    </tr>\n",
       "    <tr>\n",
       "      <th>50%</th>\n",
       "      <td>7.278754e+00</td>\n",
       "      <td>2.000000e+02</td>\n",
       "      <td>6.000000e+01</td>\n",
       "      <td>1.996000e+03</td>\n",
       "      <td>1.700000e+01</td>\n",
       "      <td>8.000000e+00</td>\n",
       "      <td>6.500000e+01</td>\n",
       "    </tr>\n",
       "    <tr>\n",
       "      <th>75%</th>\n",
       "      <td>7.462398e+00</td>\n",
       "      <td>4.000000e+02</td>\n",
       "      <td>8.000000e+01</td>\n",
       "      <td>2.004000e+03</td>\n",
       "      <td>2.700000e+01</td>\n",
       "      <td>1.400000e+01</td>\n",
       "      <td>7.500000e+01</td>\n",
       "    </tr>\n",
       "    <tr>\n",
       "      <th>max</th>\n",
       "      <td>9.934498e+00</td>\n",
       "      <td>1.300000e+03</td>\n",
       "      <td>8.000000e+01</td>\n",
       "      <td>2.021000e+03</td>\n",
       "      <td>9.000000e+01</td>\n",
       "      <td>1.200000e+02</td>\n",
       "      <td>2.000000e+03</td>\n",
       "    </tr>\n",
       "  </tbody>\n",
       "</table>\n",
       "</div>"
      ],
      "text/plain": [
       "       取引価格（総額）_log        容積率（％）       建ぺい率（％）           建築年           築年数  \\\n",
       "count  3.313995e+06  3.337199e+06  3.337199e+06  3.337199e+06  3.337199e+06   \n",
       "mean   7.220486e+00  2.984667e+02  6.736720e+01  1.993249e+03  2.007434e+01   \n",
       "std    3.543172e-01  1.468101e+02  1.031918e+01  1.582339e+01  1.611598e+01   \n",
       "min    2.653213e+00  5.000000e+01  3.000000e+01  1.930000e+03 -2.000000e+00   \n",
       "25%    7.041393e+00  2.000000e+02  6.000000e+01  1.986000e+03  9.000000e+00   \n",
       "50%    7.278754e+00  2.000000e+02  6.000000e+01  1.996000e+03  1.700000e+01   \n",
       "75%    7.462398e+00  4.000000e+02  8.000000e+01  2.004000e+03  2.700000e+01   \n",
       "max    9.934498e+00  1.300000e+03  8.000000e+01  2.021000e+03  9.000000e+01   \n",
       "\n",
       "          最寄駅：距離（分）         面積（㎡）  \n",
       "count  3.337199e+06  3.337199e+06  \n",
       "mean   1.065032e+01  5.859926e+01  \n",
       "std    9.596817e+00  2.674445e+01  \n",
       "min    0.000000e+00  1.000000e+01  \n",
       "25%    5.000000e+00  4.500000e+01  \n",
       "50%    8.000000e+00  6.500000e+01  \n",
       "75%    1.400000e+01  7.500000e+01  \n",
       "max    1.200000e+02  2.000000e+03  "
      ]
     },
     "execution_count": 364,
     "metadata": {},
     "output_type": "execute_result"
    }
   ],
   "source": [
    "data[['取引価格（総額）_log', '容積率（％）', '建ぺい率（％）', '建築年', '築年数', '最寄駅：距離（分）', '面積（㎡）']].describe()"
   ]
  },
  {
   "cell_type": "code",
   "execution_count": 365,
   "metadata": {},
   "outputs": [
    {
     "data": {
      "text/html": [
       "<div>\n",
       "<style scoped>\n",
       "    .dataframe tbody tr th:only-of-type {\n",
       "        vertical-align: middle;\n",
       "    }\n",
       "\n",
       "    .dataframe tbody tr th {\n",
       "        vertical-align: top;\n",
       "    }\n",
       "\n",
       "    .dataframe thead th {\n",
       "        text-align: right;\n",
       "    }\n",
       "</style>\n",
       "<table border=\"1\" class=\"dataframe\">\n",
       "  <thead>\n",
       "    <tr style=\"text-align: right;\">\n",
       "      <th></th>\n",
       "      <th>取引価格（総額）_log</th>\n",
       "      <th>容積率（％）</th>\n",
       "      <th>建ぺい率（％）</th>\n",
       "      <th>建築年</th>\n",
       "      <th>築年数</th>\n",
       "      <th>最寄駅：距離（分）</th>\n",
       "      <th>面積（㎡）</th>\n",
       "    </tr>\n",
       "  </thead>\n",
       "  <tbody>\n",
       "    <tr>\n",
       "      <th>取引価格（総額）_log</th>\n",
       "      <td>1.000000</td>\n",
       "      <td>0.111097</td>\n",
       "      <td>0.027148</td>\n",
       "      <td>0.401497</td>\n",
       "      <td>-0.372250</td>\n",
       "      <td>-0.214330</td>\n",
       "      <td>0.379333</td>\n",
       "    </tr>\n",
       "    <tr>\n",
       "      <th>容積率（％）</th>\n",
       "      <td>0.111097</td>\n",
       "      <td>1.000000</td>\n",
       "      <td>0.772682</td>\n",
       "      <td>0.129540</td>\n",
       "      <td>-0.118249</td>\n",
       "      <td>-0.330345</td>\n",
       "      <td>-0.279969</td>\n",
       "    </tr>\n",
       "    <tr>\n",
       "      <th>建ぺい率（％）</th>\n",
       "      <td>0.027148</td>\n",
       "      <td>0.772682</td>\n",
       "      <td>1.000000</td>\n",
       "      <td>0.113946</td>\n",
       "      <td>-0.101636</td>\n",
       "      <td>-0.309812</td>\n",
       "      <td>-0.252162</td>\n",
       "    </tr>\n",
       "    <tr>\n",
       "      <th>建築年</th>\n",
       "      <td>0.401497</td>\n",
       "      <td>0.129540</td>\n",
       "      <td>0.113946</td>\n",
       "      <td>1.000000</td>\n",
       "      <td>-0.968086</td>\n",
       "      <td>-0.102886</td>\n",
       "      <td>0.035644</td>\n",
       "    </tr>\n",
       "    <tr>\n",
       "      <th>築年数</th>\n",
       "      <td>-0.372250</td>\n",
       "      <td>-0.118249</td>\n",
       "      <td>-0.101636</td>\n",
       "      <td>-0.968086</td>\n",
       "      <td>1.000000</td>\n",
       "      <td>0.100503</td>\n",
       "      <td>-0.038044</td>\n",
       "    </tr>\n",
       "    <tr>\n",
       "      <th>最寄駅：距離（分）</th>\n",
       "      <td>-0.214330</td>\n",
       "      <td>-0.330345</td>\n",
       "      <td>-0.309812</td>\n",
       "      <td>-0.102886</td>\n",
       "      <td>0.100503</td>\n",
       "      <td>1.000000</td>\n",
       "      <td>0.156588</td>\n",
       "    </tr>\n",
       "    <tr>\n",
       "      <th>面積（㎡）</th>\n",
       "      <td>0.379333</td>\n",
       "      <td>-0.279969</td>\n",
       "      <td>-0.252162</td>\n",
       "      <td>0.035644</td>\n",
       "      <td>-0.038044</td>\n",
       "      <td>0.156588</td>\n",
       "      <td>1.000000</td>\n",
       "    </tr>\n",
       "  </tbody>\n",
       "</table>\n",
       "</div>"
      ],
      "text/plain": [
       "              取引価格（総額）_log    容積率（％）   建ぺい率（％）       建築年       築年数  最寄駅：距離（分）  \\\n",
       "取引価格（総額）_log      1.000000  0.111097  0.027148  0.401497 -0.372250  -0.214330   \n",
       "容積率（％）            0.111097  1.000000  0.772682  0.129540 -0.118249  -0.330345   \n",
       "建ぺい率（％）           0.027148  0.772682  1.000000  0.113946 -0.101636  -0.309812   \n",
       "建築年               0.401497  0.129540  0.113946  1.000000 -0.968086  -0.102886   \n",
       "築年数              -0.372250 -0.118249 -0.101636 -0.968086  1.000000   0.100503   \n",
       "最寄駅：距離（分）        -0.214330 -0.330345 -0.309812 -0.102886  0.100503   1.000000   \n",
       "面積（㎡）             0.379333 -0.279969 -0.252162  0.035644 -0.038044   0.156588   \n",
       "\n",
       "                 面積（㎡）  \n",
       "取引価格（総額）_log  0.379333  \n",
       "容積率（％）       -0.279969  \n",
       "建ぺい率（％）      -0.252162  \n",
       "建築年           0.035644  \n",
       "築年数          -0.038044  \n",
       "最寄駅：距離（分）     0.156588  \n",
       "面積（㎡）         1.000000  "
      ]
     },
     "execution_count": 365,
     "metadata": {},
     "output_type": "execute_result"
    }
   ],
   "source": [
    "train = data[data['Train_flg'] == True]\n",
    "train[['取引価格（総額）_log', '容積率（％）', '建ぺい率（％）', '建築年', '築年数', '最寄駅：距離（分）', '面積（㎡）']].corr()"
   ]
  },
  {
   "cell_type": "code",
   "execution_count": 366,
   "metadata": {},
   "outputs": [
    {
     "data": {
      "text/plain": [
       "<matplotlib.axes._subplots.AxesSubplot at 0x1aa5f59bd0>"
      ]
     },
     "execution_count": 366,
     "metadata": {},
     "output_type": "execute_result"
    },
    {
     "data": {
      "image/png": "[encoded data removed]",
      "text/plain": [
       "<matplotlib.figure.Figure at 0x1a29638150>"
      ]
     },
     "metadata": {
      "needs_background": "light"
     },
     "output_type": "display_data"
    }
   ],
   "source": [
    "corrmat = train[['取引価格（総額）_log', '容積率（％）', '建ぺい率（％）', '建築年', '築年数', '最寄駅：距離（分）', '面積（㎡）']].corr()\n",
    "plt.subplots(figsize=(12,9))\n",
    "sns.heatmap(corrmat, vmax=0.9, square=True)"
   ]
  },
  {
   "cell_type": "code",
   "execution_count": 508,
   "metadata": {},
   "outputs": [],
   "source": [
    "#特徴量を選択\n",
    "# data = data[['ID', '最寄駅：距離（分）', '面積（㎡）', '取引年月', '建築年', '築年数', '東京23区', '港区住み', \\\n",
    "#              '容積率（％）', '都市計画', '建物の構造','間取り','Train_flg','取引価格（総額）_log']]\n",
    "\n",
    "\n",
    "data = data[['ID','市区町村コード','地区名','最寄駅：距離（分）','最寄駅：名称','面積（㎡）','取引年月','建築年','築年数', \\\n",
    "             '改装', '都市計画', '建物の構造', '間取り', 'Train_flg', '取引価格（総額）_log']] \n"
   ]
  },
  {
   "cell_type": "code",
   "execution_count": 509,
   "metadata": {},
   "outputs": [
    {
     "data": {
      "text/html": [
       "<div>\n",
       "<style scoped>\n",
       "    .dataframe tbody tr th:only-of-type {\n",
       "        vertical-align: middle;\n",
       "    }\n",
       "\n",
       "    .dataframe tbody tr th {\n",
       "        vertical-align: top;\n",
       "    }\n",
       "\n",
       "    .dataframe thead th {\n",
       "        text-align: right;\n",
       "    }\n",
       "</style>\n",
       "<table border=\"1\" class=\"dataframe\">\n",
       "  <thead>\n",
       "    <tr style=\"text-align: right;\">\n",
       "      <th></th>\n",
       "      <th>ID</th>\n",
       "      <th>市区町村コード</th>\n",
       "      <th>地区名</th>\n",
       "      <th>最寄駅：距離（分）</th>\n",
       "      <th>最寄駅：名称</th>\n",
       "      <th>面積（㎡）</th>\n",
       "      <th>取引年月</th>\n",
       "      <th>建築年</th>\n",
       "      <th>築年数</th>\n",
       "      <th>改装</th>\n",
       "      <th>都市計画</th>\n",
       "      <th>建物の構造</th>\n",
       "      <th>間取り</th>\n",
       "      <th>Train_flg</th>\n",
       "      <th>取引価格（総額）_log</th>\n",
       "    </tr>\n",
       "  </thead>\n",
       "  <tbody>\n",
       "    <tr>\n",
       "      <th>0</th>\n",
       "      <td>40133875</td>\n",
       "      <td>40131</td>\n",
       "      <td>331</td>\n",
       "      <td>6</td>\n",
       "      <td>160</td>\n",
       "      <td>50</td>\n",
       "      <td>20060930</td>\n",
       "      <td>1991</td>\n",
       "      <td>15</td>\n",
       "      <td>0</td>\n",
       "      <td>NaN</td>\n",
       "      <td>ＲＣ</td>\n",
       "      <td>２ＬＤＫ</td>\n",
       "      <td>True</td>\n",
       "      <td>6.740363</td>\n",
       "    </tr>\n",
       "    <tr>\n",
       "      <th>1</th>\n",
       "      <td>40054793</td>\n",
       "      <td>40135</td>\n",
       "      <td>9144</td>\n",
       "      <td>25</td>\n",
       "      <td>1310</td>\n",
       "      <td>50</td>\n",
       "      <td>20190331</td>\n",
       "      <td>1983</td>\n",
       "      <td>36</td>\n",
       "      <td>1</td>\n",
       "      <td>準住居地域</td>\n",
       "      <td>ＲＣ</td>\n",
       "      <td>３ＤＫ</td>\n",
       "      <td>True</td>\n",
       "      <td>6.977724</td>\n",
       "    </tr>\n",
       "    <tr>\n",
       "      <th>2</th>\n",
       "      <td>40058576</td>\n",
       "      <td>40134</td>\n",
       "      <td>11250</td>\n",
       "      <td>30</td>\n",
       "      <td>3711</td>\n",
       "      <td>70</td>\n",
       "      <td>20121231</td>\n",
       "      <td>2001</td>\n",
       "      <td>11</td>\n",
       "      <td>1</td>\n",
       "      <td>第２種住居地域</td>\n",
       "      <td>ＲＣ</td>\n",
       "      <td>３ＬＤＫ</td>\n",
       "      <td>True</td>\n",
       "      <td>7.255273</td>\n",
       "    </tr>\n",
       "    <tr>\n",
       "      <th>3</th>\n",
       "      <td>40014894</td>\n",
       "      <td>40131</td>\n",
       "      <td>2882</td>\n",
       "      <td>21</td>\n",
       "      <td>2258</td>\n",
       "      <td>70</td>\n",
       "      <td>20110630</td>\n",
       "      <td>1989</td>\n",
       "      <td>22</td>\n",
       "      <td>0</td>\n",
       "      <td>工業地域</td>\n",
       "      <td>ＲＣ</td>\n",
       "      <td>２ＬＤＫ</td>\n",
       "      <td>True</td>\n",
       "      <td>6.740363</td>\n",
       "    </tr>\n",
       "    <tr>\n",
       "      <th>4</th>\n",
       "      <td>40012487</td>\n",
       "      <td>40133</td>\n",
       "      <td>10865</td>\n",
       "      <td>13</td>\n",
       "      <td>3398</td>\n",
       "      <td>65</td>\n",
       "      <td>20100930</td>\n",
       "      <td>2000</td>\n",
       "      <td>10</td>\n",
       "      <td>0</td>\n",
       "      <td>第１種住居地域</td>\n",
       "      <td>ＳＲＣ</td>\n",
       "      <td>３ＬＤＫ</td>\n",
       "      <td>True</td>\n",
       "      <td>7.431364</td>\n",
       "    </tr>\n",
       "  </tbody>\n",
       "</table>\n",
       "</div>"
      ],
      "text/plain": [
       "         ID  市区町村コード    地区名  最寄駅：距離（分）  最寄駅：名称  面積（㎡）      取引年月   建築年  築年数  \\\n",
       "0  40133875    40131    331          6     160     50  20060930  1991   15   \n",
       "1  40054793    40135   9144         25    1310     50  20190331  1983   36   \n",
       "2  40058576    40134  11250         30    3711     70  20121231  2001   11   \n",
       "3  40014894    40131   2882         21    2258     70  20110630  1989   22   \n",
       "4  40012487    40133  10865         13    3398     65  20100930  2000   10   \n",
       "\n",
       "   改装     都市計画 建物の構造   間取り  Train_flg  取引価格（総額）_log  \n",
       "0   0      NaN    ＲＣ  ２ＬＤＫ       True      6.740363  \n",
       "1   1    準住居地域    ＲＣ   ３ＤＫ       True      6.977724  \n",
       "2   1  第２種住居地域    ＲＣ  ３ＬＤＫ       True      7.255273  \n",
       "3   0     工業地域    ＲＣ  ２ＬＤＫ       True      6.740363  \n",
       "4   0  第１種住居地域   ＳＲＣ  ３ＬＤＫ       True      7.431364  "
      ]
     },
     "execution_count": 509,
     "metadata": {},
     "output_type": "execute_result"
    }
   ],
   "source": [
    "data.head()"
   ]
  },
  {
   "cell_type": "markdown",
   "metadata": {},
   "source": [
    "## カテゴリーデータ"
   ]
  },
  {
   "cell_type": "markdown",
   "metadata": {},
   "source": [
    "## 間取り"
   ]
  },
  {
   "cell_type": "code",
   "execution_count": 468,
   "metadata": {},
   "outputs": [],
   "source": [
    "pd.set_option('display.max_rows', 63)\n",
    "train['間取り'].value_counts()"
   ]
  },
  {
   "cell_type": "code",
   "execution_count": 461,
   "metadata": {},
   "outputs": [
    {
     "data": {
      "text/plain": [
       "<matplotlib.axes._subplots.AxesSubplot at 0x1a625941d0>"
      ]
     },
     "execution_count": 461,
     "metadata": {},
     "output_type": "execute_result"
    },
    {
     "data": {
      "image/png": "[encoded data removed]",
      "text/plain": [
       "<matplotlib.figure.Figure at 0x1a6256eb50>"
      ]
     },
     "metadata": {
      "needs_background": "light"
     },
     "output_type": "display_data"
    }
   ],
   "source": [
    "counts = train['間取り'].value_counts().head(30)\n",
    "counts.plot.bar(title='train 間取り')"
   ]
  },
  {
   "cell_type": "code",
   "execution_count": 190,
   "metadata": {},
   "outputs": [
    {
     "data": {
      "text/plain": [
       "３ＬＤＫ       9083\n",
       "１Ｋ         4106\n",
       "２ＬＤＫ       3617\n",
       "４ＬＤＫ       1760\n",
       "１ＬＤＫ       1228\n",
       "２ＤＫ         691\n",
       "１ＤＫ         634\n",
       "３ＤＫ         281\n",
       "１Ｒ          188\n",
       "オープンフロア     127\n",
       "２ＬＤＫ＋Ｓ      123\n",
       "４ＤＫ          39\n",
       "１ＬＤＫ＋Ｓ       37\n",
       "３ＬＤＫ＋Ｓ       29\n",
       "２Ｋ           29\n",
       "５ＬＤＫ         22\n",
       "３Ｋ           12\n",
       "２ＤＫ＋Ｓ        10\n",
       "５ＬＤＫ＋Ｓ        5\n",
       "３ＬＫ           2\n",
       "メゾネット         2\n",
       "３ＤＫ＋Ｓ         2\n",
       "５ＤＫ           2\n",
       "４Ｋ            1\n",
       "１ＤＫ＋Ｓ         1\n",
       "１Ｌ            1\n",
       "スタジオ          1\n",
       "１Ｋ＋Ｓ          1\n",
       "６ＬＤＫ          1\n",
       "Name: 間取り, dtype: int64"
      ]
     },
     "execution_count": 190,
     "metadata": {},
     "output_type": "execute_result"
    }
   ],
   "source": [
    "test['間取り'].value_counts()"
   ]
  },
  {
   "cell_type": "code",
   "execution_count": 462,
   "metadata": {},
   "outputs": [
    {
     "data": {
      "text/plain": [
       "<matplotlib.axes._subplots.AxesSubplot at 0x1a4e148690>"
      ]
     },
     "execution_count": 462,
     "metadata": {},
     "output_type": "execute_result"
    },
    {
     "data": {
      "image/png": "[encoded data removed]",
      "text/plain": [
       "<matplotlib.figure.Figure at 0x1aa4077950>"
      ]
     },
     "metadata": {
      "needs_background": "light"
     },
     "output_type": "display_data"
    }
   ],
   "source": [
    "counts = test['間取り'].value_counts().head(30)\n",
    "counts.plot.bar(title='test 間取り')"
   ]
  },
  {
   "cell_type": "code",
   "execution_count": 469,
   "metadata": {},
   "outputs": [],
   "source": [
    "data['間取り'].value_counts()"
   ]
  },
  {
   "cell_type": "code",
   "execution_count": 470,
   "metadata": {},
   "outputs": [],
   "source": [
    "data['間取り'].unique()"
   ]
  },
  {
   "cell_type": "code",
   "execution_count": 195,
   "metadata": {},
   "outputs": [
    {
     "data": {
      "text/plain": [
       "<bound method Series.count of 8          NaN\n",
       "14         NaN\n",
       "42         NaN\n",
       "55         NaN\n",
       "99         NaN\n",
       "          ... \n",
       "3313909    NaN\n",
       "3313921    NaN\n",
       "3313965    NaN\n",
       "3313973    NaN\n",
       "3313977    NaN\n",
       "Name: 間取り, Length: 114770, dtype: object>"
      ]
     },
     "execution_count": 195,
     "metadata": {},
     "output_type": "execute_result"
    }
   ],
   "source": [
    "data['間取り'][data['間取り'].isnull() == True].count"
   ]
  },
  {
   "cell_type": "code",
   "execution_count": 510,
   "metadata": {},
   "outputs": [],
   "source": [
    "#欠損値に最頻値を代入\n",
    "data['間取り'][data['間取り'].isnull() == True] = data['間取り'].mode()[0]"
   ]
  },
  {
   "cell_type": "code",
   "execution_count": 511,
   "metadata": {},
   "outputs": [],
   "source": [
    "\n",
    "le = LabelEncoder()\n",
    "encoded = le.fit_transform(data['間取り'].values)\n",
    "decoded = le.inverse_transform(encoded)\n",
    "data['間取り'] = encoded"
   ]
  },
  {
   "cell_type": "markdown",
   "metadata": {},
   "source": [
    "## 用途"
   ]
  },
  {
   "cell_type": "code",
   "execution_count": 434,
   "metadata": {},
   "outputs": [
    {
     "data": {
      "text/plain": [
       "用途\n",
       "店舗、その他           8.278151\n",
       "住宅、倉庫            7.740363\n",
       "事務所、倉庫           7.565167\n",
       "住宅、駐車場           7.548116\n",
       "作業場              7.516712\n",
       "住宅、事務所、駐車場、店舗    7.505150\n",
       "事務所、店舗           7.245949\n",
       "住宅、事務所           7.239629\n",
       "工場               7.233756\n",
       "住宅               7.218959\n",
       "倉庫、店舗            7.216245\n",
       "住宅、その他           7.189250\n",
       "店舗               7.148106\n",
       "住宅、店舗            6.985311\n",
       "事務所              6.983416\n",
       "倉庫、駐車場           6.942198\n",
       "事務所、駐車場          6.939519\n",
       "住宅、店舗、その他        6.903090\n",
       "駐車場、店舗           6.840892\n",
       "その他              6.826670\n",
       "倉庫               6.646319\n",
       "駐車場              6.634583\n",
       "Name: 取引価格（総額）_log, dtype: float64"
      ]
     },
     "execution_count": 434,
     "metadata": {},
     "output_type": "execute_result"
    }
   ],
   "source": [
    "train.groupby('用途').mean()['取引価格（総額）_log'].sort_values(ascending=False)"
   ]
  },
  {
   "cell_type": "code",
   "execution_count": 464,
   "metadata": {},
   "outputs": [
    {
     "data": {
      "text/plain": [
       "住宅               3006090\n",
       "事務所                17915\n",
       "店舗                 14530\n",
       "その他                 3965\n",
       "駐車場                  495\n",
       "事務所、店舗               320\n",
       "倉庫                   285\n",
       "住宅、店舗                270\n",
       "住宅、事務所               170\n",
       "住宅、その他                80\n",
       "工場                    35\n",
       "住宅、駐車場                30\n",
       "倉庫、店舗                 20\n",
       "倉庫、駐車場                15\n",
       "店舗、その他                10\n",
       "作業場                   10\n",
       "事務所、倉庫                10\n",
       "駐車場、店舗                10\n",
       "住宅、事務所、駐車場、店舗          5\n",
       "住宅、倉庫                  5\n",
       "住宅、店舗、その他              5\n",
       "事務所、駐車場                5\n",
       "Name: 用途, dtype: int64"
      ]
     },
     "execution_count": 464,
     "metadata": {},
     "output_type": "execute_result"
    }
   ],
   "source": [
    "train['用途'].value_counts()"
   ]
  },
  {
   "cell_type": "code",
   "execution_count": 463,
   "metadata": {},
   "outputs": [
    {
     "data": {
      "text/plain": [
       "住宅        16314\n",
       "事務所          69\n",
       "店舗           51\n",
       "その他          18\n",
       "駐車場           5\n",
       "住宅、店舗         2\n",
       "倉庫            2\n",
       "事務所、店舗        2\n",
       "作業場           1\n",
       "住宅、その他        1\n",
       "住宅、駐車場        1\n",
       "Name: 用途, dtype: int64"
      ]
     },
     "execution_count": 463,
     "metadata": {},
     "output_type": "execute_result"
    }
   ],
   "source": [
    "test['用途'].value_counts()"
   ]
  },
  {
   "cell_type": "code",
   "execution_count": 435,
   "metadata": {},
   "outputs": [
    {
     "data": {
      "text/plain": [
       "住宅               3022404\n",
       "事務所                17984\n",
       "店舗                 14581\n",
       "その他                 3983\n",
       "駐車場                  500\n",
       "事務所、店舗               322\n",
       "倉庫                   287\n",
       "住宅、店舗                272\n",
       "住宅、事務所               170\n",
       "住宅、その他                81\n",
       "工場                    35\n",
       "住宅、駐車場                31\n",
       "倉庫、店舗                 20\n",
       "倉庫、駐車場                15\n",
       "作業場                   11\n",
       "店舗、その他                10\n",
       "事務所、倉庫                10\n",
       "駐車場、店舗                10\n",
       "住宅、事務所、駐車場、店舗          5\n",
       "住宅、倉庫                  5\n",
       "住宅、店舗、その他              5\n",
       "事務所、駐車場                5\n",
       "Name: 用途, dtype: int64"
      ]
     },
     "execution_count": 435,
     "metadata": {},
     "output_type": "execute_result"
    }
   ],
   "source": [
    "data['用途'].value_counts()"
   ]
  },
  {
   "cell_type": "code",
   "execution_count": 513,
   "metadata": {},
   "outputs": [],
   "source": [
    "#欠損値に最頻値を代入\n",
    "#data['用途'][data['用途'].isnull() == True] = data['用途'].mode()[0]"
   ]
  },
  {
   "cell_type": "code",
   "execution_count": 483,
   "metadata": {},
   "outputs": [
    {
     "data": {
      "text/plain": [
       "<matplotlib.axes._subplots.AxesSubplot at 0x1a3a888a90>"
      ]
     },
     "execution_count": 483,
     "metadata": {},
     "output_type": "execute_result"
    },
    {
     "data": {
      "image/png": "[encoded data removed]",
      "text/plain": [
       "<matplotlib.figure.Figure at 0x1a4d0a1dd0>"
      ]
     },
     "metadata": {
      "needs_background": "light"
     },
     "output_type": "display_data"
    }
   ],
   "source": [
    "counts = data['用途'].value_counts()\n",
    "counts.plot.bar(title='用途の頻度')"
   ]
  },
  {
   "cell_type": "code",
   "execution_count": 372,
   "metadata": {},
   "outputs": [],
   "source": [
    "# data_dummies = data[['用途']]\n",
    "# data_dummies = pd.get_dummies(data_dummies)"
   ]
  },
  {
   "cell_type": "code",
   "execution_count": 373,
   "metadata": {},
   "outputs": [],
   "source": [
    "# data = pd.concat([data, data_dummies], axis=1)\n",
    "# data = data.drop(['用途'], axis=1)"
   ]
  },
  {
   "cell_type": "code",
   "execution_count": 253,
   "metadata": {},
   "outputs": [
    {
     "data": {
      "text/plain": [
       "<bound method Series.count of 1          NaN\n",
       "12         NaN\n",
       "15         NaN\n",
       "22         NaN\n",
       "23         NaN\n",
       "          ... \n",
       "3337193    NaN\n",
       "3337194    NaN\n",
       "3337195    NaN\n",
       "3337196    NaN\n",
       "3337197    NaN\n",
       "Name: 用途, Length: 276453, dtype: object>"
      ]
     },
     "execution_count": 253,
     "metadata": {},
     "output_type": "execute_result"
    }
   ],
   "source": [
    "data['用途'][data['用途'].isnull() == True].count"
   ]
  },
  {
   "cell_type": "code",
   "execution_count": 514,
   "metadata": {},
   "outputs": [],
   "source": [
    "data = data[['ID', '市区町村コード', '地区名','最寄駅：距離（分）', '最寄駅：名称', '面積（㎡）', '取引年月', '建築年', '築年数', \\\n",
    "             '改装', '都市計画', '建物の構造', '間取り', 'Train_flg', '取引価格（総額）_log']] "
   ]
  },
  {
   "cell_type": "markdown",
   "metadata": {},
   "source": [
    "## 都道府県名"
   ]
  },
  {
   "cell_type": "code",
   "execution_count": 476,
   "metadata": {},
   "outputs": [
    {
     "data": {
      "text/plain": [
       "都道府県名\n",
       "東京都     7.394685\n",
       "神奈川県    7.267041\n",
       "沖縄県     7.204333\n",
       "滋賀県     7.184368\n",
       "埼玉県     7.177111\n",
       "大阪府     7.176991\n",
       "島根県     7.174041\n",
       "京都府     7.173578\n",
       "長崎県     7.169579\n",
       "兵庫県     7.168601\n",
       "千葉県     7.160767\n",
       "愛知県     7.122665\n",
       "広島県     7.114238\n",
       "三重県     7.105168\n",
       "鹿児島県    7.101735\n",
       "山形県     7.094201\n",
       "岐阜県     7.086693\n",
       "長野県     7.081627\n",
       "茨城県     7.076072\n",
       "宮城県     7.062260\n",
       "奈良県     7.061429\n",
       "岡山県     7.061413\n",
       "山口県     7.049023\n",
       "富山県     7.046729\n",
       "佐賀県     7.028398\n",
       "和歌山県    7.027436\n",
       "静岡県     7.026931\n",
       "福岡県     7.015389\n",
       "高知県     7.001362\n",
       "熊本県     6.990520\n",
       "福島県     6.988316\n",
       "北海道     6.985382\n",
       "宮崎県     6.981247\n",
       "福井県     6.976732\n",
       "愛媛県     6.971848\n",
       "鳥取県     6.970546\n",
       "青森県     6.960592\n",
       "栃木県     6.952965\n",
       "秋田県     6.951336\n",
       "徳島県     6.945395\n",
       "石川県     6.944744\n",
       "岩手県     6.935738\n",
       "群馬県     6.927526\n",
       "新潟県     6.921301\n",
       "大分県     6.919833\n",
       "香川県     6.918079\n",
       "山梨県     6.855189\n",
       "Name: 取引価格（総額）_log, dtype: float64"
      ]
     },
     "execution_count": 476,
     "metadata": {},
     "output_type": "execute_result"
    }
   ],
   "source": [
    "train.groupby('都道府県名').mean()['取引価格（総額）_log'].sort_values(ascending=False)"
   ]
  },
  {
   "cell_type": "code",
   "execution_count": null,
   "metadata": {},
   "outputs": [],
   "source": [
    "train['都道府県名'].value_counts()"
   ]
  },
  {
   "cell_type": "code",
   "execution_count": 20,
   "metadata": {},
   "outputs": [
    {
     "data": {
      "text/plain": [
       "市区町村コード\n",
       "13103    7.609970\n",
       "12227    7.562012\n",
       "14118    7.529216\n",
       "13203    7.504759\n",
       "13102    7.496757\n",
       "           ...   \n",
       "20217    6.232271\n",
       "15108    6.113943\n",
       "14401    6.089018\n",
       "22429    6.039591\n",
       "29441    4.849485\n",
       "Name: 取引価格（総額）_log, Length: 618, dtype: float64"
      ]
     },
     "execution_count": 20,
     "metadata": {},
     "output_type": "execute_result"
    }
   ],
   "source": [
    "train.groupby('市区町村コード').mean()['取引価格（総額）_log'].sort_values(ascending=False)"
   ]
  },
  {
   "cell_type": "markdown",
   "metadata": {},
   "source": [
    "## 都市計画"
   ]
  },
  {
   "cell_type": "code",
   "execution_count": 414,
   "metadata": {},
   "outputs": [
    {
     "data": {
      "text/plain": [
       "都市計画\n",
       "工業専用地域                    7.470382\n",
       "第２種低層住居専用地域               7.363423\n",
       "第１種低層住居専用地域               7.319188\n",
       "準工業地域                     7.280125\n",
       "第２種住居地域                   7.265962\n",
       "工業地域                      7.259972\n",
       "商業地域                      7.240130\n",
       "準住居地域                     7.235998\n",
       "近隣商業地域                    7.228263\n",
       "準都市計画区域                   7.214626\n",
       "第２種中高層住居専用地域              7.189163\n",
       "第１種中高層住居専用地域              7.178279\n",
       "第１種住居地域                   7.173307\n",
       "市街化区域及び市街化調整区域外の都市計画区域    6.888981\n",
       "市街化調整区域                   6.853498\n",
       "都市計画区域外                   6.090738\n",
       "Name: 取引価格（総額）_log, dtype: float64"
      ]
     },
     "execution_count": 414,
     "metadata": {},
     "output_type": "execute_result"
    }
   ],
   "source": [
    "train.groupby('都市計画').mean()['取引価格（総額）_log'].sort_values(ascending=False)"
   ]
  },
  {
   "cell_type": "code",
   "execution_count": 39,
   "metadata": {},
   "outputs": [
    {
     "data": {
      "text/plain": [
       "商業地域                      6857\n",
       "第１種住居地域                   3489\n",
       "第１種中高層住居専用地域              3428\n",
       "準工業地域                     2778\n",
       "近隣商業地域                    2460\n",
       "第２種住居地域                   1073\n",
       "第２種中高層住居専用地域               954\n",
       "第１種低層住居専用地域                661\n",
       "工業地域                       582\n",
       "準住居地域                      419\n",
       "市街化調整区域                    134\n",
       "第２種低層住居専用地域                 31\n",
       "都市計画区域外                     10\n",
       "工業専用地域                       7\n",
       "市街化区域及び市街化調整区域外の都市計画区域       5\n",
       "Name: 都市計画, dtype: int64"
      ]
     },
     "execution_count": 39,
     "metadata": {},
     "output_type": "execute_result"
    }
   ],
   "source": [
    "test['都市計画'].value_counts()"
   ]
  },
  {
   "cell_type": "code",
   "execution_count": 438,
   "metadata": {},
   "outputs": [
    {
     "data": {
      "text/plain": [
       "都市計画\n",
       "工業専用地域                    7.470382\n",
       "第２種低層住居専用地域               7.363423\n",
       "第１種低層住居専用地域               7.319188\n",
       "準工業地域                     7.280125\n",
       "第２種住居地域                   7.265962\n",
       "工業地域                      7.259972\n",
       "商業地域                      7.240130\n",
       "準住居地域                     7.235998\n",
       "近隣商業地域                    7.228263\n",
       "準都市計画区域                   7.214626\n",
       "第２種中高層住居専用地域              7.189163\n",
       "第１種中高層住居専用地域              7.178279\n",
       "第１種住居地域                   7.173307\n",
       "市街化区域及び市街化調整区域外の都市計画区域    6.888981\n",
       "市街化調整区域                   6.853498\n",
       "都市計画区域外                   6.090738\n",
       "Name: 取引価格（総額）_log, dtype: float64"
      ]
     },
     "execution_count": 438,
     "metadata": {},
     "output_type": "execute_result"
    }
   ],
   "source": [
    "train.groupby('都市計画').mean()['取引価格（総額）_log'].sort_values(ascending=False)"
   ]
  },
  {
   "cell_type": "code",
   "execution_count": 346,
   "metadata": {},
   "outputs": [
    {
     "data": {
      "text/plain": [
       "<matplotlib.axes._subplots.AxesSubplot at 0x1abc5038d0>"
      ]
     },
     "execution_count": 346,
     "metadata": {},
     "output_type": "execute_result"
    },
    {
     "data": {
      "image/png": "[encoded data removed]",
      "text/plain": [
       "<matplotlib.figure.Figure at 0x1a43597a10>"
      ]
     },
     "metadata": {
      "needs_background": "light"
     },
     "output_type": "display_data"
    }
   ],
   "source": [
    "counts = train['都市計画'].value_counts()\n",
    "counts\n",
    "counts.plot.bar(title='train:都市計画')"
   ]
  },
  {
   "cell_type": "code",
   "execution_count": 528,
   "metadata": {},
   "outputs": [
    {
     "data": {
      "text/plain": [
       "<matplotlib.axes._subplots.AxesSubplot at 0x1a6f8c7410>"
      ]
     },
     "execution_count": 528,
     "metadata": {},
     "output_type": "execute_result"
    },
    {
     "data": {
      "image/png": "[encoded data removed]",
      "text/plain": [
       "<matplotlib.figure.Figure at 0x1a5a378650>"
      ]
     },
     "metadata": {
      "needs_background": "light"
     },
     "output_type": "display_data"
    }
   ],
   "source": [
    "counts = data['都市計画'].value_counts()\n",
    "counts\n",
    "counts.plot.bar(title='data:都市計画')"
   ]
  },
  {
   "cell_type": "code",
   "execution_count": 114,
   "metadata": {},
   "outputs": [
    {
     "data": {
      "text/plain": [
       "商業地域                      900675\n",
       "第１種中高層住居専用地域              516465\n",
       "第１種住居地域                   506585\n",
       "準工業地域                     377960\n",
       "近隣商業地域                    333330\n",
       "第２種中高層住居専用地域              152600\n",
       "第２種住居地域                   152570\n",
       "第１種低層住居専用地域               100805\n",
       "工業地域                       82890\n",
       "準住居地域                      65875\n",
       "市街化調整区域                    20865\n",
       "第２種低層住居専用地域                 4530\n",
       "市街化区域及び市街化調整区域外の都市計画区域      1565\n",
       "工業専用地域                      1150\n",
       "都市計画区域外                     1110\n",
       "準都市計画区域                       35\n",
       "Name: 都市計画, dtype: int64"
      ]
     },
     "execution_count": 114,
     "metadata": {},
     "output_type": "execute_result"
    }
   ],
   "source": [
    "train['都市計画'].value_counts()"
   ]
  },
  {
   "cell_type": "code",
   "execution_count": 113,
   "metadata": {},
   "outputs": [
    {
     "data": {
      "text/plain": [
       "商業地域                      6857\n",
       "第１種住居地域                   3489\n",
       "第１種中高層住居専用地域              3428\n",
       "準工業地域                     2778\n",
       "近隣商業地域                    2460\n",
       "第２種住居地域                   1073\n",
       "第２種中高層住居専用地域               954\n",
       "第１種低層住居専用地域                661\n",
       "工業地域                       582\n",
       "準住居地域                      419\n",
       "市街化調整区域                    134\n",
       "第２種低層住居専用地域                 31\n",
       "都市計画区域外                     10\n",
       "工業専用地域                       7\n",
       "市街化区域及び市街化調整区域外の都市計画区域       5\n",
       "Name: 都市計画, dtype: int64"
      ]
     },
     "execution_count": 113,
     "metadata": {},
     "output_type": "execute_result"
    }
   ],
   "source": [
    "test['都市計画'].value_counts()"
   ]
  },
  {
   "cell_type": "code",
   "execution_count": 530,
   "metadata": {},
   "outputs": [
    {
     "data": {
      "text/plain": [
       "<matplotlib.axes._subplots.AxesSubplot at 0x1ab4b1f4d0>"
      ]
     },
     "execution_count": 530,
     "metadata": {},
     "output_type": "execute_result"
    },
    {
     "data": {
      "image/png": "[encoded data removed]",
      "text/plain": [
       "<matplotlib.figure.Figure at 0x1a51727350>"
      ]
     },
     "metadata": {
      "needs_background": "light"
     },
     "output_type": "display_data"
    }
   ],
   "source": [
    "counts = data['都市計画'].value_counts()\n",
    "counts\n",
    "counts.plot.bar(title='data:都市計画')"
   ]
  },
  {
   "cell_type": "code",
   "execution_count": 515,
   "metadata": {},
   "outputs": [
    {
     "name": "stderr",
     "output_type": "stream",
     "text": [
      "/Users/kotasho/opt/anaconda3/lib/python3.7/site-packages/ipykernel_launcher.py:2: SettingWithCopyWarning: \n",
      "A value is trying to be set on a copy of a slice from a DataFrame\n",
      "\n",
      "See the caveats in the documentation: https://pandas.pydata.org/pandas-docs/stable/user_guide/indexing.html#returning-a-view-versus-a-copy\n",
      "  \n"
     ]
    }
   ],
   "source": [
    "#欠損値に最頻値を代入\n",
    "data['都市計画'][data['都市計画'].isnull() == True] = data['都市計画'].mode()[0]"
   ]
  },
  {
   "cell_type": "code",
   "execution_count": 516,
   "metadata": {},
   "outputs": [],
   "source": [
    "le = LabelEncoder()\n",
    "encoded = le.fit_transform(data['都市計画'].values)\n",
    "decoded = le.inverse_transform(encoded)\n",
    "data['都市計画'] = encoded"
   ]
  },
  {
   "cell_type": "code",
   "execution_count": 138,
   "metadata": {},
   "outputs": [],
   "source": [
    "# data_dummies = data[['都市計画']]\n",
    "# data_dummies = pd.get_dummies(data_dummies)"
   ]
  },
  {
   "cell_type": "code",
   "execution_count": 139,
   "metadata": {},
   "outputs": [],
   "source": [
    "# data = pd.concat([data, data_dummies], axis=1)\n",
    "# data = data.drop(['都市計画'], axis=1)"
   ]
  },
  {
   "cell_type": "code",
   "execution_count": 140,
   "metadata": {},
   "outputs": [],
   "source": [
    "#data = data.drop(['都市計画_市街化調整区域', '都市計画_工業地域','都市計画_第２種低層住居専用地域',\\\n",
    "#                  '都市計画_都市計画区域外', '都市計画_工業専用地域', '都市計画_市街化区域及び市街化調整区域外の都市計画区域'], axis=1)\n",
    "\n",
    "#'都市計画_準住居地域',"
   ]
  },
  {
   "cell_type": "markdown",
   "metadata": {},
   "source": [
    "## 建物の構造"
   ]
  },
  {
   "cell_type": "code",
   "execution_count": 413,
   "metadata": {},
   "outputs": [
    {
     "data": {
      "text/plain": [
       "建物の構造\n",
       "ＲＣ、木造         7.778151\n",
       "ＲＣ、鉄骨造        7.468978\n",
       "ＲＣ、ブロック造      7.462398\n",
       "ＳＲＣ、ＲＣ、鉄骨造    7.397940\n",
       "軽量鉄骨造         7.281471\n",
       "ＲＣ            7.245342\n",
       "ＳＲＣ、鉄骨造       7.202268\n",
       "ＳＲＣ、ＲＣ        7.177303\n",
       "ＳＲＣ           7.169838\n",
       "木造            7.076032\n",
       "鉄骨造           6.976532\n",
       "ブロック造         6.951073\n",
       "Name: 取引価格（総額）_log, dtype: float64"
      ]
     },
     "execution_count": 413,
     "metadata": {},
     "output_type": "execute_result"
    }
   ],
   "source": [
    "train.groupby('建物の構造').mean()['取引価格（総額）_log'].sort_values(ascending=False)"
   ]
  },
  {
   "cell_type": "code",
   "execution_count": 54,
   "metadata": {},
   "outputs": [
    {
     "data": {
      "text/plain": [
       "ＲＣ            2240465\n",
       "ＳＲＣ            966905\n",
       "鉄骨造             22085\n",
       "ＳＲＣ、ＲＣ           3535\n",
       "ＲＣ、鉄骨造           1645\n",
       "ＳＲＣ、鉄骨造           740\n",
       "木造                425\n",
       "ブロック造             110\n",
       "軽量鉄骨造              90\n",
       "ＳＲＣ、ＲＣ、鉄骨造         10\n",
       "ＲＣ、ブロック造            5\n",
       "ＲＣ、木造               5\n",
       "Name: 建物の構造, dtype: int64"
      ]
     },
     "execution_count": 54,
     "metadata": {},
     "output_type": "execute_result"
    }
   ],
   "source": [
    "train['建物の構造'].value_counts()"
   ]
  },
  {
   "cell_type": "code",
   "execution_count": 202,
   "metadata": {},
   "outputs": [
    {
     "data": {
      "text/plain": [
       "ＲＣ        15573\n",
       "ＳＲＣ        6050\n",
       "鉄骨造         117\n",
       "ＳＲＣ、ＲＣ       30\n",
       "ＲＣ、鉄骨造        9\n",
       "軽量鉄骨造         1\n",
       "Name: 建物の構造, dtype: int64"
      ]
     },
     "execution_count": 202,
     "metadata": {},
     "output_type": "execute_result"
    }
   ],
   "source": [
    "test['建物の構造'].value_counts()"
   ]
  },
  {
   "cell_type": "code",
   "execution_count": 223,
   "metadata": {},
   "outputs": [
    {
     "data": {
      "text/plain": [
       "ＲＣ            2256038\n",
       "ＳＲＣ            972955\n",
       "鉄骨造             22202\n",
       "ＳＲＣ、ＲＣ           3565\n",
       "ＲＣ、鉄骨造           1654\n",
       "ＳＲＣ、鉄骨造           740\n",
       "木造                425\n",
       "ブロック造             110\n",
       "軽量鉄骨造              91\n",
       "ＳＲＣ、ＲＣ、鉄骨造         10\n",
       "ＲＣ、木造               5\n",
       "ＲＣ、ブロック造            5\n",
       "Name: 建物の構造, dtype: int64"
      ]
     },
     "execution_count": 223,
     "metadata": {},
     "output_type": "execute_result"
    }
   ],
   "source": [
    "data['建物の構造'].value_counts()"
   ]
  },
  {
   "cell_type": "code",
   "execution_count": 534,
   "metadata": {},
   "outputs": [
    {
     "data": {
      "text/plain": [
       "<matplotlib.axes._subplots.AxesSubplot at 0x1a2f8ef210>"
      ]
     },
     "execution_count": 534,
     "metadata": {},
     "output_type": "execute_result"
    },
    {
     "data": {
      "image/png": "[encoded data removed]",
      "text/plain": [
       "<matplotlib.figure.Figure at 0x1a9cd24790>"
      ]
     },
     "metadata": {
      "needs_background": "light"
     },
     "output_type": "display_data"
    }
   ],
   "source": [
    "counts = train['建物の構造'].value_counts()\n",
    "counts\n",
    "counts.plot.bar(title='train:建物の構造')"
   ]
  },
  {
   "cell_type": "code",
   "execution_count": 535,
   "metadata": {},
   "outputs": [
    {
     "data": {
      "text/plain": [
       "<matplotlib.axes._subplots.AxesSubplot at 0x1a2de24250>"
      ]
     },
     "execution_count": 535,
     "metadata": {},
     "output_type": "execute_result"
    },
    {
     "data": {
      "image/png": "[encoded data removed]",
      "text/plain": [
       "<matplotlib.figure.Figure at 0x1a6f8c0410>"
      ]
     },
     "metadata": {
      "needs_background": "light"
     },
     "output_type": "display_data"
    }
   ],
   "source": [
    "counts = test['建物の構造'].value_counts()\n",
    "counts\n",
    "counts.plot.bar(title='test:建物の構造')"
   ]
  },
  {
   "cell_type": "code",
   "execution_count": 517,
   "metadata": {},
   "outputs": [
    {
     "name": "stderr",
     "output_type": "stream",
     "text": [
      "/Users/kotasho/opt/anaconda3/lib/python3.7/site-packages/ipykernel_launcher.py:1: SettingWithCopyWarning: \n",
      "A value is trying to be set on a copy of a slice from a DataFrame\n",
      "\n",
      "See the caveats in the documentation: https://pandas.pydata.org/pandas-docs/stable/user_guide/indexing.html#returning-a-view-versus-a-copy\n",
      "  \"\"\"Entry point for launching an IPython kernel.\n"
     ]
    }
   ],
   "source": [
    "data['建物の構造'][data['建物の構造'].isnull() == True] = data['建物の構造'].mode()[0]"
   ]
  },
  {
   "cell_type": "code",
   "execution_count": 518,
   "metadata": {},
   "outputs": [],
   "source": [
    "data_dummies = data['建物の構造']\n",
    "data_dummies = pd.get_dummies(data_dummies)"
   ]
  },
  {
   "cell_type": "code",
   "execution_count": 519,
   "metadata": {},
   "outputs": [],
   "source": [
    "data = pd.concat([data, data_dummies], axis=1)\n",
    "data = data.drop(['建物の構造'], axis=1)"
   ]
  },
  {
   "cell_type": "code",
   "execution_count": 520,
   "metadata": {},
   "outputs": [],
   "source": [
    "#少ないものは、削除　\n",
    "data = data.drop(['鉄骨造', 'ＳＲＣ、ＲＣ', 'ＲＣ、鉄骨造', 'ＳＲＣ、鉄骨造', '木造', 'ブロック造', '軽量鉄骨造', 'ＳＲＣ、ＲＣ、鉄骨造',\\\n",
    "          'ＲＣ、ブロック造', 'ＲＣ、木造'], axis=1)"
   ]
  },
  {
   "cell_type": "code",
   "execution_count": 563,
   "metadata": {},
   "outputs": [
    {
     "data": {
      "text/html": [
       "<div>\n",
       "<style scoped>\n",
       "    .dataframe tbody tr th:only-of-type {\n",
       "        vertical-align: middle;\n",
       "    }\n",
       "\n",
       "    .dataframe tbody tr th {\n",
       "        vertical-align: top;\n",
       "    }\n",
       "\n",
       "    .dataframe thead th {\n",
       "        text-align: right;\n",
       "    }\n",
       "</style>\n",
       "<table border=\"1\" class=\"dataframe\">\n",
       "  <thead>\n",
       "    <tr style=\"text-align: right;\">\n",
       "      <th></th>\n",
       "      <th>ID</th>\n",
       "      <th>市区町村コード</th>\n",
       "      <th>地区名</th>\n",
       "      <th>最寄駅：距離（分）</th>\n",
       "      <th>最寄駅：名称</th>\n",
       "      <th>面積（㎡）</th>\n",
       "      <th>取引年月</th>\n",
       "      <th>築年数</th>\n",
       "      <th>改装</th>\n",
       "      <th>間取り</th>\n",
       "      <th>Train_flg</th>\n",
       "      <th>取引価格（総額）_log</th>\n",
       "      <th>ＲＣ</th>\n",
       "      <th>ＳＲＣ</th>\n",
       "    </tr>\n",
       "  </thead>\n",
       "  <tbody>\n",
       "    <tr>\n",
       "      <th>0</th>\n",
       "      <td>40133875</td>\n",
       "      <td>40131</td>\n",
       "      <td>331</td>\n",
       "      <td>6</td>\n",
       "      <td>160</td>\n",
       "      <td>50</td>\n",
       "      <td>20060930</td>\n",
       "      <td>15</td>\n",
       "      <td>0</td>\n",
       "      <td>25</td>\n",
       "      <td>True</td>\n",
       "      <td>6.740363</td>\n",
       "      <td>1</td>\n",
       "      <td>0</td>\n",
       "    </tr>\n",
       "    <tr>\n",
       "      <th>1</th>\n",
       "      <td>40054793</td>\n",
       "      <td>40135</td>\n",
       "      <td>9144</td>\n",
       "      <td>25</td>\n",
       "      <td>1310</td>\n",
       "      <td>50</td>\n",
       "      <td>20190331</td>\n",
       "      <td>36</td>\n",
       "      <td>1</td>\n",
       "      <td>31</td>\n",
       "      <td>True</td>\n",
       "      <td>6.977724</td>\n",
       "      <td>1</td>\n",
       "      <td>0</td>\n",
       "    </tr>\n",
       "    <tr>\n",
       "      <th>2</th>\n",
       "      <td>40058576</td>\n",
       "      <td>40134</td>\n",
       "      <td>11250</td>\n",
       "      <td>30</td>\n",
       "      <td>3711</td>\n",
       "      <td>70</td>\n",
       "      <td>20121231</td>\n",
       "      <td>11</td>\n",
       "      <td>1</td>\n",
       "      <td>37</td>\n",
       "      <td>True</td>\n",
       "      <td>7.255273</td>\n",
       "      <td>1</td>\n",
       "      <td>0</td>\n",
       "    </tr>\n",
       "    <tr>\n",
       "      <th>3</th>\n",
       "      <td>40014894</td>\n",
       "      <td>40131</td>\n",
       "      <td>2882</td>\n",
       "      <td>21</td>\n",
       "      <td>2258</td>\n",
       "      <td>70</td>\n",
       "      <td>20110630</td>\n",
       "      <td>22</td>\n",
       "      <td>0</td>\n",
       "      <td>25</td>\n",
       "      <td>True</td>\n",
       "      <td>6.740363</td>\n",
       "      <td>1</td>\n",
       "      <td>0</td>\n",
       "    </tr>\n",
       "    <tr>\n",
       "      <th>4</th>\n",
       "      <td>40012487</td>\n",
       "      <td>40133</td>\n",
       "      <td>10865</td>\n",
       "      <td>13</td>\n",
       "      <td>3398</td>\n",
       "      <td>65</td>\n",
       "      <td>20100930</td>\n",
       "      <td>10</td>\n",
       "      <td>0</td>\n",
       "      <td>37</td>\n",
       "      <td>True</td>\n",
       "      <td>7.431364</td>\n",
       "      <td>0</td>\n",
       "      <td>1</td>\n",
       "    </tr>\n",
       "  </tbody>\n",
       "</table>\n",
       "</div>"
      ],
      "text/plain": [
       "         ID  市区町村コード    地区名  最寄駅：距離（分）  最寄駅：名称  面積（㎡）      取引年月  築年数  改装  間取り  \\\n",
       "0  40133875    40131    331          6     160     50  20060930   15   0   25   \n",
       "1  40054793    40135   9144         25    1310     50  20190331   36   1   31   \n",
       "2  40058576    40134  11250         30    3711     70  20121231   11   1   37   \n",
       "3  40014894    40131   2882         21    2258     70  20110630   22   0   25   \n",
       "4  40012487    40133  10865         13    3398     65  20100930   10   0   37   \n",
       "\n",
       "   Train_flg  取引価格（総額）_log  ＲＣ  ＳＲＣ  \n",
       "0       True      6.740363   1    0  \n",
       "1       True      6.977724   1    0  \n",
       "2       True      7.255273   1    0  \n",
       "3       True      6.740363   1    0  \n",
       "4       True      7.431364   0    1  "
      ]
     },
     "execution_count": 563,
     "metadata": {},
     "output_type": "execute_result"
    }
   ],
   "source": [
    "data.head()"
   ]
  },
  {
   "cell_type": "code",
   "execution_count": 584,
   "metadata": {},
   "outputs": [
    {
     "data": {
      "text/plain": [
       "Index(['ID', '市区町村コード', '地区名', '最寄駅：距離（分）', '最寄駅：名称', '面積（㎡）', '取引年月', '築年数',\n",
       "       '改装', '間取り', 'Train_flg', '取引価格（総額）_log', 'ＲＣ', 'ＳＲＣ'],\n",
       "      dtype='object')"
      ]
     },
     "execution_count": 584,
     "metadata": {},
     "output_type": "execute_result"
    }
   ],
   "source": [
    "data.columns"
   ]
  },
  {
   "cell_type": "code",
   "execution_count": 549,
   "metadata": {},
   "outputs": [],
   "source": []
  },
  {
   "cell_type": "markdown",
   "metadata": {},
   "source": [
    "## モデリングの為にデータを分割"
   ]
  },
  {
   "cell_type": "code",
   "execution_count": 569,
   "metadata": {},
   "outputs": [],
   "source": [
    "##なぜかtrainの件数が増え、testの件数減る\n",
    "train = data[data['Train_flg'] == True]\n",
    "test = data[data['Train_flg'] == False]"
   ]
  },
  {
   "cell_type": "code",
   "execution_count": 697,
   "metadata": {},
   "outputs": [
    {
     "data": {
      "text/plain": [
       "(3313995, 26)"
      ]
     },
     "execution_count": 697,
     "metadata": {},
     "output_type": "execute_result"
    }
   ],
   "source": [
    "train.shape"
   ]
  },
  {
   "cell_type": "code",
   "execution_count": 522,
   "metadata": {},
   "outputs": [
    {
     "data": {
      "text/plain": [
       "(23204, 16)"
      ]
     },
     "execution_count": 522,
     "metadata": {},
     "output_type": "execute_result"
    }
   ],
   "source": [
    "test.shape"
   ]
  },
  {
   "cell_type": "code",
   "execution_count": 570,
   "metadata": {},
   "outputs": [],
   "source": [
    "#IDは提出時に使うので変数に入れておく\n",
    "test_id = test[['ID']]"
   ]
  },
  {
   "cell_type": "code",
   "execution_count": 571,
   "metadata": {},
   "outputs": [],
   "source": [
    "train = train.drop(['ID'], axis=1)\n",
    "test = test.drop(['ID'], axis=1)"
   ]
  },
  {
   "cell_type": "code",
   "execution_count": 572,
   "metadata": {},
   "outputs": [],
   "source": [
    "train = train.drop(['Train_flg'], axis=1)\n",
    "test = test.drop(['Train_flg'], axis=1)"
   ]
  },
  {
   "cell_type": "code",
   "execution_count": 573,
   "metadata": {},
   "outputs": [],
   "source": [
    "## 目的変数の列を除外\n",
    "test = test.drop('取引価格（総額）_log', axis=1)"
   ]
  },
  {
   "cell_type": "code",
   "execution_count": 574,
   "metadata": {},
   "outputs": [],
   "source": [
    "y = train['取引価格（総額）_log']"
   ]
  },
  {
   "cell_type": "code",
   "execution_count": 575,
   "metadata": {},
   "outputs": [],
   "source": [
    "train = train.drop('取引価格（総額）_log', axis=1)"
   ]
  },
  {
   "cell_type": "code",
   "execution_count": 576,
   "metadata": {},
   "outputs": [],
   "source": [
    "X_train, y_train = train, y\n",
    "X_test = test"
   ]
  },
  {
   "cell_type": "markdown",
   "metadata": {},
   "source": [
    "## ランダムフォレスト"
   ]
  },
  {
   "cell_type": "code",
   "execution_count": 244,
   "metadata": {},
   "outputs": [],
   "source": [
    "#クロスバリデーション\n",
    "#ランダムフォレスト\n",
    "\n",
    "# from sklearn.model_selection import KFold\n",
    "# from sklearn.ensemble import RandomForestRegressor\n",
    "# from sklearn.metrics import mean_absolute_error\n",
    "\n",
    "# kf = KFold(n_splits=4, shuffle=True, random_state=71)\n",
    "\n",
    "# tr_idx, va_idx = list(kf.split(X_train))[0]\n",
    "\n",
    "# tr_x, va_x = X_train.iloc[tr_idx], X_train.iloc[va_idx]\n",
    "# tr_y, va_y = y.iloc[tr_idx], y.iloc[va_idx]\n",
    "\n",
    "# rf = RandomForestRegressor(max_depth=5, random_state=42)\n",
    "\n",
    "# rf.fit(tr_x, tr_y)\n",
    "\n",
    "# va_pred = rf.predict(va_x)\n",
    "# score = mean_absolute_error(va_y, va_pred)\n",
    "\n",
    "# y_pred = rf.predict(X_test)"
   ]
  },
  {
   "cell_type": "markdown",
   "metadata": {},
   "source": [
    "## XGBoost"
   ]
  },
  {
   "cell_type": "code",
   "execution_count": null,
   "metadata": {},
   "outputs": [],
   "source": [
    "# #時系列でバリデーション\n",
    "# from sklearn.model_selection import KFold\n",
    "# import xgboost as xgb\n",
    "# from sklearn.metrics import mean_absolute_error\n",
    "\n",
    "\n",
    "# va_period_list = [1, 2, 3]\n",
    "# for va_period in va_period_list:\n",
    "#     is_tr = X_train['取引年月'] < va_period\n",
    "#     is_va = X_train['取引年月'] == va_period\n",
    "#     tr_x, va_x = X_train[is_tr], X_train[is_va]\n",
    "#     tr_y, va_y = y_train[is_tr], y_train[is_va]\n",
    "     "
   ]
  },
  {
   "cell_type": "code",
   "execution_count": 577,
   "metadata": {},
   "outputs": [
    {
     "name": "stdout",
     "output_type": "stream",
     "text": [
      "[21:37:50] WARNING: /Users/travis/build/dmlc/xgboost/src/objective/regression_obj.cu:171: reg:linear is now deprecated in favor of reg:squarederror.\n",
      "[0]\ttrain-rmse:4.71267\teval-rmse:4.71361\n",
      "[1]\ttrain-rmse:3.30176\teval-rmse:3.30220\n",
      "[2]\ttrain-rmse:2.31487\teval-rmse:2.31519\n",
      "[3]\ttrain-rmse:1.62515\teval-rmse:1.62537\n",
      "[4]\ttrain-rmse:1.14387\teval-rmse:1.14404\n",
      "[5]\ttrain-rmse:0.80917\teval-rmse:0.80932\n",
      "[6]\ttrain-rmse:0.57803\teval-rmse:0.57817\n",
      "[7]\ttrain-rmse:0.41986\teval-rmse:0.42000\n",
      "[8]\ttrain-rmse:0.31424\teval-rmse:0.31448\n",
      "[9]\ttrain-rmse:0.24551\teval-rmse:0.24587\n",
      "[10]\ttrain-rmse:0.20336\teval-rmse:0.20381\n",
      "[11]\ttrain-rmse:0.17796\teval-rmse:0.17854\n",
      "[12]\ttrain-rmse:0.16388\teval-rmse:0.16457\n",
      "[13]\ttrain-rmse:0.15521\teval-rmse:0.15604\n",
      "[14]\ttrain-rmse:0.15065\teval-rmse:0.15157\n",
      "[15]\ttrain-rmse:0.14721\teval-rmse:0.14821\n",
      "[16]\ttrain-rmse:0.14529\teval-rmse:0.14636\n",
      "[17]\ttrain-rmse:0.14383\teval-rmse:0.14502\n",
      "[18]\ttrain-rmse:0.14260\teval-rmse:0.14384\n",
      "[19]\ttrain-rmse:0.14192\teval-rmse:0.14324\n",
      "[20]\ttrain-rmse:0.14017\teval-rmse:0.14156\n",
      "[21]\ttrain-rmse:0.13950\teval-rmse:0.14093\n",
      "[22]\ttrain-rmse:0.13861\teval-rmse:0.14012\n",
      "[23]\ttrain-rmse:0.13808\teval-rmse:0.13965\n",
      "[24]\ttrain-rmse:0.13695\teval-rmse:0.13856\n",
      "[25]\ttrain-rmse:0.13611\teval-rmse:0.13779\n",
      "[26]\ttrain-rmse:0.13569\teval-rmse:0.13742\n",
      "[27]\ttrain-rmse:0.13500\teval-rmse:0.13680\n",
      "[28]\ttrain-rmse:0.13386\teval-rmse:0.13576\n",
      "[29]\ttrain-rmse:0.13351\teval-rmse:0.13544\n",
      "[30]\ttrain-rmse:0.13252\teval-rmse:0.13448\n",
      "[31]\ttrain-rmse:0.13164\teval-rmse:0.13363\n",
      "[32]\ttrain-rmse:0.13103\teval-rmse:0.13306\n",
      "[33]\ttrain-rmse:0.13071\teval-rmse:0.13279\n",
      "[34]\ttrain-rmse:0.13031\teval-rmse:0.13241\n",
      "[35]\ttrain-rmse:0.12959\teval-rmse:0.13170\n",
      "[36]\ttrain-rmse:0.12922\teval-rmse:0.13139\n",
      "[37]\ttrain-rmse:0.12888\teval-rmse:0.13107\n",
      "[38]\ttrain-rmse:0.12853\teval-rmse:0.13077\n",
      "[39]\ttrain-rmse:0.12795\teval-rmse:0.13026\n",
      "[40]\ttrain-rmse:0.12767\teval-rmse:0.13001\n",
      "[41]\ttrain-rmse:0.12741\teval-rmse:0.12979\n",
      "[42]\ttrain-rmse:0.12710\teval-rmse:0.12952\n",
      "[43]\ttrain-rmse:0.12660\teval-rmse:0.12906\n",
      "[44]\ttrain-rmse:0.12644\teval-rmse:0.12890\n",
      "[45]\ttrain-rmse:0.12610\teval-rmse:0.12858\n",
      "[46]\ttrain-rmse:0.12567\teval-rmse:0.12819\n",
      "[47]\ttrain-rmse:0.12555\teval-rmse:0.12807\n",
      "[48]\ttrain-rmse:0.12533\teval-rmse:0.12785\n",
      "[49]\ttrain-rmse:0.12497\teval-rmse:0.12754\n"
     ]
    }
   ],
   "source": [
    "#n_splits=5が最適\n",
    "\n",
    "from sklearn.model_selection import KFold\n",
    "import xgboost as xgb\n",
    "from sklearn.metrics import mean_absolute_error\n",
    "\n",
    "kf = KFold(n_splits=5, shuffle=True, random_state=71)\n",
    "\n",
    "tr_idx, va_idx = list(kf.split(X_train))[0]\n",
    "\n",
    "tr_x, va_x = X_train.iloc[tr_idx], X_train.iloc[va_idx]\n",
    "tr_y, va_y = y.iloc[tr_idx], y.iloc[va_idx]\n",
    "\n",
    "dtrain = xgb.DMatrix(tr_x, label=tr_y)\n",
    "dvalid = xgb.DMatrix(va_x, label=va_y)\n",
    "X_test = xgb.DMatrix(X_test)\n",
    "\n",
    "params = {'objective':'reg:linear','max_depth':9,'random_state':71}\n",
    "num_round = 50\n",
    "#'objective':'reg:linear', \n",
    "#'eta':0.1, 'min_child_weight':1, 'gamma':1\n",
    "\n",
    "watchlist = [(dtrain, 'train'), (dvalid, 'eval')]\n",
    "model = xgb.train(params, dtrain, num_round, evals=watchlist)\n",
    "\n",
    "\n",
    "va_pred = model.predict(dvalid)\n",
    "score = mean_absolute_error(va_y, va_pred)\n",
    "\n",
    "y_pred = model.predict(X_test)\n"
   ]
  },
  {
   "cell_type": "code",
   "execution_count": 134,
   "metadata": {},
   "outputs": [
    {
     "name": "stdout",
     "output_type": "stream",
     "text": [
      "[6.859033  6.8887196 7.137066  ... 7.3188863 6.8696613 7.133093 ]\n"
     ]
    }
   ],
   "source": [
    "print(va_pred)"
   ]
  },
  {
   "cell_type": "code",
   "execution_count": 578,
   "metadata": {},
   "outputs": [
    {
     "name": "stdout",
     "output_type": "stream",
     "text": [
      "0.0825173589096026\n"
     ]
    }
   ],
   "source": [
    "print(score)"
   ]
  },
  {
   "cell_type": "code",
   "execution_count": 335,
   "metadata": {},
   "outputs": [
    {
     "name": "stdout",
     "output_type": "stream",
     "text": [
      "[6.96128   6.96128   7.1366124 ... 6.6858983 6.8744946 7.301374 ]\n"
     ]
    }
   ],
   "source": [
    "print(y_pred)"
   ]
  },
  {
   "cell_type": "code",
   "execution_count": 579,
   "metadata": {},
   "outputs": [],
   "source": [
    "y_pred_sub = y_pred\n",
    "test_id_sub = test_id"
   ]
  },
  {
   "cell_type": "code",
   "execution_count": 580,
   "metadata": {},
   "outputs": [],
   "source": [
    " y_pred_sub = pd.DataFrame({\n",
    "         \"取引価格（総額）_log\": y_pred_sub\n",
    "     })"
   ]
  },
  {
   "cell_type": "code",
   "execution_count": 581,
   "metadata": {},
   "outputs": [],
   "source": [
    "test_id_sub = test_id_sub.reset_index(drop=True)"
   ]
  },
  {
   "cell_type": "code",
   "execution_count": 582,
   "metadata": {},
   "outputs": [],
   "source": [
    "test_id_sub['取引価格（総額）_log'] = y_pred_sub['取引価格（総額）_log']"
   ]
  },
  {
   "cell_type": "code",
   "execution_count": 583,
   "metadata": {},
   "outputs": [],
   "source": [
    "test_id_sub.to_csv(\"submission_1.csv\", index = False)"
   ]
  },
  {
   "cell_type": "code",
   "execution_count": 245,
   "metadata": {},
   "outputs": [
    {
     "data": {
      "text/html": [
       "<div>\n",
       "<style scoped>\n",
       "    .dataframe tbody tr th:only-of-type {\n",
       "        vertical-align: middle;\n",
       "    }\n",
       "\n",
       "    .dataframe tbody tr th {\n",
       "        vertical-align: top;\n",
       "    }\n",
       "\n",
       "    .dataframe thead th {\n",
       "        text-align: right;\n",
       "    }\n",
       "</style>\n",
       "<table border=\"1\" class=\"dataframe\">\n",
       "  <thead>\n",
       "    <tr style=\"text-align: right;\">\n",
       "      <th></th>\n",
       "      <th>ID</th>\n",
       "      <th>取引価格（総額）_log</th>\n",
       "    </tr>\n",
       "  </thead>\n",
       "  <tbody>\n",
       "    <tr>\n",
       "      <th>0</th>\n",
       "      <td>1000114</td>\n",
       "      <td>6.916909</td>\n",
       "    </tr>\n",
       "    <tr>\n",
       "      <th>1</th>\n",
       "      <td>1000116</td>\n",
       "      <td>6.916909</td>\n",
       "    </tr>\n",
       "    <tr>\n",
       "      <th>2</th>\n",
       "      <td>1000117</td>\n",
       "      <td>7.084682</td>\n",
       "    </tr>\n",
       "    <tr>\n",
       "      <th>3</th>\n",
       "      <td>1000118</td>\n",
       "      <td>7.416287</td>\n",
       "    </tr>\n",
       "    <tr>\n",
       "      <th>4</th>\n",
       "      <td>1000119</td>\n",
       "      <td>6.480031</td>\n",
       "    </tr>\n",
       "    <tr>\n",
       "      <th>...</th>\n",
       "      <td>...</td>\n",
       "      <td>...</td>\n",
       "    </tr>\n",
       "    <tr>\n",
       "      <th>23199</th>\n",
       "      <td>47012519</td>\n",
       "      <td>7.640749</td>\n",
       "    </tr>\n",
       "    <tr>\n",
       "      <th>23200</th>\n",
       "      <td>47014760</td>\n",
       "      <td>7.149372</td>\n",
       "    </tr>\n",
       "    <tr>\n",
       "      <th>23201</th>\n",
       "      <td>47014956</td>\n",
       "      <td>6.867281</td>\n",
       "    </tr>\n",
       "    <tr>\n",
       "      <th>23202</th>\n",
       "      <td>47015505</td>\n",
       "      <td>6.968362</td>\n",
       "    </tr>\n",
       "    <tr>\n",
       "      <th>23203</th>\n",
       "      <td>47015950</td>\n",
       "      <td>7.342609</td>\n",
       "    </tr>\n",
       "  </tbody>\n",
       "</table>\n",
       "<p>23204 rows × 2 columns</p>\n",
       "</div>"
      ],
      "text/plain": [
       "             ID  取引価格（総額）_log\n",
       "0       1000114      6.916909\n",
       "1       1000116      6.916909\n",
       "2       1000117      7.084682\n",
       "3       1000118      7.416287\n",
       "4       1000119      6.480031\n",
       "...         ...           ...\n",
       "23199  47012519      7.640749\n",
       "23200  47014760      7.149372\n",
       "23201  47014956      6.867281\n",
       "23202  47015505      6.968362\n",
       "23203  47015950      7.342609\n",
       "\n",
       "[23204 rows x 2 columns]"
      ]
     },
     "execution_count": 245,
     "metadata": {},
     "output_type": "execute_result"
    }
   ],
   "source": [
    "submission_1 = pd.read_csv('submission_1.csv')\n",
    "submission_1"
   ]
  },
  {
   "cell_type": "code",
   "execution_count": 786,
   "metadata": {},
   "outputs": [
    {
     "data": {
      "text/plain": [
       "ID              False\n",
       "取引価格（総額）_log    False\n",
       "dtype: bool"
      ]
     },
     "execution_count": 786,
     "metadata": {},
     "output_type": "execute_result"
    }
   ],
   "source": [
    "submission_1.isnull().any()"
   ]
  },
  {
   "cell_type": "code",
   "execution_count": 787,
   "metadata": {},
   "outputs": [
    {
     "data": {
      "text/plain": [
       "(23204, 2)"
      ]
     },
     "execution_count": 787,
     "metadata": {},
     "output_type": "execute_result"
    }
   ],
   "source": [
    "submission_1.shape"
   ]
  }
 ],
 "metadata": {
  "kernelspec": {
   "display_name": "Python 3",
   "language": "python",
   "name": "python3"
  },
  "language_info": {
   "codemirror_mode": {
    "name": "ipython",
    "version": 3
   },
   "file_extension": ".py",
   "mimetype": "text/x-python",
   "name": "python",
   "nbconvert_exporter": "python",
   "pygments_lexer": "ipython3",
   "version": "3.7.6"
  }
 },
 "nbformat": 4,
 "nbformat_minor": 4
}
