{
 "cells": [
  {
   "cell_type": "code",
   "execution_count": 252,
   "metadata": {},
   "outputs": [],
   "source": [
    "import numpy as np\n",
    "import pandas as pd\n",
    "import matplotlib.pyplot as plt\n",
    "%matplotlib inline\n",
    "import seaborn as sns"
   ]
  },
  {
   "cell_type": "code",
   "execution_count": 2,
   "metadata": {},
   "outputs": [],
   "source": [
    "# import glob\n",
    "#47都道府県分csvファイルがあるので、全て結合して１つのファイルとする\n",
    "# csv_files = glob.glob('train/*.csv')"
   ]
  },
  {
   "cell_type": "code",
   "execution_count": 3,
   "metadata": {},
   "outputs": [],
   "source": [
    "# #csvファイルの中身を追加していくリストを用意\n",
    "# data_list = []\n",
    "\n",
    "# #読み込むファイルのリストを走査\n",
    "# for file in csv_files:\n",
    "#     data_list.append(pd.read_csv(file))\n",
    "\n",
    "# #リストを全て行方向に結合\n",
    "# #axis=1:行方向に結合, sort\n",
    "# df = pd.concat(data_list, axis=0, sort=True)\n",
    "\n",
    "# df.to_csv(\"train/train_all_pre.csv\",index=False)"
   ]
  },
  {
   "cell_type": "code",
   "execution_count": 385,
   "metadata": {},
   "outputs": [
    {
     "name": "stderr",
     "output_type": "stream",
     "text": [
      "/Users/kotasho/opt/anaconda3/lib/python3.7/site-packages/IPython/core/interactiveshell.py:2698: DtypeWarning: Columns (27) have mixed types.Specify dtype option on import or set low_memory=False.\n",
      "  interactivity=interactivity, compiler=compiler, result=result)\n"
     ]
    }
   ],
   "source": [
    "train = pd.read_csv('train/train_all_pre.csv')\n",
    "test = pd.read_csv('test.csv')"
   ]
  },
  {
   "cell_type": "code",
   "execution_count": 386,
   "metadata": {},
   "outputs": [],
   "source": [
    "#結合→分割時の目印にする\n",
    "train['Train_flg'] = True\n",
    "test['Train_flg'] = False"
   ]
  },
  {
   "cell_type": "code",
   "execution_count": 387,
   "metadata": {},
   "outputs": [],
   "source": [
    "#trainとtestを合わせる\n",
    "data = pd.concat([train, test])\n",
    "data = data.reset_index() "
   ]
  },
  {
   "cell_type": "code",
   "execution_count": 8,
   "metadata": {},
   "outputs": [
    {
     "data": {
      "text/plain": [
       "(3313995, 29)"
      ]
     },
     "execution_count": 8,
     "metadata": {},
     "output_type": "execute_result"
    }
   ],
   "source": [
    "train.shape"
   ]
  },
  {
   "cell_type": "code",
   "execution_count": 9,
   "metadata": {},
   "outputs": [
    {
     "data": {
      "text/plain": [
       "(23204, 28)"
      ]
     },
     "execution_count": 9,
     "metadata": {},
     "output_type": "execute_result"
    }
   ],
   "source": [
    "test.shape"
   ]
  },
  {
   "cell_type": "code",
   "execution_count": 10,
   "metadata": {},
   "outputs": [
    {
     "data": {
      "text/plain": [
       "(3337199, 30)"
      ]
     },
     "execution_count": 10,
     "metadata": {},
     "output_type": "execute_result"
    }
   ],
   "source": [
    "data.shape"
   ]
  },
  {
   "cell_type": "code",
   "execution_count": 12,
   "metadata": {},
   "outputs": [
    {
     "name": "stdout",
     "output_type": "stream",
     "text": [
      "<class 'pandas.core.frame.DataFrame'>\n",
      "RangeIndex: 3337199 entries, 0 to 3337198\n",
      "Data columns (total 30 columns):\n",
      " #   Column        Dtype  \n",
      "---  ------        -----  \n",
      " 0   index         int64  \n",
      " 1   ID            int64  \n",
      " 2   今後の利用目的       object \n",
      " 3   前面道路：幅員（ｍ）    float64\n",
      " 4   前面道路：方位       float64\n",
      " 5   前面道路：種類       float64\n",
      " 6   取引の事情等        object \n",
      " 7   取引価格（総額）_log  float64\n",
      " 8   取引時点          object \n",
      " 9   土地の形状         float64\n",
      " 10  地区名           object \n",
      " 11  地域            float64\n",
      " 12  容積率（％）        float64\n",
      " 13  市区町村コード       int64  \n",
      " 14  市区町村名         object \n",
      " 15  延床面積（㎡）       float64\n",
      " 16  建ぺい率（％）       float64\n",
      " 17  建物の構造         object \n",
      " 18  建築年           object \n",
      " 19  改装            object \n",
      " 20  最寄駅：名称        object \n",
      " 21  最寄駅：距離（分）     object \n",
      " 22  用途            object \n",
      " 23  種類            object \n",
      " 24  都市計画          object \n",
      " 25  都道府県名         object \n",
      " 26  間取り           object \n",
      " 27  間口            float64\n",
      " 28  面積（㎡）         object \n",
      " 29  Train_flg     bool   \n",
      "dtypes: bool(1), float64(10), int64(3), object(16)\n",
      "memory usage: 741.5+ MB\n"
     ]
    }
   ],
   "source": [
    "data.info()"
   ]
  },
  {
   "cell_type": "code",
   "execution_count": 146,
   "metadata": {},
   "outputs": [
    {
     "data": {
      "text/html": [
       "<div>\n",
       "<style scoped>\n",
       "    .dataframe tbody tr th:only-of-type {\n",
       "        vertical-align: middle;\n",
       "    }\n",
       "\n",
       "    .dataframe tbody tr th {\n",
       "        vertical-align: top;\n",
       "    }\n",
       "\n",
       "    .dataframe thead th {\n",
       "        text-align: right;\n",
       "    }\n",
       "</style>\n",
       "<table border=\"1\" class=\"dataframe\">\n",
       "  <thead>\n",
       "    <tr style=\"text-align: right;\">\n",
       "      <th></th>\n",
       "      <th>index</th>\n",
       "      <th>ID</th>\n",
       "      <th>前面道路：幅員（ｍ）</th>\n",
       "      <th>前面道路：方位</th>\n",
       "      <th>前面道路：種類</th>\n",
       "      <th>取引価格（総額）_log</th>\n",
       "      <th>土地の形状</th>\n",
       "      <th>地域</th>\n",
       "      <th>容積率（％）</th>\n",
       "      <th>市区町村コード</th>\n",
       "      <th>延床面積（㎡）</th>\n",
       "      <th>建ぺい率（％）</th>\n",
       "      <th>間口</th>\n",
       "    </tr>\n",
       "  </thead>\n",
       "  <tbody>\n",
       "    <tr>\n",
       "      <th>count</th>\n",
       "      <td>3.337199e+06</td>\n",
       "      <td>3.337199e+06</td>\n",
       "      <td>0.0</td>\n",
       "      <td>0.0</td>\n",
       "      <td>0.0</td>\n",
       "      <td>3.313995e+06</td>\n",
       "      <td>0.0</td>\n",
       "      <td>0.0</td>\n",
       "      <td>3.221513e+06</td>\n",
       "      <td>3.337199e+06</td>\n",
       "      <td>0.0</td>\n",
       "      <td>3.221513e+06</td>\n",
       "      <td>0.0</td>\n",
       "    </tr>\n",
       "    <tr>\n",
       "      <th>mean</th>\n",
       "      <td>1.645556e+06</td>\n",
       "      <td>1.847997e+07</td>\n",
       "      <td>NaN</td>\n",
       "      <td>NaN</td>\n",
       "      <td>NaN</td>\n",
       "      <td>7.220486e+00</td>\n",
       "      <td>NaN</td>\n",
       "      <td>NaN</td>\n",
       "      <td>3.020027e+02</td>\n",
       "      <td>1.851663e+04</td>\n",
       "      <td>NaN</td>\n",
       "      <td>6.763176e+01</td>\n",
       "      <td>NaN</td>\n",
       "    </tr>\n",
       "    <tr>\n",
       "      <th>std</th>\n",
       "      <td>9.630909e+05</td>\n",
       "      <td>9.568748e+06</td>\n",
       "      <td>NaN</td>\n",
       "      <td>NaN</td>\n",
       "      <td>NaN</td>\n",
       "      <td>3.543172e-01</td>\n",
       "      <td>NaN</td>\n",
       "      <td>NaN</td>\n",
       "      <td>1.482110e+02</td>\n",
       "      <td>9.597565e+03</td>\n",
       "      <td>NaN</td>\n",
       "      <td>1.040626e+01</td>\n",
       "      <td>NaN</td>\n",
       "    </tr>\n",
       "    <tr>\n",
       "      <th>min</th>\n",
       "      <td>0.000000e+00</td>\n",
       "      <td>1.000001e+06</td>\n",
       "      <td>NaN</td>\n",
       "      <td>NaN</td>\n",
       "      <td>NaN</td>\n",
       "      <td>2.653213e+00</td>\n",
       "      <td>NaN</td>\n",
       "      <td>NaN</td>\n",
       "      <td>5.000000e+01</td>\n",
       "      <td>1.101000e+03</td>\n",
       "      <td>NaN</td>\n",
       "      <td>3.000000e+01</td>\n",
       "      <td>NaN</td>\n",
       "    </tr>\n",
       "    <tr>\n",
       "      <th>25%</th>\n",
       "      <td>8.110955e+05</td>\n",
       "      <td>1.306405e+07</td>\n",
       "      <td>NaN</td>\n",
       "      <td>NaN</td>\n",
       "      <td>NaN</td>\n",
       "      <td>7.041393e+00</td>\n",
       "      <td>NaN</td>\n",
       "      <td>NaN</td>\n",
       "      <td>2.000000e+02</td>\n",
       "      <td>1.310700e+04</td>\n",
       "      <td>NaN</td>\n",
       "      <td>6.000000e+01</td>\n",
       "      <td>NaN</td>\n",
       "    </tr>\n",
       "    <tr>\n",
       "      <th>50%</th>\n",
       "      <td>1.645395e+06</td>\n",
       "      <td>1.402824e+07</td>\n",
       "      <td>NaN</td>\n",
       "      <td>NaN</td>\n",
       "      <td>NaN</td>\n",
       "      <td>7.278754e+00</td>\n",
       "      <td>NaN</td>\n",
       "      <td>NaN</td>\n",
       "      <td>2.000000e+02</td>\n",
       "      <td>1.410400e+04</td>\n",
       "      <td>NaN</td>\n",
       "      <td>6.000000e+01</td>\n",
       "      <td>NaN</td>\n",
       "    </tr>\n",
       "    <tr>\n",
       "      <th>75%</th>\n",
       "      <td>2.479694e+06</td>\n",
       "      <td>2.703384e+07</td>\n",
       "      <td>NaN</td>\n",
       "      <td>NaN</td>\n",
       "      <td>NaN</td>\n",
       "      <td>7.462398e+00</td>\n",
       "      <td>NaN</td>\n",
       "      <td>NaN</td>\n",
       "      <td>4.000000e+02</td>\n",
       "      <td>2.711400e+04</td>\n",
       "      <td>NaN</td>\n",
       "      <td>8.000000e+01</td>\n",
       "      <td>NaN</td>\n",
       "    </tr>\n",
       "    <tr>\n",
       "      <th>max</th>\n",
       "      <td>3.313994e+06</td>\n",
       "      <td>4.703281e+07</td>\n",
       "      <td>NaN</td>\n",
       "      <td>NaN</td>\n",
       "      <td>NaN</td>\n",
       "      <td>9.934498e+00</td>\n",
       "      <td>NaN</td>\n",
       "      <td>NaN</td>\n",
       "      <td>1.300000e+03</td>\n",
       "      <td>4.721300e+04</td>\n",
       "      <td>NaN</td>\n",
       "      <td>8.000000e+01</td>\n",
       "      <td>NaN</td>\n",
       "    </tr>\n",
       "  </tbody>\n",
       "</table>\n",
       "</div>"
      ],
      "text/plain": [
       "              index            ID  前面道路：幅員（ｍ）  前面道路：方位  前面道路：種類  取引価格（総額）_log  \\\n",
       "count  3.337199e+06  3.337199e+06         0.0      0.0      0.0  3.313995e+06   \n",
       "mean   1.645556e+06  1.847997e+07         NaN      NaN      NaN  7.220486e+00   \n",
       "std    9.630909e+05  9.568748e+06         NaN      NaN      NaN  3.543172e-01   \n",
       "min    0.000000e+00  1.000001e+06         NaN      NaN      NaN  2.653213e+00   \n",
       "25%    8.110955e+05  1.306405e+07         NaN      NaN      NaN  7.041393e+00   \n",
       "50%    1.645395e+06  1.402824e+07         NaN      NaN      NaN  7.278754e+00   \n",
       "75%    2.479694e+06  2.703384e+07         NaN      NaN      NaN  7.462398e+00   \n",
       "max    3.313994e+06  4.703281e+07         NaN      NaN      NaN  9.934498e+00   \n",
       "\n",
       "       土地の形状   地域        容積率（％）       市区町村コード  延床面積（㎡）       建ぺい率（％）   間口  \n",
       "count    0.0  0.0  3.221513e+06  3.337199e+06      0.0  3.221513e+06  0.0  \n",
       "mean     NaN  NaN  3.020027e+02  1.851663e+04      NaN  6.763176e+01  NaN  \n",
       "std      NaN  NaN  1.482110e+02  9.597565e+03      NaN  1.040626e+01  NaN  \n",
       "min      NaN  NaN  5.000000e+01  1.101000e+03      NaN  3.000000e+01  NaN  \n",
       "25%      NaN  NaN  2.000000e+02  1.310700e+04      NaN  6.000000e+01  NaN  \n",
       "50%      NaN  NaN  2.000000e+02  1.410400e+04      NaN  6.000000e+01  NaN  \n",
       "75%      NaN  NaN  4.000000e+02  2.711400e+04      NaN  8.000000e+01  NaN  \n",
       "max      NaN  NaN  1.300000e+03  4.721300e+04      NaN  8.000000e+01  NaN  "
      ]
     },
     "execution_count": 146,
     "metadata": {},
     "output_type": "execute_result"
    }
   ],
   "source": [
    "data.describe()"
   ]
  },
  {
   "cell_type": "code",
   "execution_count": 261,
   "metadata": {},
   "outputs": [
    {
     "data": {
      "text/plain": [
       "<matplotlib.axes._subplots.AxesSubplot at 0x1af50d6c90>"
      ]
     },
     "execution_count": 261,
     "metadata": {},
     "output_type": "execute_result"
    },
    {
     "data": {
      "image/png": "[encoded data removed]",
      "text/plain": [
       "<matplotlib.figure.Figure at 0x1b0a531d50>"
      ]
     },
     "metadata": {
      "needs_background": "light"
     },
     "output_type": "display_data"
    }
   ],
   "source": [
    "counts = data['建物の構造'].value_counts()\n",
    "counts\n",
    "counts.plot.bar(title='建物の構造')"
   ]
  },
  {
   "cell_type": "markdown",
   "metadata": {},
   "source": [
    "## 改装済かどうか"
   ]
  },
  {
   "cell_type": "code",
   "execution_count": 93,
   "metadata": {},
   "outputs": [
    {
     "data": {
      "text/plain": [
       "未改装    2187377\n",
       "改装済     846322\n",
       "Name: 改装, dtype: int64"
      ]
     },
     "execution_count": 93,
     "metadata": {},
     "output_type": "execute_result"
    }
   ],
   "source": [
    "data['改装'].value_counts()"
   ]
  },
  {
   "cell_type": "code",
   "execution_count": 388,
   "metadata": {},
   "outputs": [
    {
     "name": "stderr",
     "output_type": "stream",
     "text": [
      "/Users/kotasho/opt/anaconda3/lib/python3.7/site-packages/ipykernel_launcher.py:1: SettingWithCopyWarning: \n",
      "A value is trying to be set on a copy of a slice from a DataFrame\n",
      "\n",
      "See the caveats in the documentation: https://pandas.pydata.org/pandas-docs/stable/user_guide/indexing.html#returning-a-view-versus-a-copy\n",
      "  \"\"\"Entry point for launching an IPython kernel.\n",
      "/Users/kotasho/opt/anaconda3/lib/python3.7/site-packages/ipykernel_launcher.py:2: SettingWithCopyWarning: \n",
      "A value is trying to be set on a copy of a slice from a DataFrame\n",
      "\n",
      "See the caveats in the documentation: https://pandas.pydata.org/pandas-docs/stable/user_guide/indexing.html#returning-a-view-versus-a-copy\n",
      "  \n"
     ]
    }
   ],
   "source": [
    "data['改装'][(data['改装'] == '未改装') | (data['改装'].isnull() == True)] = 0\n",
    "data['改装'][data['改装'] == '改装済'] = 1"
   ]
  },
  {
   "cell_type": "code",
   "execution_count": 389,
   "metadata": {},
   "outputs": [],
   "source": [
    "data['改装'] = data['改装'].astype(int)"
   ]
  },
  {
   "cell_type": "code",
   "execution_count": 95,
   "metadata": {},
   "outputs": [
    {
     "data": {
      "text/plain": [
       "0    2490877\n",
       "1     846322\n",
       "Name: 改装, dtype: int64"
      ]
     },
     "execution_count": 95,
     "metadata": {},
     "output_type": "execute_result"
    }
   ],
   "source": [
    "data['改装'].value_counts()"
   ]
  },
  {
   "cell_type": "markdown",
   "metadata": {},
   "source": [
    "## 取引時点を加工"
   ]
  },
  {
   "cell_type": "code",
   "execution_count": 390,
   "metadata": {},
   "outputs": [],
   "source": [
    "data['取引時点_年'] = data['取引時点'].str[:4]\n",
    "data['取引時点_四半期'] = data['取引時点'].str[5:]\n",
    "\n",
    "def change_date(取引時点_四半期):\n",
    "    if 取引時点_四半期 == '第１四半期':\n",
    "        return '0331'\n",
    "    elif 取引時点_四半期 == '第２四半期':\n",
    "        return '0630'\n",
    "    elif 取引時点_四半期 == '第３四半期':                          \n",
    "        return '0930'\n",
    "    elif 取引時点_四半期 == '第４四半期':\n",
    "        return '1231'\n",
    "    else:\n",
    "        return ''"
   ]
  },
  {
   "cell_type": "code",
   "execution_count": 391,
   "metadata": {},
   "outputs": [],
   "source": [
    "data['取引時点_2'] = data['取引時点_四半期'].apply(change_date)"
   ]
  },
  {
   "cell_type": "code",
   "execution_count": 392,
   "metadata": {},
   "outputs": [],
   "source": [
    "data['取引年月'] = data['取引時点_年'] + data['取引時点_2']"
   ]
  },
  {
   "cell_type": "code",
   "execution_count": 331,
   "metadata": {},
   "outputs": [
    {
     "data": {
      "text/plain": [
       "0    20060930\n",
       "1    20190331\n",
       "2    20121231\n",
       "3    20110630\n",
       "4    20100930\n",
       "Name: 取引年月, dtype: object"
      ]
     },
     "execution_count": 331,
     "metadata": {},
     "output_type": "execute_result"
    }
   ],
   "source": [
    "data['取引年月'].head()"
   ]
  },
  {
   "cell_type": "markdown",
   "metadata": {},
   "source": [
    "## 建築年を加工"
   ]
  },
  {
   "cell_type": "code",
   "execution_count": 393,
   "metadata": {},
   "outputs": [],
   "source": [
    "data['和暦開始'] = data['建築年'].str[:2]"
   ]
  },
  {
   "cell_type": "code",
   "execution_count": 161,
   "metadata": {},
   "outputs": [
    {
     "data": {
      "text/plain": [
       "array(['平成', '昭和', nan, '戦前', '令和'], dtype=object)"
      ]
     },
     "execution_count": 161,
     "metadata": {},
     "output_type": "execute_result"
    }
   ],
   "source": [
    "data['和暦開始'].unique()"
   ]
  },
  {
   "cell_type": "code",
   "execution_count": 394,
   "metadata": {},
   "outputs": [],
   "source": [
    "#戦前、nanは1930とする\n",
    "def era_convert(和暦開始):\n",
    "    if 和暦開始 == '昭和':\n",
    "        return 1925\n",
    "    elif 和暦開始 == '平成':\n",
    "        return 1988\n",
    "    elif 和暦開始 == '令和':\n",
    "        return 2018\n",
    "    else:\n",
    "        return 1930"
   ]
  },
  {
   "cell_type": "code",
   "execution_count": 395,
   "metadata": {},
   "outputs": [],
   "source": [
    "data['和暦開始年'] = data['和暦開始'].apply(era_convert)"
   ]
  },
  {
   "cell_type": "code",
   "execution_count": 396,
   "metadata": {},
   "outputs": [],
   "source": [
    "data['和暦_年'] = data['建築年'].str[2:4]"
   ]
  },
  {
   "cell_type": "code",
   "execution_count": 397,
   "metadata": {},
   "outputs": [],
   "source": [
    "data['和暦_年'] = data['和暦_年'].str.replace('年', '')"
   ]
  },
  {
   "cell_type": "code",
   "execution_count": 166,
   "metadata": {},
   "outputs": [
    {
     "data": {
      "text/plain": [
       "array(['3', '58', '13', '64', '12', '62', '8', '27', '20', '59', '63',\n",
       "       nan, '10', '60', '50', '2', '11', '54', '16', '49', '61', '6', '7',\n",
       "       '18', '17', '9', '22', '5', '24', '25', '15', '21', '30', '4',\n",
       "       '14', '26', '19', '29', '31', '55', '46', '57', '56', '23', '51',\n",
       "       '47', '48', '52', '53', '43', '40', '28', '44', '', '36', '45',\n",
       "       '41', '42', '39', '37', '32', '33', '38', '34', '35'], dtype=object)"
      ]
     },
     "execution_count": 166,
     "metadata": {},
     "output_type": "execute_result"
    }
   ],
   "source": [
    "data['和暦_年'].unique()"
   ]
  },
  {
   "cell_type": "code",
   "execution_count": 398,
   "metadata": {},
   "outputs": [
    {
     "name": "stderr",
     "output_type": "stream",
     "text": [
      "/Users/kotasho/opt/anaconda3/lib/python3.7/site-packages/ipykernel_launcher.py:2: SettingWithCopyWarning: \n",
      "A value is trying to be set on a copy of a slice from a DataFrame\n",
      "\n",
      "See the caveats in the documentation: https://pandas.pydata.org/pandas-docs/stable/user_guide/indexing.html#returning-a-view-versus-a-copy\n",
      "  \n"
     ]
    }
   ],
   "source": [
    "#nanは0とする\n",
    "data['和暦_年'][(data['和暦_年'] == '') | (data['和暦_年'].isnull())] = '0'"
   ]
  },
  {
   "cell_type": "code",
   "execution_count": 167,
   "metadata": {},
   "outputs": [
    {
     "data": {
      "text/plain": [
       "array([1988, 1925, 1930, 2018])"
      ]
     },
     "execution_count": 167,
     "metadata": {},
     "output_type": "execute_result"
    }
   ],
   "source": [
    "data['和暦開始年'].unique()"
   ]
  },
  {
   "cell_type": "code",
   "execution_count": 168,
   "metadata": {},
   "outputs": [
    {
     "data": {
      "text/plain": [
       "1988    2248653\n",
       "1925     987808\n",
       "1930      99187\n",
       "2018       1551\n",
       "Name: 和暦開始年, dtype: int64"
      ]
     },
     "execution_count": 168,
     "metadata": {},
     "output_type": "execute_result"
    }
   ],
   "source": [
    "data['和暦開始年'].value_counts()"
   ]
  },
  {
   "cell_type": "code",
   "execution_count": 399,
   "metadata": {},
   "outputs": [],
   "source": [
    "data['和暦開始年'] = data['和暦開始年'].astype(int)\n",
    "data['和暦_年'] = data['和暦_年'].astype(int)"
   ]
  },
  {
   "cell_type": "code",
   "execution_count": 400,
   "metadata": {},
   "outputs": [],
   "source": [
    "data['西暦'] = data['和暦開始年'] + data['和暦_年']"
   ]
  },
  {
   "cell_type": "code",
   "execution_count": 33,
   "metadata": {},
   "outputs": [
    {
     "data": {
      "text/plain": [
       "0    1991\n",
       "1    1983\n",
       "2    2001\n",
       "3    1989\n",
       "4    2000\n",
       "Name: 西暦, dtype: int64"
      ]
     },
     "execution_count": 33,
     "metadata": {},
     "output_type": "execute_result"
    }
   ],
   "source": [
    "data['西暦'].head()"
   ]
  },
  {
   "cell_type": "markdown",
   "metadata": {},
   "source": [
    "## 特徴量として東京23区を追加"
   ]
  },
  {
   "cell_type": "code",
   "execution_count": 401,
   "metadata": {},
   "outputs": [],
   "source": [
    "data['東京23区'] = data['市区町村名'][(data['都道府県名'] == '東京都') & (data['市区町村名'].str.contains('区'))]"
   ]
  },
  {
   "cell_type": "code",
   "execution_count": 402,
   "metadata": {},
   "outputs": [],
   "source": [
    "data['東京23区'] = data['東京23区'].fillna('')"
   ]
  },
  {
   "cell_type": "code",
   "execution_count": 403,
   "metadata": {},
   "outputs": [],
   "source": [
    "def tokyo_city(x):\n",
    "    if x != '':\n",
    "        return 1\n",
    "    else:\n",
    "        return 0"
   ]
  },
  {
   "cell_type": "code",
   "execution_count": 404,
   "metadata": {},
   "outputs": [],
   "source": [
    "data['東京23区'] = data['東京23区'].apply(tokyo_city)"
   ]
  },
  {
   "cell_type": "code",
   "execution_count": 405,
   "metadata": {},
   "outputs": [
    {
     "data": {
      "text/html": [
       "<div>\n",
       "<style scoped>\n",
       "    .dataframe tbody tr th:only-of-type {\n",
       "        vertical-align: middle;\n",
       "    }\n",
       "\n",
       "    .dataframe tbody tr th {\n",
       "        vertical-align: top;\n",
       "    }\n",
       "\n",
       "    .dataframe thead th {\n",
       "        text-align: right;\n",
       "    }\n",
       "</style>\n",
       "<table border=\"1\" class=\"dataframe\">\n",
       "  <thead>\n",
       "    <tr style=\"text-align: right;\">\n",
       "      <th></th>\n",
       "      <th>都道府県名</th>\n",
       "      <th>市区町村名</th>\n",
       "      <th>東京23区</th>\n",
       "    </tr>\n",
       "  </thead>\n",
       "  <tbody>\n",
       "    <tr>\n",
       "      <th>1238600</th>\n",
       "      <td>東京都</td>\n",
       "      <td>豊島区</td>\n",
       "      <td>1</td>\n",
       "    </tr>\n",
       "    <tr>\n",
       "      <th>1238601</th>\n",
       "      <td>東京都</td>\n",
       "      <td>江戸川区</td>\n",
       "      <td>1</td>\n",
       "    </tr>\n",
       "    <tr>\n",
       "      <th>1238602</th>\n",
       "      <td>東京都</td>\n",
       "      <td>品川区</td>\n",
       "      <td>1</td>\n",
       "    </tr>\n",
       "    <tr>\n",
       "      <th>1238603</th>\n",
       "      <td>東京都</td>\n",
       "      <td>大田区</td>\n",
       "      <td>1</td>\n",
       "    </tr>\n",
       "    <tr>\n",
       "      <th>1238604</th>\n",
       "      <td>東京都</td>\n",
       "      <td>渋谷区</td>\n",
       "      <td>1</td>\n",
       "    </tr>\n",
       "  </tbody>\n",
       "</table>\n",
       "</div>"
      ],
      "text/plain": [
       "        都道府県名 市区町村名  東京23区\n",
       "1238600   東京都   豊島区      1\n",
       "1238601   東京都  江戸川区      1\n",
       "1238602   東京都   品川区      1\n",
       "1238603   東京都   大田区      1\n",
       "1238604   東京都   渋谷区      1"
      ]
     },
     "execution_count": 405,
     "metadata": {},
     "output_type": "execute_result"
    }
   ],
   "source": [
    "#確認\n",
    "data[['都道府県名', '市区町村名', '東京23区']][(data['都道府県名'] == '東京都') & (data['東京23区'] == 1)].head()"
   ]
  },
  {
   "cell_type": "code",
   "execution_count": 46,
   "metadata": {},
   "outputs": [
    {
     "data": {
      "text/html": [
       "<div>\n",
       "<style scoped>\n",
       "    .dataframe tbody tr th:only-of-type {\n",
       "        vertical-align: middle;\n",
       "    }\n",
       "\n",
       "    .dataframe tbody tr th {\n",
       "        vertical-align: top;\n",
       "    }\n",
       "\n",
       "    .dataframe thead th {\n",
       "        text-align: right;\n",
       "    }\n",
       "</style>\n",
       "<table border=\"1\" class=\"dataframe\">\n",
       "  <thead>\n",
       "    <tr style=\"text-align: right;\">\n",
       "      <th></th>\n",
       "      <th>都道府県名</th>\n",
       "      <th>市区町村名</th>\n",
       "      <th>東京23区</th>\n",
       "    </tr>\n",
       "  </thead>\n",
       "  <tbody>\n",
       "    <tr>\n",
       "      <th>1238608</th>\n",
       "      <td>東京都</td>\n",
       "      <td>清瀬市</td>\n",
       "      <td>0</td>\n",
       "    </tr>\n",
       "    <tr>\n",
       "      <th>1238619</th>\n",
       "      <td>東京都</td>\n",
       "      <td>清瀬市</td>\n",
       "      <td>0</td>\n",
       "    </tr>\n",
       "    <tr>\n",
       "      <th>1238622</th>\n",
       "      <td>東京都</td>\n",
       "      <td>日野市</td>\n",
       "      <td>0</td>\n",
       "    </tr>\n",
       "    <tr>\n",
       "      <th>1238623</th>\n",
       "      <td>東京都</td>\n",
       "      <td>福生市</td>\n",
       "      <td>0</td>\n",
       "    </tr>\n",
       "    <tr>\n",
       "      <th>1238637</th>\n",
       "      <td>東京都</td>\n",
       "      <td>八王子市</td>\n",
       "      <td>0</td>\n",
       "    </tr>\n",
       "  </tbody>\n",
       "</table>\n",
       "</div>"
      ],
      "text/plain": [
       "        都道府県名 市区町村名  東京23区\n",
       "1238608   東京都   清瀬市      0\n",
       "1238619   東京都   清瀬市      0\n",
       "1238622   東京都   日野市      0\n",
       "1238623   東京都   福生市      0\n",
       "1238637   東京都  八王子市      0"
      ]
     },
     "execution_count": 46,
     "metadata": {},
     "output_type": "execute_result"
    }
   ],
   "source": [
    "#確認\n",
    "data[['都道府県名', '市区町村名', '東京23区']][(data['都道府県名'] == '東京都') & (data['東京23区'] == 0)].head()"
   ]
  },
  {
   "cell_type": "markdown",
   "metadata": {},
   "source": [
    "## 最寄駅：距離（分）を加工"
   ]
  },
  {
   "cell_type": "code",
   "execution_count": 344,
   "metadata": {},
   "outputs": [
    {
     "data": {
      "text/plain": [
       "array([nan, '25', '30分?60分', '21', '13', '5', '2', '11', '7', '10', '6',\n",
       "       '14', '3', '8', '15', '4', '9', '16', '18', '1H?1H30', '23', '1',\n",
       "       '20', '19', '26', '12', '28', '24', '29', '0', '27', '17',\n",
       "       '1H30?2H', '22', '2H?'], dtype=object)"
      ]
     },
     "execution_count": 344,
     "metadata": {},
     "output_type": "execute_result"
    }
   ],
   "source": [
    "data['最寄駅：距離（分）'].unique()"
   ]
  },
  {
   "cell_type": "code",
   "execution_count": 406,
   "metadata": {},
   "outputs": [
    {
     "name": "stderr",
     "output_type": "stream",
     "text": [
      "/Users/kotasho/opt/anaconda3/lib/python3.7/site-packages/ipykernel_launcher.py:2: SettingWithCopyWarning: \n",
      "A value is trying to be set on a copy of a slice from a DataFrame\n",
      "\n",
      "See the caveats in the documentation: https://pandas.pydata.org/pandas-docs/stable/user_guide/indexing.html#returning-a-view-versus-a-copy\n",
      "  \n",
      "/Users/kotasho/opt/anaconda3/lib/python3.7/site-packages/ipykernel_launcher.py:3: SettingWithCopyWarning: \n",
      "A value is trying to be set on a copy of a slice from a DataFrame\n",
      "\n",
      "See the caveats in the documentation: https://pandas.pydata.org/pandas-docs/stable/user_guide/indexing.html#returning-a-view-versus-a-copy\n",
      "  This is separate from the ipykernel package so we can avoid doing imports until\n",
      "/Users/kotasho/opt/anaconda3/lib/python3.7/site-packages/ipykernel_launcher.py:4: SettingWithCopyWarning: \n",
      "A value is trying to be set on a copy of a slice from a DataFrame\n",
      "\n",
      "See the caveats in the documentation: https://pandas.pydata.org/pandas-docs/stable/user_guide/indexing.html#returning-a-view-versus-a-copy\n",
      "  after removing the cwd from sys.path.\n",
      "/Users/kotasho/opt/anaconda3/lib/python3.7/site-packages/ipykernel_launcher.py:5: SettingWithCopyWarning: \n",
      "A value is trying to be set on a copy of a slice from a DataFrame\n",
      "\n",
      "See the caveats in the documentation: https://pandas.pydata.org/pandas-docs/stable/user_guide/indexing.html#returning-a-view-versus-a-copy\n",
      "  \"\"\"\n"
     ]
    }
   ],
   "source": [
    "#文言から推察\n",
    "data['最寄駅：距離（分）'][(data['最寄駅：距離（分）'] == '30分?60分')] = '30'\n",
    "data['最寄駅：距離（分）'][(data['最寄駅：距離（分）'] == '1H?1H30')] = '60'\n",
    "data['最寄駅：距離（分）'][(data['最寄駅：距離（分）'] == '1H30?2H')] = '90'\n",
    "data['最寄駅：距離（分）'][(data['最寄駅：距離（分）'] == '2H?')] = '120'"
   ]
  },
  {
   "cell_type": "code",
   "execution_count": 407,
   "metadata": {},
   "outputs": [
    {
     "name": "stderr",
     "output_type": "stream",
     "text": [
      "/Users/kotasho/opt/anaconda3/lib/python3.7/site-packages/ipykernel_launcher.py:1: SettingWithCopyWarning: \n",
      "A value is trying to be set on a copy of a slice from a DataFrame\n",
      "\n",
      "See the caveats in the documentation: https://pandas.pydata.org/pandas-docs/stable/user_guide/indexing.html#returning-a-view-versus-a-copy\n",
      "  \"\"\"Entry point for launching an IPython kernel.\n"
     ]
    }
   ],
   "source": [
    "data['最寄駅：距離（分）'][data['最寄駅：距離（分）'].isnull() == True] = '0'"
   ]
  },
  {
   "cell_type": "code",
   "execution_count": 51,
   "metadata": {},
   "outputs": [
    {
     "data": {
      "text/plain": [
       "6      267079\n",
       "4      257406\n",
       "5      238878\n",
       "8      232628\n",
       "3      225912\n",
       "9      201459\n",
       "7      170023\n",
       "30     166569\n",
       "10     165876\n",
       "11     160562\n",
       "2      142633\n",
       "0      134809\n",
       "13     119520\n",
       "1      103507\n",
       "14      98201\n",
       "15      97069\n",
       "12      79310\n",
       "16      74980\n",
       "18      60995\n",
       "19      54978\n",
       "20      46525\n",
       "21      37337\n",
       "23      34745\n",
       "25      32219\n",
       "24      25645\n",
       "28      21456\n",
       "26      20824\n",
       "60      18851\n",
       "29      18702\n",
       "17      12939\n",
       "22       5540\n",
       "120      4348\n",
       "90       3571\n",
       "27       2103\n",
       "Name: 最寄駅：距離（分）, dtype: int64"
      ]
     },
     "execution_count": 51,
     "metadata": {},
     "output_type": "execute_result"
    }
   ],
   "source": [
    "data['最寄駅：距離（分）'].value_counts()"
   ]
  },
  {
   "cell_type": "code",
   "execution_count": 347,
   "metadata": {},
   "outputs": [],
   "source": [
    "data['最寄駅：距離（分）'] = data['最寄駅：距離（分）'].astype(int)"
   ]
  },
  {
   "cell_type": "markdown",
   "metadata": {},
   "source": [
    "## 立地"
   ]
  },
  {
   "cell_type": "code",
   "execution_count": 289,
   "metadata": {},
   "outputs": [],
   "source": []
  },
  {
   "cell_type": "code",
   "execution_count": 318,
   "metadata": {},
   "outputs": [
    {
     "data": {
      "text/plain": [
       "24.550318995061428"
      ]
     },
     "execution_count": 318,
     "metadata": {},
     "output_type": "execute_result"
    }
   ],
   "source": [
    "#東京23区かつ徒歩15分以内\n",
    "rich = data[(data['東京23区'] == 1) & (data['最寄駅：距離（分）'] <= 15)]\n",
    "(rich['ID'].count() / data['ID'].count()) * 100   #全体に占める割合"
   ]
  },
  {
   "cell_type": "code",
   "execution_count": 383,
   "metadata": {},
   "outputs": [
    {
     "data": {
      "text/html": [
       "<div>\n",
       "<style scoped>\n",
       "    .dataframe tbody tr th:only-of-type {\n",
       "        vertical-align: middle;\n",
       "    }\n",
       "\n",
       "    .dataframe tbody tr th {\n",
       "        vertical-align: top;\n",
       "    }\n",
       "\n",
       "    .dataframe thead th {\n",
       "        text-align: right;\n",
       "    }\n",
       "</style>\n",
       "<table border=\"1\" class=\"dataframe\">\n",
       "  <thead>\n",
       "    <tr style=\"text-align: right;\">\n",
       "      <th></th>\n",
       "      <th>index</th>\n",
       "      <th>ID</th>\n",
       "      <th>前面道路：幅員（ｍ）</th>\n",
       "      <th>前面道路：方位</th>\n",
       "      <th>前面道路：種類</th>\n",
       "      <th>取引価格（総額）_log</th>\n",
       "      <th>土地の形状</th>\n",
       "      <th>地域</th>\n",
       "      <th>容積率（％）</th>\n",
       "      <th>市区町村コード</th>\n",
       "      <th>延床面積（㎡）</th>\n",
       "      <th>建ぺい率（％）</th>\n",
       "      <th>改装</th>\n",
       "      <th>最寄駅：距離（分）</th>\n",
       "      <th>間口</th>\n",
       "      <th>和暦開始年</th>\n",
       "      <th>和暦_年</th>\n",
       "      <th>西暦</th>\n",
       "      <th>東京23区</th>\n",
       "      <th>好立地</th>\n",
       "    </tr>\n",
       "  </thead>\n",
       "  <tbody>\n",
       "    <tr>\n",
       "      <th>count</th>\n",
       "      <td>8.192930e+05</td>\n",
       "      <td>8.192930e+05</td>\n",
       "      <td>0.0</td>\n",
       "      <td>0.0</td>\n",
       "      <td>0.0</td>\n",
       "      <td>813045.000000</td>\n",
       "      <td>0.0</td>\n",
       "      <td>0.0</td>\n",
       "      <td>805996.000000</td>\n",
       "      <td>819293.000000</td>\n",
       "      <td>0.0</td>\n",
       "      <td>805996.000000</td>\n",
       "      <td>819293.000000</td>\n",
       "      <td>819293.000000</td>\n",
       "      <td>0.0</td>\n",
       "      <td>819293.000000</td>\n",
       "      <td>819293.000000</td>\n",
       "      <td>819293.000000</td>\n",
       "      <td>819293.0</td>\n",
       "      <td>819293.0</td>\n",
       "    </tr>\n",
       "    <tr>\n",
       "      <th>mean</th>\n",
       "      <td>2.240721e+06</td>\n",
       "      <td>1.313965e+07</td>\n",
       "      <td>NaN</td>\n",
       "      <td>NaN</td>\n",
       "      <td>NaN</td>\n",
       "      <td>7.414439</td>\n",
       "      <td>NaN</td>\n",
       "      <td>NaN</td>\n",
       "      <td>376.049583</td>\n",
       "      <td>13111.072946</td>\n",
       "      <td>NaN</td>\n",
       "      <td>70.012767</td>\n",
       "      <td>0.224309</td>\n",
       "      <td>6.109446</td>\n",
       "      <td>NaN</td>\n",
       "      <td>1970.530821</td>\n",
       "      <td>25.567685</td>\n",
       "      <td>1996.098506</td>\n",
       "      <td>1.0</td>\n",
       "      <td>0.0</td>\n",
       "    </tr>\n",
       "    <tr>\n",
       "      <th>std</th>\n",
       "      <td>6.793541e+05</td>\n",
       "      <td>9.687783e+04</td>\n",
       "      <td>NaN</td>\n",
       "      <td>NaN</td>\n",
       "      <td>NaN</td>\n",
       "      <td>0.298538</td>\n",
       "      <td>NaN</td>\n",
       "      <td>NaN</td>\n",
       "      <td>152.575860</td>\n",
       "      <td>6.248081</td>\n",
       "      <td>NaN</td>\n",
       "      <td>10.277689</td>\n",
       "      <td>0.417127</td>\n",
       "      <td>3.682267</td>\n",
       "      <td>NaN</td>\n",
       "      <td>28.130677</td>\n",
       "      <td>18.921574</td>\n",
       "      <td>15.253910</td>\n",
       "      <td>0.0</td>\n",
       "      <td>0.0</td>\n",
       "    </tr>\n",
       "    <tr>\n",
       "      <th>min</th>\n",
       "      <td>3.944000e+03</td>\n",
       "      <td>1.300000e+07</td>\n",
       "      <td>NaN</td>\n",
       "      <td>NaN</td>\n",
       "      <td>NaN</td>\n",
       "      <td>3.079181</td>\n",
       "      <td>NaN</td>\n",
       "      <td>NaN</td>\n",
       "      <td>60.000000</td>\n",
       "      <td>13101.000000</td>\n",
       "      <td>NaN</td>\n",
       "      <td>30.000000</td>\n",
       "      <td>0.000000</td>\n",
       "      <td>0.000000</td>\n",
       "      <td>NaN</td>\n",
       "      <td>1925.000000</td>\n",
       "      <td>0.000000</td>\n",
       "      <td>1930.000000</td>\n",
       "      <td>1.0</td>\n",
       "      <td>0.0</td>\n",
       "    </tr>\n",
       "    <tr>\n",
       "      <th>25%</th>\n",
       "      <td>1.742581e+06</td>\n",
       "      <td>1.305674e+07</td>\n",
       "      <td>NaN</td>\n",
       "      <td>NaN</td>\n",
       "      <td>NaN</td>\n",
       "      <td>7.255273</td>\n",
       "      <td>NaN</td>\n",
       "      <td>NaN</td>\n",
       "      <td>300.000000</td>\n",
       "      <td>13106.000000</td>\n",
       "      <td>NaN</td>\n",
       "      <td>60.000000</td>\n",
       "      <td>0.000000</td>\n",
       "      <td>3.000000</td>\n",
       "      <td>NaN</td>\n",
       "      <td>1925.000000</td>\n",
       "      <td>12.000000</td>\n",
       "      <td>1988.000000</td>\n",
       "      <td>1.0</td>\n",
       "      <td>0.0</td>\n",
       "    </tr>\n",
       "    <tr>\n",
       "      <th>50%</th>\n",
       "      <td>2.253966e+06</td>\n",
       "      <td>1.312425e+07</td>\n",
       "      <td>NaN</td>\n",
       "      <td>NaN</td>\n",
       "      <td>NaN</td>\n",
       "      <td>7.414973</td>\n",
       "      <td>NaN</td>\n",
       "      <td>NaN</td>\n",
       "      <td>300.000000</td>\n",
       "      <td>13111.000000</td>\n",
       "      <td>NaN</td>\n",
       "      <td>80.000000</td>\n",
       "      <td>0.000000</td>\n",
       "      <td>6.000000</td>\n",
       "      <td>NaN</td>\n",
       "      <td>1988.000000</td>\n",
       "      <td>18.000000</td>\n",
       "      <td>2000.000000</td>\n",
       "      <td>1.0</td>\n",
       "      <td>0.0</td>\n",
       "    </tr>\n",
       "    <tr>\n",
       "      <th>75%</th>\n",
       "      <td>2.765649e+06</td>\n",
       "      <td>1.321472e+07</td>\n",
       "      <td>NaN</td>\n",
       "      <td>NaN</td>\n",
       "      <td>NaN</td>\n",
       "      <td>7.602060</td>\n",
       "      <td>NaN</td>\n",
       "      <td>NaN</td>\n",
       "      <td>500.000000</td>\n",
       "      <td>13116.000000</td>\n",
       "      <td>NaN</td>\n",
       "      <td>80.000000</td>\n",
       "      <td>0.000000</td>\n",
       "      <td>9.000000</td>\n",
       "      <td>NaN</td>\n",
       "      <td>1988.000000</td>\n",
       "      <td>44.000000</td>\n",
       "      <td>2006.000000</td>\n",
       "      <td>1.0</td>\n",
       "      <td>0.0</td>\n",
       "    </tr>\n",
       "    <tr>\n",
       "      <th>max</th>\n",
       "      <td>3.277088e+06</td>\n",
       "      <td>1.342107e+07</td>\n",
       "      <td>NaN</td>\n",
       "      <td>NaN</td>\n",
       "      <td>NaN</td>\n",
       "      <td>9.934498</td>\n",
       "      <td>NaN</td>\n",
       "      <td>NaN</td>\n",
       "      <td>1300.000000</td>\n",
       "      <td>13123.000000</td>\n",
       "      <td>NaN</td>\n",
       "      <td>80.000000</td>\n",
       "      <td>1.000000</td>\n",
       "      <td>15.000000</td>\n",
       "      <td>NaN</td>\n",
       "      <td>2018.000000</td>\n",
       "      <td>64.000000</td>\n",
       "      <td>2020.000000</td>\n",
       "      <td>1.0</td>\n",
       "      <td>0.0</td>\n",
       "    </tr>\n",
       "  </tbody>\n",
       "</table>\n",
       "</div>"
      ],
      "text/plain": [
       "              index            ID  前面道路：幅員（ｍ）  前面道路：方位  前面道路：種類  \\\n",
       "count  8.192930e+05  8.192930e+05         0.0      0.0      0.0   \n",
       "mean   2.240721e+06  1.313965e+07         NaN      NaN      NaN   \n",
       "std    6.793541e+05  9.687783e+04         NaN      NaN      NaN   \n",
       "min    3.944000e+03  1.300000e+07         NaN      NaN      NaN   \n",
       "25%    1.742581e+06  1.305674e+07         NaN      NaN      NaN   \n",
       "50%    2.253966e+06  1.312425e+07         NaN      NaN      NaN   \n",
       "75%    2.765649e+06  1.321472e+07         NaN      NaN      NaN   \n",
       "max    3.277088e+06  1.342107e+07         NaN      NaN      NaN   \n",
       "\n",
       "        取引価格（総額）_log  土地の形状   地域         容積率（％）        市区町村コード  延床面積（㎡）  \\\n",
       "count  813045.000000    0.0  0.0  805996.000000  819293.000000      0.0   \n",
       "mean        7.414439    NaN  NaN     376.049583   13111.072946      NaN   \n",
       "std         0.298538    NaN  NaN     152.575860       6.248081      NaN   \n",
       "min         3.079181    NaN  NaN      60.000000   13101.000000      NaN   \n",
       "25%         7.255273    NaN  NaN     300.000000   13106.000000      NaN   \n",
       "50%         7.414973    NaN  NaN     300.000000   13111.000000      NaN   \n",
       "75%         7.602060    NaN  NaN     500.000000   13116.000000      NaN   \n",
       "max         9.934498    NaN  NaN    1300.000000   13123.000000      NaN   \n",
       "\n",
       "             建ぺい率（％）             改装      最寄駅：距離（分）   間口          和暦開始年  \\\n",
       "count  805996.000000  819293.000000  819293.000000  0.0  819293.000000   \n",
       "mean       70.012767       0.224309       6.109446  NaN    1970.530821   \n",
       "std        10.277689       0.417127       3.682267  NaN      28.130677   \n",
       "min        30.000000       0.000000       0.000000  NaN    1925.000000   \n",
       "25%        60.000000       0.000000       3.000000  NaN    1925.000000   \n",
       "50%        80.000000       0.000000       6.000000  NaN    1988.000000   \n",
       "75%        80.000000       0.000000       9.000000  NaN    1988.000000   \n",
       "max        80.000000       1.000000      15.000000  NaN    2018.000000   \n",
       "\n",
       "                和暦_年             西暦     東京23区       好立地  \n",
       "count  819293.000000  819293.000000  819293.0  819293.0  \n",
       "mean       25.567685    1996.098506       1.0       0.0  \n",
       "std        18.921574      15.253910       0.0       0.0  \n",
       "min         0.000000    1930.000000       1.0       0.0  \n",
       "25%        12.000000    1988.000000       1.0       0.0  \n",
       "50%        18.000000    2000.000000       1.0       0.0  \n",
       "75%        44.000000    2006.000000       1.0       0.0  \n",
       "max        64.000000    2020.000000       1.0       0.0  "
      ]
     },
     "execution_count": 383,
     "metadata": {},
     "output_type": "execute_result"
    }
   ],
   "source": [
    "rich.describe()"
   ]
  },
  {
   "cell_type": "code",
   "execution_count": 311,
   "metadata": {},
   "outputs": [],
   "source": [
    "#都市部\n",
    "city = data[(data['都道府県名'] == '東京都') | (data['都道府県名'] == '大阪府')]\n",
    "around = data[(data['都道府県名'] != '東京都') | (data['都道府県名'] != '大阪府')]"
   ]
  },
  {
   "cell_type": "code",
   "execution_count": 381,
   "metadata": {},
   "outputs": [
    {
     "data": {
      "text/html": [
       "<div>\n",
       "<style scoped>\n",
       "    .dataframe tbody tr th:only-of-type {\n",
       "        vertical-align: middle;\n",
       "    }\n",
       "\n",
       "    .dataframe tbody tr th {\n",
       "        vertical-align: top;\n",
       "    }\n",
       "\n",
       "    .dataframe thead th {\n",
       "        text-align: right;\n",
       "    }\n",
       "</style>\n",
       "<table border=\"1\" class=\"dataframe\">\n",
       "  <thead>\n",
       "    <tr style=\"text-align: right;\">\n",
       "      <th></th>\n",
       "      <th>index</th>\n",
       "      <th>ID</th>\n",
       "      <th>前面道路：幅員（ｍ）</th>\n",
       "      <th>前面道路：方位</th>\n",
       "      <th>前面道路：種類</th>\n",
       "      <th>取引価格（総額）_log</th>\n",
       "      <th>土地の形状</th>\n",
       "      <th>地域</th>\n",
       "      <th>容積率（％）</th>\n",
       "      <th>市区町村コード</th>\n",
       "      <th>延床面積（㎡）</th>\n",
       "      <th>建ぺい率（％）</th>\n",
       "      <th>改装</th>\n",
       "      <th>最寄駅：距離（分）</th>\n",
       "      <th>間口</th>\n",
       "      <th>和暦開始年</th>\n",
       "      <th>和暦_年</th>\n",
       "      <th>西暦</th>\n",
       "      <th>東京23区</th>\n",
       "      <th>好立地</th>\n",
       "    </tr>\n",
       "  </thead>\n",
       "  <tbody>\n",
       "    <tr>\n",
       "      <th>count</th>\n",
       "      <td>1.377588e+06</td>\n",
       "      <td>1.377588e+06</td>\n",
       "      <td>0.0</td>\n",
       "      <td>0.0</td>\n",
       "      <td>0.0</td>\n",
       "      <td>1.367360e+06</td>\n",
       "      <td>0.0</td>\n",
       "      <td>0.0</td>\n",
       "      <td>1.352482e+06</td>\n",
       "      <td>1.377588e+06</td>\n",
       "      <td>0.0</td>\n",
       "      <td>1.352482e+06</td>\n",
       "      <td>1.377588e+06</td>\n",
       "      <td>1.377588e+06</td>\n",
       "      <td>0.0</td>\n",
       "      <td>1.377588e+06</td>\n",
       "      <td>1.377588e+06</td>\n",
       "      <td>1.377588e+06</td>\n",
       "      <td>1.377588e+06</td>\n",
       "      <td>1377588.0</td>\n",
       "    </tr>\n",
       "    <tr>\n",
       "      <th>mean</th>\n",
       "      <td>1.781662e+06</td>\n",
       "      <td>1.699159e+07</td>\n",
       "      <td>NaN</td>\n",
       "      <td>NaN</td>\n",
       "      <td>NaN</td>\n",
       "      <td>7.335088e+00</td>\n",
       "      <td>NaN</td>\n",
       "      <td>NaN</td>\n",
       "      <td>3.477804e+02</td>\n",
       "      <td>1.696778e+04</td>\n",
       "      <td>NaN</td>\n",
       "      <td>6.926920e+01</td>\n",
       "      <td>2.370665e-01</td>\n",
       "      <td>7.676379e+00</td>\n",
       "      <td>NaN</td>\n",
       "      <td>1.968039e+03</td>\n",
       "      <td>2.675969e+01</td>\n",
       "      <td>1.994798e+03</td>\n",
       "      <td>6.182204e-01</td>\n",
       "      <td>0.0</td>\n",
       "    </tr>\n",
       "    <tr>\n",
       "      <th>std</th>\n",
       "      <td>9.579371e+05</td>\n",
       "      <td>6.212670e+06</td>\n",
       "      <td>NaN</td>\n",
       "      <td>NaN</td>\n",
       "      <td>NaN</td>\n",
       "      <td>3.197471e-01</td>\n",
       "      <td>NaN</td>\n",
       "      <td>NaN</td>\n",
       "      <td>1.617084e+02</td>\n",
       "      <td>6.256951e+03</td>\n",
       "      <td>NaN</td>\n",
       "      <td>1.046301e+01</td>\n",
       "      <td>4.252836e-01</td>\n",
       "      <td>6.091330e+00</td>\n",
       "      <td>NaN</td>\n",
       "      <td>2.923577e+01</td>\n",
       "      <td>1.981629e+01</td>\n",
       "      <td>1.535181e+01</td>\n",
       "      <td>4.858231e-01</td>\n",
       "      <td>0.0</td>\n",
       "    </tr>\n",
       "    <tr>\n",
       "      <th>min</th>\n",
       "      <td>3.944000e+03</td>\n",
       "      <td>1.300000e+07</td>\n",
       "      <td>NaN</td>\n",
       "      <td>NaN</td>\n",
       "      <td>NaN</td>\n",
       "      <td>2.653213e+00</td>\n",
       "      <td>NaN</td>\n",
       "      <td>NaN</td>\n",
       "      <td>5.000000e+01</td>\n",
       "      <td>1.310100e+04</td>\n",
       "      <td>NaN</td>\n",
       "      <td>3.000000e+01</td>\n",
       "      <td>0.000000e+00</td>\n",
       "      <td>0.000000e+00</td>\n",
       "      <td>NaN</td>\n",
       "      <td>1.925000e+03</td>\n",
       "      <td>0.000000e+00</td>\n",
       "      <td>1.930000e+03</td>\n",
       "      <td>0.000000e+00</td>\n",
       "      <td>0.0</td>\n",
       "    </tr>\n",
       "    <tr>\n",
       "      <th>25%</th>\n",
       "      <td>9.697558e+05</td>\n",
       "      <td>1.309826e+07</td>\n",
       "      <td>NaN</td>\n",
       "      <td>NaN</td>\n",
       "      <td>NaN</td>\n",
       "      <td>7.146128e+00</td>\n",
       "      <td>NaN</td>\n",
       "      <td>NaN</td>\n",
       "      <td>2.000000e+02</td>\n",
       "      <td>1.310900e+04</td>\n",
       "      <td>NaN</td>\n",
       "      <td>6.000000e+01</td>\n",
       "      <td>0.000000e+00</td>\n",
       "      <td>4.000000e+00</td>\n",
       "      <td>NaN</td>\n",
       "      <td>1.925000e+03</td>\n",
       "      <td>1.200000e+01</td>\n",
       "      <td>1.986000e+03</td>\n",
       "      <td>0.000000e+00</td>\n",
       "      <td>0.0</td>\n",
       "    </tr>\n",
       "    <tr>\n",
       "      <th>50%</th>\n",
       "      <td>1.804200e+06</td>\n",
       "      <td>1.324006e+07</td>\n",
       "      <td>NaN</td>\n",
       "      <td>NaN</td>\n",
       "      <td>NaN</td>\n",
       "      <td>7.361728e+00</td>\n",
       "      <td>NaN</td>\n",
       "      <td>NaN</td>\n",
       "      <td>3.000000e+02</td>\n",
       "      <td>1.311900e+04</td>\n",
       "      <td>NaN</td>\n",
       "      <td>6.000000e+01</td>\n",
       "      <td>0.000000e+00</td>\n",
       "      <td>6.000000e+00</td>\n",
       "      <td>NaN</td>\n",
       "      <td>1.988000e+03</td>\n",
       "      <td>1.900000e+01</td>\n",
       "      <td>1.999000e+03</td>\n",
       "      <td>1.000000e+00</td>\n",
       "      <td>0.0</td>\n",
       "    </tr>\n",
       "    <tr>\n",
       "      <th>75%</th>\n",
       "      <td>2.671327e+06</td>\n",
       "      <td>2.701244e+07</td>\n",
       "      <td>NaN</td>\n",
       "      <td>NaN</td>\n",
       "      <td>NaN</td>\n",
       "      <td>7.544068e+00</td>\n",
       "      <td>NaN</td>\n",
       "      <td>NaN</td>\n",
       "      <td>4.000000e+02</td>\n",
       "      <td>2.710600e+04</td>\n",
       "      <td>NaN</td>\n",
       "      <td>8.000000e+01</td>\n",
       "      <td>0.000000e+00</td>\n",
       "      <td>1.000000e+01</td>\n",
       "      <td>NaN</td>\n",
       "      <td>1.988000e+03</td>\n",
       "      <td>4.800000e+01</td>\n",
       "      <td>2.006000e+03</td>\n",
       "      <td>1.000000e+00</td>\n",
       "      <td>0.0</td>\n",
       "    </tr>\n",
       "    <tr>\n",
       "      <th>max</th>\n",
       "      <td>3.277089e+06</td>\n",
       "      <td>2.725973e+07</td>\n",
       "      <td>NaN</td>\n",
       "      <td>NaN</td>\n",
       "      <td>NaN</td>\n",
       "      <td>9.934498e+00</td>\n",
       "      <td>NaN</td>\n",
       "      <td>NaN</td>\n",
       "      <td>1.300000e+03</td>\n",
       "      <td>2.736600e+04</td>\n",
       "      <td>NaN</td>\n",
       "      <td>8.000000e+01</td>\n",
       "      <td>1.000000e+00</td>\n",
       "      <td>1.200000e+02</td>\n",
       "      <td>NaN</td>\n",
       "      <td>2.018000e+03</td>\n",
       "      <td>6.400000e+01</td>\n",
       "      <td>2.020000e+03</td>\n",
       "      <td>1.000000e+00</td>\n",
       "      <td>0.0</td>\n",
       "    </tr>\n",
       "  </tbody>\n",
       "</table>\n",
       "</div>"
      ],
      "text/plain": [
       "              index            ID  前面道路：幅員（ｍ）  前面道路：方位  前面道路：種類  取引価格（総額）_log  \\\n",
       "count  1.377588e+06  1.377588e+06         0.0      0.0      0.0  1.367360e+06   \n",
       "mean   1.781662e+06  1.699159e+07         NaN      NaN      NaN  7.335088e+00   \n",
       "std    9.579371e+05  6.212670e+06         NaN      NaN      NaN  3.197471e-01   \n",
       "min    3.944000e+03  1.300000e+07         NaN      NaN      NaN  2.653213e+00   \n",
       "25%    9.697558e+05  1.309826e+07         NaN      NaN      NaN  7.146128e+00   \n",
       "50%    1.804200e+06  1.324006e+07         NaN      NaN      NaN  7.361728e+00   \n",
       "75%    2.671327e+06  2.701244e+07         NaN      NaN      NaN  7.544068e+00   \n",
       "max    3.277089e+06  2.725973e+07         NaN      NaN      NaN  9.934498e+00   \n",
       "\n",
       "       土地の形状   地域        容積率（％）       市区町村コード  延床面積（㎡）       建ぺい率（％）  \\\n",
       "count    0.0  0.0  1.352482e+06  1.377588e+06      0.0  1.352482e+06   \n",
       "mean     NaN  NaN  3.477804e+02  1.696778e+04      NaN  6.926920e+01   \n",
       "std      NaN  NaN  1.617084e+02  6.256951e+03      NaN  1.046301e+01   \n",
       "min      NaN  NaN  5.000000e+01  1.310100e+04      NaN  3.000000e+01   \n",
       "25%      NaN  NaN  2.000000e+02  1.310900e+04      NaN  6.000000e+01   \n",
       "50%      NaN  NaN  3.000000e+02  1.311900e+04      NaN  6.000000e+01   \n",
       "75%      NaN  NaN  4.000000e+02  2.710600e+04      NaN  8.000000e+01   \n",
       "max      NaN  NaN  1.300000e+03  2.736600e+04      NaN  8.000000e+01   \n",
       "\n",
       "                 改装     最寄駅：距離（分）   間口         和暦開始年          和暦_年  \\\n",
       "count  1.377588e+06  1.377588e+06  0.0  1.377588e+06  1.377588e+06   \n",
       "mean   2.370665e-01  7.676379e+00  NaN  1.968039e+03  2.675969e+01   \n",
       "std    4.252836e-01  6.091330e+00  NaN  2.923577e+01  1.981629e+01   \n",
       "min    0.000000e+00  0.000000e+00  NaN  1.925000e+03  0.000000e+00   \n",
       "25%    0.000000e+00  4.000000e+00  NaN  1.925000e+03  1.200000e+01   \n",
       "50%    0.000000e+00  6.000000e+00  NaN  1.988000e+03  1.900000e+01   \n",
       "75%    0.000000e+00  1.000000e+01  NaN  1.988000e+03  4.800000e+01   \n",
       "max    1.000000e+00  1.200000e+02  NaN  2.018000e+03  6.400000e+01   \n",
       "\n",
       "                 西暦         東京23区        好立地  \n",
       "count  1.377588e+06  1.377588e+06  1377588.0  \n",
       "mean   1.994798e+03  6.182204e-01        0.0  \n",
       "std    1.535181e+01  4.858231e-01        0.0  \n",
       "min    1.930000e+03  0.000000e+00        0.0  \n",
       "25%    1.986000e+03  0.000000e+00        0.0  \n",
       "50%    1.999000e+03  1.000000e+00        0.0  \n",
       "75%    2.006000e+03  1.000000e+00        0.0  \n",
       "max    2.020000e+03  1.000000e+00        0.0  "
      ]
     },
     "execution_count": 381,
     "metadata": {},
     "output_type": "execute_result"
    }
   ],
   "source": [
    "city.describe()"
   ]
  },
  {
   "cell_type": "code",
   "execution_count": 382,
   "metadata": {},
   "outputs": [
    {
     "data": {
      "text/html": [
       "<div>\n",
       "<style scoped>\n",
       "    .dataframe tbody tr th:only-of-type {\n",
       "        vertical-align: middle;\n",
       "    }\n",
       "\n",
       "    .dataframe tbody tr th {\n",
       "        vertical-align: top;\n",
       "    }\n",
       "\n",
       "    .dataframe thead th {\n",
       "        text-align: right;\n",
       "    }\n",
       "</style>\n",
       "<table border=\"1\" class=\"dataframe\">\n",
       "  <thead>\n",
       "    <tr style=\"text-align: right;\">\n",
       "      <th></th>\n",
       "      <th>index</th>\n",
       "      <th>ID</th>\n",
       "      <th>前面道路：幅員（ｍ）</th>\n",
       "      <th>前面道路：方位</th>\n",
       "      <th>前面道路：種類</th>\n",
       "      <th>取引価格（総額）_log</th>\n",
       "      <th>土地の形状</th>\n",
       "      <th>地域</th>\n",
       "      <th>容積率（％）</th>\n",
       "      <th>市区町村コード</th>\n",
       "      <th>延床面積（㎡）</th>\n",
       "      <th>建ぺい率（％）</th>\n",
       "      <th>改装</th>\n",
       "      <th>最寄駅：距離（分）</th>\n",
       "      <th>間口</th>\n",
       "      <th>和暦開始年</th>\n",
       "      <th>和暦_年</th>\n",
       "      <th>西暦</th>\n",
       "      <th>東京23区</th>\n",
       "      <th>好立地</th>\n",
       "    </tr>\n",
       "  </thead>\n",
       "  <tbody>\n",
       "    <tr>\n",
       "      <th>count</th>\n",
       "      <td>3.337199e+06</td>\n",
       "      <td>3.337199e+06</td>\n",
       "      <td>0.0</td>\n",
       "      <td>0.0</td>\n",
       "      <td>0.0</td>\n",
       "      <td>3.313995e+06</td>\n",
       "      <td>0.0</td>\n",
       "      <td>0.0</td>\n",
       "      <td>3.221513e+06</td>\n",
       "      <td>3.337199e+06</td>\n",
       "      <td>0.0</td>\n",
       "      <td>3.221513e+06</td>\n",
       "      <td>3.337199e+06</td>\n",
       "      <td>3.337199e+06</td>\n",
       "      <td>0.0</td>\n",
       "      <td>3.337199e+06</td>\n",
       "      <td>3.337199e+06</td>\n",
       "      <td>3.337199e+06</td>\n",
       "      <td>3.337199e+06</td>\n",
       "      <td>3337199.0</td>\n",
       "    </tr>\n",
       "    <tr>\n",
       "      <th>mean</th>\n",
       "      <td>1.645556e+06</td>\n",
       "      <td>1.847997e+07</td>\n",
       "      <td>NaN</td>\n",
       "      <td>NaN</td>\n",
       "      <td>NaN</td>\n",
       "      <td>7.220486e+00</td>\n",
       "      <td>NaN</td>\n",
       "      <td>NaN</td>\n",
       "      <td>3.020027e+02</td>\n",
       "      <td>1.851663e+04</td>\n",
       "      <td>NaN</td>\n",
       "      <td>6.763176e+01</td>\n",
       "      <td>2.536025e-01</td>\n",
       "      <td>1.044285e+01</td>\n",
       "      <td>NaN</td>\n",
       "      <td>1.967642e+03</td>\n",
       "      <td>2.560669e+01</td>\n",
       "      <td>1.993249e+03</td>\n",
       "      <td>2.551999e-01</td>\n",
       "      <td>0.0</td>\n",
       "    </tr>\n",
       "    <tr>\n",
       "      <th>std</th>\n",
       "      <td>9.630909e+05</td>\n",
       "      <td>9.568748e+06</td>\n",
       "      <td>NaN</td>\n",
       "      <td>NaN</td>\n",
       "      <td>NaN</td>\n",
       "      <td>3.543172e-01</td>\n",
       "      <td>NaN</td>\n",
       "      <td>NaN</td>\n",
       "      <td>1.482110e+02</td>\n",
       "      <td>9.597565e+03</td>\n",
       "      <td>NaN</td>\n",
       "      <td>1.040626e+01</td>\n",
       "      <td>4.350728e-01</td>\n",
       "      <td>9.758597e+00</td>\n",
       "      <td>NaN</td>\n",
       "      <td>2.933906e+01</td>\n",
       "      <td>2.097689e+01</td>\n",
       "      <td>1.582339e+01</td>\n",
       "      <td>4.359736e-01</td>\n",
       "      <td>0.0</td>\n",
       "    </tr>\n",
       "    <tr>\n",
       "      <th>min</th>\n",
       "      <td>0.000000e+00</td>\n",
       "      <td>1.000001e+06</td>\n",
       "      <td>NaN</td>\n",
       "      <td>NaN</td>\n",
       "      <td>NaN</td>\n",
       "      <td>2.653213e+00</td>\n",
       "      <td>NaN</td>\n",
       "      <td>NaN</td>\n",
       "      <td>5.000000e+01</td>\n",
       "      <td>1.101000e+03</td>\n",
       "      <td>NaN</td>\n",
       "      <td>3.000000e+01</td>\n",
       "      <td>0.000000e+00</td>\n",
       "      <td>0.000000e+00</td>\n",
       "      <td>NaN</td>\n",
       "      <td>1.925000e+03</td>\n",
       "      <td>0.000000e+00</td>\n",
       "      <td>1.930000e+03</td>\n",
       "      <td>0.000000e+00</td>\n",
       "      <td>0.0</td>\n",
       "    </tr>\n",
       "    <tr>\n",
       "      <th>25%</th>\n",
       "      <td>8.110955e+05</td>\n",
       "      <td>1.306405e+07</td>\n",
       "      <td>NaN</td>\n",
       "      <td>NaN</td>\n",
       "      <td>NaN</td>\n",
       "      <td>7.041393e+00</td>\n",
       "      <td>NaN</td>\n",
       "      <td>NaN</td>\n",
       "      <td>2.000000e+02</td>\n",
       "      <td>1.310700e+04</td>\n",
       "      <td>NaN</td>\n",
       "      <td>6.000000e+01</td>\n",
       "      <td>0.000000e+00</td>\n",
       "      <td>4.000000e+00</td>\n",
       "      <td>NaN</td>\n",
       "      <td>1.925000e+03</td>\n",
       "      <td>9.000000e+00</td>\n",
       "      <td>1.986000e+03</td>\n",
       "      <td>0.000000e+00</td>\n",
       "      <td>0.0</td>\n",
       "    </tr>\n",
       "    <tr>\n",
       "      <th>50%</th>\n",
       "      <td>1.645395e+06</td>\n",
       "      <td>1.402824e+07</td>\n",
       "      <td>NaN</td>\n",
       "      <td>NaN</td>\n",
       "      <td>NaN</td>\n",
       "      <td>7.278754e+00</td>\n",
       "      <td>NaN</td>\n",
       "      <td>NaN</td>\n",
       "      <td>2.000000e+02</td>\n",
       "      <td>1.410400e+04</td>\n",
       "      <td>NaN</td>\n",
       "      <td>6.000000e+01</td>\n",
       "      <td>0.000000e+00</td>\n",
       "      <td>8.000000e+00</td>\n",
       "      <td>NaN</td>\n",
       "      <td>1.988000e+03</td>\n",
       "      <td>1.800000e+01</td>\n",
       "      <td>1.996000e+03</td>\n",
       "      <td>0.000000e+00</td>\n",
       "      <td>0.0</td>\n",
       "    </tr>\n",
       "    <tr>\n",
       "      <th>75%</th>\n",
       "      <td>2.479694e+06</td>\n",
       "      <td>2.703384e+07</td>\n",
       "      <td>NaN</td>\n",
       "      <td>NaN</td>\n",
       "      <td>NaN</td>\n",
       "      <td>7.462398e+00</td>\n",
       "      <td>NaN</td>\n",
       "      <td>NaN</td>\n",
       "      <td>4.000000e+02</td>\n",
       "      <td>2.711400e+04</td>\n",
       "      <td>NaN</td>\n",
       "      <td>8.000000e+01</td>\n",
       "      <td>1.000000e+00</td>\n",
       "      <td>1.400000e+01</td>\n",
       "      <td>NaN</td>\n",
       "      <td>1.988000e+03</td>\n",
       "      <td>4.900000e+01</td>\n",
       "      <td>2.004000e+03</td>\n",
       "      <td>1.000000e+00</td>\n",
       "      <td>0.0</td>\n",
       "    </tr>\n",
       "    <tr>\n",
       "      <th>max</th>\n",
       "      <td>3.313994e+06</td>\n",
       "      <td>4.703281e+07</td>\n",
       "      <td>NaN</td>\n",
       "      <td>NaN</td>\n",
       "      <td>NaN</td>\n",
       "      <td>9.934498e+00</td>\n",
       "      <td>NaN</td>\n",
       "      <td>NaN</td>\n",
       "      <td>1.300000e+03</td>\n",
       "      <td>4.721300e+04</td>\n",
       "      <td>NaN</td>\n",
       "      <td>8.000000e+01</td>\n",
       "      <td>1.000000e+00</td>\n",
       "      <td>1.200000e+02</td>\n",
       "      <td>NaN</td>\n",
       "      <td>2.018000e+03</td>\n",
       "      <td>6.400000e+01</td>\n",
       "      <td>2.021000e+03</td>\n",
       "      <td>1.000000e+00</td>\n",
       "      <td>0.0</td>\n",
       "    </tr>\n",
       "  </tbody>\n",
       "</table>\n",
       "</div>"
      ],
      "text/plain": [
       "              index            ID  前面道路：幅員（ｍ）  前面道路：方位  前面道路：種類  取引価格（総額）_log  \\\n",
       "count  3.337199e+06  3.337199e+06         0.0      0.0      0.0  3.313995e+06   \n",
       "mean   1.645556e+06  1.847997e+07         NaN      NaN      NaN  7.220486e+00   \n",
       "std    9.630909e+05  9.568748e+06         NaN      NaN      NaN  3.543172e-01   \n",
       "min    0.000000e+00  1.000001e+06         NaN      NaN      NaN  2.653213e+00   \n",
       "25%    8.110955e+05  1.306405e+07         NaN      NaN      NaN  7.041393e+00   \n",
       "50%    1.645395e+06  1.402824e+07         NaN      NaN      NaN  7.278754e+00   \n",
       "75%    2.479694e+06  2.703384e+07         NaN      NaN      NaN  7.462398e+00   \n",
       "max    3.313994e+06  4.703281e+07         NaN      NaN      NaN  9.934498e+00   \n",
       "\n",
       "       土地の形状   地域        容積率（％）       市区町村コード  延床面積（㎡）       建ぺい率（％）  \\\n",
       "count    0.0  0.0  3.221513e+06  3.337199e+06      0.0  3.221513e+06   \n",
       "mean     NaN  NaN  3.020027e+02  1.851663e+04      NaN  6.763176e+01   \n",
       "std      NaN  NaN  1.482110e+02  9.597565e+03      NaN  1.040626e+01   \n",
       "min      NaN  NaN  5.000000e+01  1.101000e+03      NaN  3.000000e+01   \n",
       "25%      NaN  NaN  2.000000e+02  1.310700e+04      NaN  6.000000e+01   \n",
       "50%      NaN  NaN  2.000000e+02  1.410400e+04      NaN  6.000000e+01   \n",
       "75%      NaN  NaN  4.000000e+02  2.711400e+04      NaN  8.000000e+01   \n",
       "max      NaN  NaN  1.300000e+03  4.721300e+04      NaN  8.000000e+01   \n",
       "\n",
       "                 改装     最寄駅：距離（分）   間口         和暦開始年          和暦_年  \\\n",
       "count  3.337199e+06  3.337199e+06  0.0  3.337199e+06  3.337199e+06   \n",
       "mean   2.536025e-01  1.044285e+01  NaN  1.967642e+03  2.560669e+01   \n",
       "std    4.350728e-01  9.758597e+00  NaN  2.933906e+01  2.097689e+01   \n",
       "min    0.000000e+00  0.000000e+00  NaN  1.925000e+03  0.000000e+00   \n",
       "25%    0.000000e+00  4.000000e+00  NaN  1.925000e+03  9.000000e+00   \n",
       "50%    0.000000e+00  8.000000e+00  NaN  1.988000e+03  1.800000e+01   \n",
       "75%    1.000000e+00  1.400000e+01  NaN  1.988000e+03  4.900000e+01   \n",
       "max    1.000000e+00  1.200000e+02  NaN  2.018000e+03  6.400000e+01   \n",
       "\n",
       "                 西暦         東京23区        好立地  \n",
       "count  3.337199e+06  3.337199e+06  3337199.0  \n",
       "mean   1.993249e+03  2.551999e-01        0.0  \n",
       "std    1.582339e+01  4.359736e-01        0.0  \n",
       "min    1.930000e+03  0.000000e+00        0.0  \n",
       "25%    1.986000e+03  0.000000e+00        0.0  \n",
       "50%    1.996000e+03  0.000000e+00        0.0  \n",
       "75%    2.004000e+03  1.000000e+00        0.0  \n",
       "max    2.021000e+03  1.000000e+00        0.0  "
      ]
     },
     "execution_count": 382,
     "metadata": {},
     "output_type": "execute_result"
    }
   ],
   "source": [
    "around.describe()"
   ]
  },
  {
   "cell_type": "code",
   "execution_count": 314,
   "metadata": {},
   "outputs": [
    {
     "data": {
      "text/plain": [
       "1377588"
      ]
     },
     "execution_count": 314,
     "metadata": {},
     "output_type": "execute_result"
    }
   ],
   "source": [
    "city['都道府県名'].value_counts().sum()"
   ]
  },
  {
   "cell_type": "code",
   "execution_count": 315,
   "metadata": {},
   "outputs": [
    {
     "data": {
      "text/plain": [
       "3337199"
      ]
     },
     "execution_count": 315,
     "metadata": {},
     "output_type": "execute_result"
    }
   ],
   "source": [
    "around['都道府県名'].value_counts().sum()"
   ]
  },
  {
   "cell_type": "code",
   "execution_count": 317,
   "metadata": {},
   "outputs": [
    {
     "data": {
      "text/plain": [
       "41.27976785322062"
      ]
     },
     "execution_count": 317,
     "metadata": {},
     "output_type": "execute_result"
    }
   ],
   "source": [
    "(city['都道府県名'].value_counts().sum() / around['都道府県名'].value_counts().sum()) * 100"
   ]
  },
  {
   "cell_type": "code",
   "execution_count": 408,
   "metadata": {},
   "outputs": [
    {
     "name": "stderr",
     "output_type": "stream",
     "text": [
      "/Users/kotasho/opt/anaconda3/lib/python3.7/site-packages/ipykernel_launcher.py:2: SettingWithCopyWarning: \n",
      "A value is trying to be set on a copy of a slice from a DataFrame\n",
      "\n",
      "See the caveats in the documentation: https://pandas.pydata.org/pandas-docs/stable/user_guide/indexing.html#returning-a-view-versus-a-copy\n",
      "  \n"
     ]
    }
   ],
   "source": [
    "data['都市部'] = 0\n",
    "data['都市部'][(data['都道府県名'] == '東京都') | (data['都道府県名'] == '大阪府')] = 1"
   ]
  },
  {
   "cell_type": "code",
   "execution_count": 351,
   "metadata": {},
   "outputs": [
    {
     "data": {
      "text/plain": [
       "123739     1\n",
       "123740     1\n",
       "123741     1\n",
       "123742     1\n",
       "123743     1\n",
       "          ..\n",
       "3333532    1\n",
       "3333533    1\n",
       "3333534    1\n",
       "3333535    1\n",
       "3333536    1\n",
       "Name: 都市部, Length: 1377588, dtype: int64"
      ]
     },
     "execution_count": 351,
     "metadata": {},
     "output_type": "execute_result"
    }
   ],
   "source": [
    "data['都市部'][(data['都道府県名'] == '東京都') | (data['都道府県名'] == '大阪府')] "
   ]
  },
  {
   "cell_type": "code",
   "execution_count": 352,
   "metadata": {},
   "outputs": [
    {
     "data": {
      "text/plain": [
       "104100     0\n",
       "104101     0\n",
       "104102     0\n",
       "104103     0\n",
       "104104     0\n",
       "          ..\n",
       "3328658    0\n",
       "3328659    0\n",
       "3328660    0\n",
       "3328661    0\n",
       "3328662    0\n",
       "Name: 都市部, Length: 2783, dtype: int64"
      ]
     },
     "execution_count": 352,
     "metadata": {},
     "output_type": "execute_result"
    }
   ],
   "source": [
    "data['都市部'][data['都道府県名'] == '山梨県']"
   ]
  },
  {
   "cell_type": "code",
   "execution_count": 322,
   "metadata": {},
   "outputs": [
    {
     "data": {
      "text/plain": [
       "Series([], Name: 都道府県名, dtype: object)"
      ]
     },
     "execution_count": 322,
     "metadata": {},
     "output_type": "execute_result"
    }
   ],
   "source": [
    "data['都道府県名'][data['都道府県名'] == '東京都']"
   ]
  },
  {
   "cell_type": "markdown",
   "metadata": {},
   "source": [
    "## 面積を確認・置換"
   ]
  },
  {
   "cell_type": "code",
   "execution_count": 52,
   "metadata": {},
   "outputs": [
    {
     "data": {
      "text/plain": [
       "array(['50', '70', '65', '20', '80', '30', '15', '60', '75', '90', '95',\n",
       "       '85', '55', '100', '25', '35', '45', '110', '40', '155', '115',\n",
       "       '10', '145', '105', '140', '400', '125', '120', '130', '135',\n",
       "       '220', '170', '210', '160', '150', '175', '180', '190', '165',\n",
       "       '440', '740', '330', '230', '320', '290', '2000㎡以上', '480', '360',\n",
       "       '630', '195', '500', '260', '280', '350', '370', '830', '300',\n",
       "       '710', '820', '980', '270', '470', '520', '460', '185', '570',\n",
       "       '310', '790', '250', '600', '200', '240', '730', 70, 85, 50, 65,\n",
       "       45, 60, 75, 80, 30, 20, 90, 130, 55, 120, 95, 15, 25, 100, 150,\n",
       "       125, 40, 110, 35, 115, 140, 10, 105, 270, 155, 175, 135, 165, 145,\n",
       "       160, 180, 185, 200, 680, 390, 410, 170, 670, 760, 690, 340, 650,\n",
       "       310, 290, 970, 600, 440, 230, 370, 195, 190, 350, '610', '620',\n",
       "       '590', '410', '650', '660', '780', 250, 260, 210, 1000, 330, 730,\n",
       "       300, 1100, 430, 220, 510, 320, 500, 460, 450, 240, 800, 700, 830,\n",
       "       1300, '550', 480, '760', '1300', '390', 630, 660, 780, 550, 400,\n",
       "       740, '690', '340', '970', 590, 570, 790, 610, '1000', '800', '700',\n",
       "       710, 360, 280, 900, 960, 580, 540, 380, 490, 940, 770, 470, '560',\n",
       "       '490', '670', '900', '510', '450', 1400, 530, 420, 860, 1200, 1500,\n",
       "       520, 820, 720, 560, 870, 990, 620, '770', '890', '680', '420'],\n",
       "      dtype=object)"
      ]
     },
     "execution_count": 52,
     "metadata": {},
     "output_type": "execute_result"
    }
   ],
   "source": [
    "data['面積（㎡）'].unique()"
   ]
  },
  {
   "cell_type": "code",
   "execution_count": 353,
   "metadata": {},
   "outputs": [
    {
     "name": "stderr",
     "output_type": "stream",
     "text": [
      "/Users/kotasho/opt/anaconda3/lib/python3.7/site-packages/ipykernel_launcher.py:1: SettingWithCopyWarning: \n",
      "A value is trying to be set on a copy of a slice from a DataFrame\n",
      "\n",
      "See the caveats in the documentation: https://pandas.pydata.org/pandas-docs/stable/user_guide/indexing.html#returning-a-view-versus-a-copy\n",
      "  \"\"\"Entry point for launching an IPython kernel.\n"
     ]
    }
   ],
   "source": [
    "data['面積（㎡）'][data['面積（㎡）'] == '2000㎡以上'] = 2000\n",
    "data['面積（㎡）'] = data['面積（㎡）'].astype(int)"
   ]
  },
  {
   "cell_type": "code",
   "execution_count": 355,
   "metadata": {},
   "outputs": [],
   "source": [
    "#特徴量を選択\n",
    "data = data[['ID','市区町村コード', '最寄駅：距離（分）', '面積（㎡）', '取引年月', '西暦', '東京23区', '改装', '都市計画', '都市部',\\\n",
    "             '間取り','Train_flg','取引価格（総額）_log']] "
   ]
  },
  {
   "cell_type": "code",
   "execution_count": 356,
   "metadata": {},
   "outputs": [
    {
     "data": {
      "text/html": [
       "<div>\n",
       "<style scoped>\n",
       "    .dataframe tbody tr th:only-of-type {\n",
       "        vertical-align: middle;\n",
       "    }\n",
       "\n",
       "    .dataframe tbody tr th {\n",
       "        vertical-align: top;\n",
       "    }\n",
       "\n",
       "    .dataframe thead th {\n",
       "        text-align: right;\n",
       "    }\n",
       "</style>\n",
       "<table border=\"1\" class=\"dataframe\">\n",
       "  <thead>\n",
       "    <tr style=\"text-align: right;\">\n",
       "      <th></th>\n",
       "      <th>ID</th>\n",
       "      <th>市区町村コード</th>\n",
       "      <th>最寄駅：距離（分）</th>\n",
       "      <th>面積（㎡）</th>\n",
       "      <th>取引年月</th>\n",
       "      <th>西暦</th>\n",
       "      <th>東京23区</th>\n",
       "      <th>改装</th>\n",
       "      <th>都市計画</th>\n",
       "      <th>都市部</th>\n",
       "      <th>間取り</th>\n",
       "      <th>Train_flg</th>\n",
       "      <th>取引価格（総額）_log</th>\n",
       "    </tr>\n",
       "  </thead>\n",
       "  <tbody>\n",
       "    <tr>\n",
       "      <th>0</th>\n",
       "      <td>40133875</td>\n",
       "      <td>40131</td>\n",
       "      <td>0</td>\n",
       "      <td>50</td>\n",
       "      <td>20060930</td>\n",
       "      <td>1991</td>\n",
       "      <td>0</td>\n",
       "      <td>0</td>\n",
       "      <td>NaN</td>\n",
       "      <td>0</td>\n",
       "      <td>２ＬＤＫ</td>\n",
       "      <td>True</td>\n",
       "      <td>6.740363</td>\n",
       "    </tr>\n",
       "    <tr>\n",
       "      <th>1</th>\n",
       "      <td>40054793</td>\n",
       "      <td>40135</td>\n",
       "      <td>25</td>\n",
       "      <td>50</td>\n",
       "      <td>20190331</td>\n",
       "      <td>1983</td>\n",
       "      <td>0</td>\n",
       "      <td>1</td>\n",
       "      <td>準住居地域</td>\n",
       "      <td>0</td>\n",
       "      <td>３ＤＫ</td>\n",
       "      <td>True</td>\n",
       "      <td>6.977724</td>\n",
       "    </tr>\n",
       "    <tr>\n",
       "      <th>2</th>\n",
       "      <td>40058576</td>\n",
       "      <td>40134</td>\n",
       "      <td>30</td>\n",
       "      <td>70</td>\n",
       "      <td>20121231</td>\n",
       "      <td>2001</td>\n",
       "      <td>0</td>\n",
       "      <td>1</td>\n",
       "      <td>第２種住居地域</td>\n",
       "      <td>0</td>\n",
       "      <td>３ＬＤＫ</td>\n",
       "      <td>True</td>\n",
       "      <td>7.255273</td>\n",
       "    </tr>\n",
       "    <tr>\n",
       "      <th>3</th>\n",
       "      <td>40014894</td>\n",
       "      <td>40131</td>\n",
       "      <td>21</td>\n",
       "      <td>70</td>\n",
       "      <td>20110630</td>\n",
       "      <td>1989</td>\n",
       "      <td>0</td>\n",
       "      <td>0</td>\n",
       "      <td>工業地域</td>\n",
       "      <td>0</td>\n",
       "      <td>２ＬＤＫ</td>\n",
       "      <td>True</td>\n",
       "      <td>6.740363</td>\n",
       "    </tr>\n",
       "    <tr>\n",
       "      <th>4</th>\n",
       "      <td>40012487</td>\n",
       "      <td>40133</td>\n",
       "      <td>13</td>\n",
       "      <td>65</td>\n",
       "      <td>20100930</td>\n",
       "      <td>2000</td>\n",
       "      <td>0</td>\n",
       "      <td>0</td>\n",
       "      <td>第１種住居地域</td>\n",
       "      <td>0</td>\n",
       "      <td>３ＬＤＫ</td>\n",
       "      <td>True</td>\n",
       "      <td>7.431364</td>\n",
       "    </tr>\n",
       "  </tbody>\n",
       "</table>\n",
       "</div>"
      ],
      "text/plain": [
       "         ID  市区町村コード  最寄駅：距離（分）  面積（㎡）      取引年月    西暦  東京23区  改装     都市計画  \\\n",
       "0  40133875    40131          0     50  20060930  1991      0   0      NaN   \n",
       "1  40054793    40135         25     50  20190331  1983      0   1    準住居地域   \n",
       "2  40058576    40134         30     70  20121231  2001      0   1  第２種住居地域   \n",
       "3  40014894    40131         21     70  20110630  1989      0   0     工業地域   \n",
       "4  40012487    40133         13     65  20100930  2000      0   0  第１種住居地域   \n",
       "\n",
       "   都市部   間取り  Train_flg  取引価格（総額）_log  \n",
       "0    0  ２ＬＤＫ       True      6.740363  \n",
       "1    0   ３ＤＫ       True      6.977724  \n",
       "2    0  ３ＬＤＫ       True      7.255273  \n",
       "3    0  ２ＬＤＫ       True      6.740363  \n",
       "4    0  ３ＬＤＫ       True      7.431364  "
      ]
     },
     "execution_count": 356,
     "metadata": {},
     "output_type": "execute_result"
    }
   ],
   "source": [
    "data.head()"
   ]
  },
  {
   "cell_type": "markdown",
   "metadata": {},
   "source": [
    "## 間取りをエンコーディング"
   ]
  },
  {
   "cell_type": "code",
   "execution_count": 357,
   "metadata": {},
   "outputs": [],
   "source": [
    "data_dummies = data[['間取り']]\n",
    "data_dummies = pd.get_dummies(data_dummies)"
   ]
  },
  {
   "cell_type": "code",
   "execution_count": 358,
   "metadata": {},
   "outputs": [],
   "source": [
    "data = pd.concat([data, data_dummies], axis=1)\n",
    "data = data.drop(['間取り'], axis=1)"
   ]
  },
  {
   "cell_type": "code",
   "execution_count": 62,
   "metadata": {},
   "outputs": [
    {
     "data": {
      "text/plain": [
       "３ＬＤＫ       1413115\n",
       "１Ｋ          482525\n",
       "２ＬＤＫ        477140\n",
       "４ＬＤＫ        302940\n",
       "１ＬＤＫ        140300\n",
       "２ＤＫ         105435\n",
       "１ＤＫ          96335\n",
       "３ＤＫ          60845\n",
       "１Ｒ           34955\n",
       "オープンフロア      26545\n",
       "２ＬＤＫ＋Ｓ       19435\n",
       "４ＤＫ           8640\n",
       "２Ｋ            6525\n",
       "１ＬＤＫ＋Ｓ        5635\n",
       "３ＬＤＫ＋Ｓ        4615\n",
       "５ＬＤＫ          4265\n",
       "３Ｋ            2420\n",
       "２ＤＫ＋Ｓ         2245\n",
       "４ＬＤＫ＋Ｓ         830\n",
       "４Ｋ             795\n",
       "Name: 間取り, dtype: int64"
      ]
     },
     "execution_count": 62,
     "metadata": {},
     "output_type": "execute_result"
    }
   ],
   "source": [
    "train['間取り'].value_counts().head(20)"
   ]
  },
  {
   "cell_type": "code",
   "execution_count": 60,
   "metadata": {},
   "outputs": [
    {
     "data": {
      "text/plain": [
       "３ＬＤＫ       9083\n",
       "１Ｋ         4106\n",
       "２ＬＤＫ       3617\n",
       "４ＬＤＫ       1760\n",
       "１ＬＤＫ       1228\n",
       "２ＤＫ         691\n",
       "１ＤＫ         634\n",
       "３ＤＫ         281\n",
       "１Ｒ          188\n",
       "オープンフロア     127\n",
       "２ＬＤＫ＋Ｓ      123\n",
       "４ＤＫ          39\n",
       "１ＬＤＫ＋Ｓ       37\n",
       "３ＬＤＫ＋Ｓ       29\n",
       "２Ｋ           29\n",
       "５ＬＤＫ         22\n",
       "３Ｋ           12\n",
       "２ＤＫ＋Ｓ        10\n",
       "５ＬＤＫ＋Ｓ        5\n",
       "３ＤＫ＋Ｓ         2\n",
       "メゾネット         2\n",
       "３ＬＫ           2\n",
       "５ＤＫ           2\n",
       "４Ｋ            1\n",
       "１ＤＫ＋Ｓ         1\n",
       "１Ｌ            1\n",
       "１Ｋ＋Ｓ          1\n",
       "スタジオ          1\n",
       "６ＬＤＫ          1\n",
       "Name: 間取り, dtype: int64"
      ]
     },
     "execution_count": 60,
     "metadata": {},
     "output_type": "execute_result"
    }
   ],
   "source": [
    "test['間取り'].value_counts()"
   ]
  },
  {
   "cell_type": "code",
   "execution_count": 64,
   "metadata": {},
   "outputs": [
    {
     "data": {
      "text/plain": [
       "63"
      ]
     },
     "execution_count": 64,
     "metadata": {},
     "output_type": "execute_result"
    }
   ],
   "source": [
    "train['間取り'].nunique()"
   ]
  },
  {
   "cell_type": "code",
   "execution_count": 63,
   "metadata": {},
   "outputs": [
    {
     "data": {
      "text/plain": [
       "29"
      ]
     },
     "execution_count": 63,
     "metadata": {},
     "output_type": "execute_result"
    }
   ],
   "source": [
    "test['間取り'].nunique()"
   ]
  },
  {
   "cell_type": "code",
   "execution_count": 359,
   "metadata": {},
   "outputs": [],
   "source": [
    "#間取りはtrainとtestに共通しているものを抜粋。数が少ないもの（２桁）は除外\n",
    "data = data[['ID','市区町村コード', '最寄駅：距離（分）', '面積（㎡）', '取引年月', '西暦', '東京23区', '改装', '都市計画', '都市部',\\\n",
    "             '間取り_３ＬＤＫ', '間取り_１Ｋ', '間取り_２ＬＤＫ', '間取り_４ＬＤＫ', '間取り_１ＬＤＫ', '間取り_２ＤＫ', '間取り_１ＤＫ', '間取り_３ＤＫ',\\\n",
    "             '間取り_１Ｒ', '間取り_オープンフロア', '間取り_２ＬＤＫ＋Ｓ', 'Train_flg','取引価格（総額）_log']] "
   ]
  },
  {
   "cell_type": "markdown",
   "metadata": {},
   "source": [
    "## 都市計画をエンコーディング"
   ]
  },
  {
   "cell_type": "code",
   "execution_count": 39,
   "metadata": {},
   "outputs": [
    {
     "data": {
      "text/plain": [
       "商業地域                      6857\n",
       "第１種住居地域                   3489\n",
       "第１種中高層住居専用地域              3428\n",
       "準工業地域                     2778\n",
       "近隣商業地域                    2460\n",
       "第２種住居地域                   1073\n",
       "第２種中高層住居専用地域               954\n",
       "第１種低層住居専用地域                661\n",
       "工業地域                       582\n",
       "準住居地域                      419\n",
       "市街化調整区域                    134\n",
       "第２種低層住居専用地域                 31\n",
       "都市計画区域外                     10\n",
       "工業専用地域                       7\n",
       "市街化区域及び市街化調整区域外の都市計画区域       5\n",
       "Name: 都市計画, dtype: int64"
      ]
     },
     "execution_count": 39,
     "metadata": {},
     "output_type": "execute_result"
    }
   ],
   "source": [
    "test['都市計画'].value_counts()"
   ]
  },
  {
   "cell_type": "code",
   "execution_count": 360,
   "metadata": {},
   "outputs": [],
   "source": [
    "data_dummies = data[['都市計画']]\n",
    "data_dummies = pd.get_dummies(data_dummies)"
   ]
  },
  {
   "cell_type": "code",
   "execution_count": 361,
   "metadata": {},
   "outputs": [],
   "source": [
    "data = pd.concat([data, data_dummies], axis=1)\n",
    "data = data.drop(['都市計画'], axis=1)"
   ]
  },
  {
   "cell_type": "code",
   "execution_count": 362,
   "metadata": {},
   "outputs": [
    {
     "data": {
      "text/html": [
       "<div>\n",
       "<style scoped>\n",
       "    .dataframe tbody tr th:only-of-type {\n",
       "        vertical-align: middle;\n",
       "    }\n",
       "\n",
       "    .dataframe tbody tr th {\n",
       "        vertical-align: top;\n",
       "    }\n",
       "\n",
       "    .dataframe thead th {\n",
       "        text-align: right;\n",
       "    }\n",
       "</style>\n",
       "<table border=\"1\" class=\"dataframe\">\n",
       "  <thead>\n",
       "    <tr style=\"text-align: right;\">\n",
       "      <th></th>\n",
       "      <th>ID</th>\n",
       "      <th>市区町村コード</th>\n",
       "      <th>最寄駅：距離（分）</th>\n",
       "      <th>面積（㎡）</th>\n",
       "      <th>取引年月</th>\n",
       "      <th>西暦</th>\n",
       "      <th>東京23区</th>\n",
       "      <th>改装</th>\n",
       "      <th>都市部</th>\n",
       "      <th>間取り_３ＬＤＫ</th>\n",
       "      <th>...</th>\n",
       "      <th>都市計画_準工業地域</th>\n",
       "      <th>都市計画_準都市計画区域</th>\n",
       "      <th>都市計画_第１種中高層住居専用地域</th>\n",
       "      <th>都市計画_第１種低層住居専用地域</th>\n",
       "      <th>都市計画_第１種住居地域</th>\n",
       "      <th>都市計画_第２種中高層住居専用地域</th>\n",
       "      <th>都市計画_第２種低層住居専用地域</th>\n",
       "      <th>都市計画_第２種住居地域</th>\n",
       "      <th>都市計画_近隣商業地域</th>\n",
       "      <th>都市計画_都市計画区域外</th>\n",
       "    </tr>\n",
       "  </thead>\n",
       "  <tbody>\n",
       "    <tr>\n",
       "      <th>0</th>\n",
       "      <td>40133875</td>\n",
       "      <td>40131</td>\n",
       "      <td>0</td>\n",
       "      <td>50</td>\n",
       "      <td>20060930</td>\n",
       "      <td>1991</td>\n",
       "      <td>0</td>\n",
       "      <td>0</td>\n",
       "      <td>0</td>\n",
       "      <td>0</td>\n",
       "      <td>...</td>\n",
       "      <td>0</td>\n",
       "      <td>0</td>\n",
       "      <td>0</td>\n",
       "      <td>0</td>\n",
       "      <td>0</td>\n",
       "      <td>0</td>\n",
       "      <td>0</td>\n",
       "      <td>0</td>\n",
       "      <td>0</td>\n",
       "      <td>0</td>\n",
       "    </tr>\n",
       "    <tr>\n",
       "      <th>1</th>\n",
       "      <td>40054793</td>\n",
       "      <td>40135</td>\n",
       "      <td>25</td>\n",
       "      <td>50</td>\n",
       "      <td>20190331</td>\n",
       "      <td>1983</td>\n",
       "      <td>0</td>\n",
       "      <td>1</td>\n",
       "      <td>0</td>\n",
       "      <td>0</td>\n",
       "      <td>...</td>\n",
       "      <td>0</td>\n",
       "      <td>0</td>\n",
       "      <td>0</td>\n",
       "      <td>0</td>\n",
       "      <td>0</td>\n",
       "      <td>0</td>\n",
       "      <td>0</td>\n",
       "      <td>0</td>\n",
       "      <td>0</td>\n",
       "      <td>0</td>\n",
       "    </tr>\n",
       "    <tr>\n",
       "      <th>2</th>\n",
       "      <td>40058576</td>\n",
       "      <td>40134</td>\n",
       "      <td>30</td>\n",
       "      <td>70</td>\n",
       "      <td>20121231</td>\n",
       "      <td>2001</td>\n",
       "      <td>0</td>\n",
       "      <td>1</td>\n",
       "      <td>0</td>\n",
       "      <td>1</td>\n",
       "      <td>...</td>\n",
       "      <td>0</td>\n",
       "      <td>0</td>\n",
       "      <td>0</td>\n",
       "      <td>0</td>\n",
       "      <td>0</td>\n",
       "      <td>0</td>\n",
       "      <td>0</td>\n",
       "      <td>1</td>\n",
       "      <td>0</td>\n",
       "      <td>0</td>\n",
       "    </tr>\n",
       "    <tr>\n",
       "      <th>3</th>\n",
       "      <td>40014894</td>\n",
       "      <td>40131</td>\n",
       "      <td>21</td>\n",
       "      <td>70</td>\n",
       "      <td>20110630</td>\n",
       "      <td>1989</td>\n",
       "      <td>0</td>\n",
       "      <td>0</td>\n",
       "      <td>0</td>\n",
       "      <td>0</td>\n",
       "      <td>...</td>\n",
       "      <td>0</td>\n",
       "      <td>0</td>\n",
       "      <td>0</td>\n",
       "      <td>0</td>\n",
       "      <td>0</td>\n",
       "      <td>0</td>\n",
       "      <td>0</td>\n",
       "      <td>0</td>\n",
       "      <td>0</td>\n",
       "      <td>0</td>\n",
       "    </tr>\n",
       "    <tr>\n",
       "      <th>4</th>\n",
       "      <td>40012487</td>\n",
       "      <td>40133</td>\n",
       "      <td>13</td>\n",
       "      <td>65</td>\n",
       "      <td>20100930</td>\n",
       "      <td>2000</td>\n",
       "      <td>0</td>\n",
       "      <td>0</td>\n",
       "      <td>0</td>\n",
       "      <td>1</td>\n",
       "      <td>...</td>\n",
       "      <td>0</td>\n",
       "      <td>0</td>\n",
       "      <td>0</td>\n",
       "      <td>0</td>\n",
       "      <td>1</td>\n",
       "      <td>0</td>\n",
       "      <td>0</td>\n",
       "      <td>0</td>\n",
       "      <td>0</td>\n",
       "      <td>0</td>\n",
       "    </tr>\n",
       "  </tbody>\n",
       "</table>\n",
       "<p>5 rows × 38 columns</p>\n",
       "</div>"
      ],
      "text/plain": [
       "         ID  市区町村コード  最寄駅：距離（分）  面積（㎡）      取引年月    西暦  東京23区  改装  都市部  \\\n",
       "0  40133875    40131          0     50  20060930  1991      0   0    0   \n",
       "1  40054793    40135         25     50  20190331  1983      0   1    0   \n",
       "2  40058576    40134         30     70  20121231  2001      0   1    0   \n",
       "3  40014894    40131         21     70  20110630  1989      0   0    0   \n",
       "4  40012487    40133         13     65  20100930  2000      0   0    0   \n",
       "\n",
       "   間取り_３ＬＤＫ  ...  都市計画_準工業地域  都市計画_準都市計画区域  都市計画_第１種中高層住居専用地域  \\\n",
       "0         0  ...           0             0                  0   \n",
       "1         0  ...           0             0                  0   \n",
       "2         1  ...           0             0                  0   \n",
       "3         0  ...           0             0                  0   \n",
       "4         1  ...           0             0                  0   \n",
       "\n",
       "   都市計画_第１種低層住居専用地域  都市計画_第１種住居地域  都市計画_第２種中高層住居専用地域  都市計画_第２種低層住居専用地域  \\\n",
       "0                 0             0                  0                 0   \n",
       "1                 0             0                  0                 0   \n",
       "2                 0             0                  0                 0   \n",
       "3                 0             0                  0                 0   \n",
       "4                 0             1                  0                 0   \n",
       "\n",
       "   都市計画_第２種住居地域  都市計画_近隣商業地域  都市計画_都市計画区域外  \n",
       "0             0            0             0  \n",
       "1             0            0             0  \n",
       "2             1            0             0  \n",
       "3             0            0             0  \n",
       "4             0            0             0  \n",
       "\n",
       "[5 rows x 38 columns]"
      ]
     },
     "execution_count": 362,
     "metadata": {},
     "output_type": "execute_result"
    }
   ],
   "source": [
    "data.head()"
   ]
  },
  {
   "cell_type": "code",
   "execution_count": 205,
   "metadata": {},
   "outputs": [
    {
     "name": "stdout",
     "output_type": "stream",
     "text": [
      "<class 'pandas.core.frame.DataFrame'>\n",
      "RangeIndex: 3337199 entries, 0 to 3337198\n",
      "Data columns (total 37 columns):\n",
      " #   Column                       Dtype  \n",
      "---  ------                       -----  \n",
      " 0   ID                           int64  \n",
      " 1   市区町村コード                      int64  \n",
      " 2   最寄駅：距離（分）                    int64  \n",
      " 3   面積（㎡）                        int64  \n",
      " 4   取引年月                         object \n",
      " 5   西暦                           int64  \n",
      " 6   東京23区                        int64  \n",
      " 7   改装                           int64  \n",
      " 8   間取り_３ＬＤＫ                     uint8  \n",
      " 9   間取り_１Ｋ                       uint8  \n",
      " 10  間取り_２ＬＤＫ                     uint8  \n",
      " 11  間取り_４ＬＤＫ                     uint8  \n",
      " 12  間取り_１ＬＤＫ                     uint8  \n",
      " 13  間取り_２ＤＫ                      uint8  \n",
      " 14  間取り_１ＤＫ                      uint8  \n",
      " 15  間取り_３ＤＫ                      uint8  \n",
      " 16  間取り_１Ｒ                       uint8  \n",
      " 17  間取り_オープンフロア                  uint8  \n",
      " 18  間取り_２ＬＤＫ＋Ｓ                   uint8  \n",
      " 19  Train_flg                    bool   \n",
      " 20  取引価格（総額）_log                 float64\n",
      " 21  都市計画_商業地域                    uint8  \n",
      " 22  都市計画_工業地域                    uint8  \n",
      " 23  都市計画_工業専用地域                  uint8  \n",
      " 24  都市計画_市街化区域及び市街化調整区域外の都市計画区域  uint8  \n",
      " 25  都市計画_市街化調整区域                 uint8  \n",
      " 26  都市計画_準住居地域                   uint8  \n",
      " 27  都市計画_準工業地域                   uint8  \n",
      " 28  都市計画_準都市計画区域                 uint8  \n",
      " 29  都市計画_第１種中高層住居専用地域            uint8  \n",
      " 30  都市計画_第１種低層住居専用地域             uint8  \n",
      " 31  都市計画_第１種住居地域                 uint8  \n",
      " 32  都市計画_第２種中高層住居専用地域            uint8  \n",
      " 33  都市計画_第２種低層住居専用地域             uint8  \n",
      " 34  都市計画_第２種住居地域                 uint8  \n",
      " 35  都市計画_近隣商業地域                  uint8  \n",
      " 36  都市計画_都市計画区域外                 uint8  \n",
      "dtypes: bool(1), float64(1), int64(7), object(1), uint8(27)\n",
      "memory usage: 318.3+ MB\n"
     ]
    }
   ],
   "source": [
    "data.info()"
   ]
  },
  {
   "cell_type": "code",
   "execution_count": 194,
   "metadata": {},
   "outputs": [
    {
     "data": {
      "image/png": "[encoded data removed]",
      "text/plain": [
       "<matplotlib.figure.Figure at 0x1affcb5f90>"
      ]
     },
     "metadata": {
      "needs_background": "light"
     },
     "output_type": "display_data"
    }
   ],
   "source": [
    "y = data['最寄駅：距離（分）']\n",
    "y.plot.hist(title='駅からの距離', bins=50)\n",
    "plt.show()"
   ]
  },
  {
   "cell_type": "code",
   "execution_count": null,
   "metadata": {},
   "outputs": [],
   "source": []
  },
  {
   "cell_type": "code",
   "execution_count": null,
   "metadata": {},
   "outputs": [],
   "source": []
  },
  {
   "cell_type": "markdown",
   "metadata": {},
   "source": [
    "## モデリングの為にデータを分割"
   ]
  },
  {
   "cell_type": "code",
   "execution_count": 363,
   "metadata": {},
   "outputs": [],
   "source": [
    "train = data[data['Train_flg'] == True]\n",
    "test= data[data['Train_flg'] == False]"
   ]
  },
  {
   "cell_type": "code",
   "execution_count": 364,
   "metadata": {},
   "outputs": [],
   "source": [
    "#IDは提出時に使うので変数に入れておく\n",
    "test_id = test[['ID']]"
   ]
  },
  {
   "cell_type": "code",
   "execution_count": 365,
   "metadata": {},
   "outputs": [],
   "source": [
    "test = test.drop(['ID'], axis=1)\n",
    "train = train.drop(['ID'], axis=1)"
   ]
  },
  {
   "cell_type": "code",
   "execution_count": 366,
   "metadata": {},
   "outputs": [],
   "source": [
    "## 目的変数の列を除外\n",
    "test = test.drop('取引価格（総額）_log', axis=1)"
   ]
  },
  {
   "cell_type": "code",
   "execution_count": 367,
   "metadata": {},
   "outputs": [],
   "source": [
    "y = train['取引価格（総額）_log']"
   ]
  },
  {
   "cell_type": "code",
   "execution_count": 368,
   "metadata": {},
   "outputs": [],
   "source": [
    "train = train.drop('取引価格（総額）_log', axis=1)"
   ]
  },
  {
   "cell_type": "code",
   "execution_count": 369,
   "metadata": {},
   "outputs": [],
   "source": [
    "X_train, y_train = train, y\n",
    "X_test = test"
   ]
  },
  {
   "cell_type": "code",
   "execution_count": 370,
   "metadata": {},
   "outputs": [],
   "source": [
    "#クロスバリデーション\n",
    "#ランダムフォレスト\n",
    "\n",
    "from sklearn.model_selection import KFold\n",
    "from sklearn.ensemble import RandomForestRegressor\n",
    "from sklearn.metrics import mean_absolute_error\n",
    "\n",
    "kf = KFold(n_splits=4, shuffle=True, random_state=71)\n",
    "\n",
    "tr_idx, va_idx = list(kf.split(X_train))[0]\n",
    "\n",
    "tr_x, va_x = X_train.iloc[tr_idx], X_train.iloc[va_idx]\n",
    "tr_y, va_y = y.iloc[tr_idx], y.iloc[va_idx]\n",
    "\n",
    "rf = RandomForestRegressor(max_depth=5, random_state=42)\n",
    "\n",
    "rf.fit(tr_x, tr_y)\n",
    "\n",
    "va_pred = rf.predict(va_x)\n",
    "score = mean_absolute_error(va_y, va_pred)\n",
    "\n",
    "y_pred = rf.predict(X_test)"
   ]
  },
  {
   "cell_type": "code",
   "execution_count": 371,
   "metadata": {},
   "outputs": [
    {
     "name": "stdout",
     "output_type": "stream",
     "text": [
      "[6.96705213 7.04931664 7.00342109 ... 7.42183963 6.86573931 7.30497322]\n"
     ]
    }
   ],
   "source": [
    "print(va_pred)"
   ]
  },
  {
   "cell_type": "code",
   "execution_count": 372,
   "metadata": {},
   "outputs": [
    {
     "name": "stdout",
     "output_type": "stream",
     "text": [
      "0.15745712523068853\n"
     ]
    }
   ],
   "source": [
    "print(score)"
   ]
  },
  {
   "cell_type": "code",
   "execution_count": 373,
   "metadata": {},
   "outputs": [
    {
     "name": "stdout",
     "output_type": "stream",
     "text": [
      "[6.86912135 6.86912135 7.00342109 ... 6.86912135 7.04334016 7.53364176]\n"
     ]
    }
   ],
   "source": [
    "print(y_pred)"
   ]
  },
  {
   "cell_type": "code",
   "execution_count": 374,
   "metadata": {},
   "outputs": [],
   "source": [
    "y_pred_sub = y_pred\n",
    "test_id_sub = test_id"
   ]
  },
  {
   "cell_type": "code",
   "execution_count": 375,
   "metadata": {},
   "outputs": [],
   "source": [
    "y_pred_sub = pd.DataFrame({\n",
    "        \"取引価格（総額）_log\": y_pred_sub\n",
    "    })"
   ]
  },
  {
   "cell_type": "code",
   "execution_count": 376,
   "metadata": {},
   "outputs": [],
   "source": [
    "test_id_sub = test_id_sub.reset_index(drop=True)"
   ]
  },
  {
   "cell_type": "code",
   "execution_count": 377,
   "metadata": {},
   "outputs": [],
   "source": [
    "test_id_sub['取引価格（総額）_log'] = y_pred_sub['取引価格（総額）_log']"
   ]
  },
  {
   "cell_type": "code",
   "execution_count": 378,
   "metadata": {},
   "outputs": [],
   "source": [
    "test_id_sub.to_csv(\"submission_3.csv\", index = False)"
   ]
  },
  {
   "cell_type": "code",
   "execution_count": 379,
   "metadata": {},
   "outputs": [
    {
     "data": {
      "text/html": [
       "<div>\n",
       "<style scoped>\n",
       "    .dataframe tbody tr th:only-of-type {\n",
       "        vertical-align: middle;\n",
       "    }\n",
       "\n",
       "    .dataframe tbody tr th {\n",
       "        vertical-align: top;\n",
       "    }\n",
       "\n",
       "    .dataframe thead th {\n",
       "        text-align: right;\n",
       "    }\n",
       "</style>\n",
       "<table border=\"1\" class=\"dataframe\">\n",
       "  <thead>\n",
       "    <tr style=\"text-align: right;\">\n",
       "      <th></th>\n",
       "      <th>ID</th>\n",
       "      <th>取引価格（総額）_log</th>\n",
       "    </tr>\n",
       "  </thead>\n",
       "  <tbody>\n",
       "    <tr>\n",
       "      <th>0</th>\n",
       "      <td>1000114</td>\n",
       "      <td>6.869121</td>\n",
       "    </tr>\n",
       "    <tr>\n",
       "      <th>1</th>\n",
       "      <td>1000116</td>\n",
       "      <td>6.869121</td>\n",
       "    </tr>\n",
       "    <tr>\n",
       "      <th>2</th>\n",
       "      <td>1000117</td>\n",
       "      <td>7.003421</td>\n",
       "    </tr>\n",
       "    <tr>\n",
       "      <th>3</th>\n",
       "      <td>1000118</td>\n",
       "      <td>7.304973</td>\n",
       "    </tr>\n",
       "    <tr>\n",
       "      <th>4</th>\n",
       "      <td>1000119</td>\n",
       "      <td>6.468594</td>\n",
       "    </tr>\n",
       "    <tr>\n",
       "      <th>...</th>\n",
       "      <td>...</td>\n",
       "      <td>...</td>\n",
       "    </tr>\n",
       "    <tr>\n",
       "      <th>23199</th>\n",
       "      <td>47012519</td>\n",
       "      <td>7.421840</td>\n",
       "    </tr>\n",
       "    <tr>\n",
       "      <th>23200</th>\n",
       "      <td>47014760</td>\n",
       "      <td>7.056817</td>\n",
       "    </tr>\n",
       "    <tr>\n",
       "      <th>23201</th>\n",
       "      <td>47014956</td>\n",
       "      <td>6.869121</td>\n",
       "    </tr>\n",
       "    <tr>\n",
       "      <th>23202</th>\n",
       "      <td>47015505</td>\n",
       "      <td>7.043340</td>\n",
       "    </tr>\n",
       "    <tr>\n",
       "      <th>23203</th>\n",
       "      <td>47015950</td>\n",
       "      <td>7.533642</td>\n",
       "    </tr>\n",
       "  </tbody>\n",
       "</table>\n",
       "<p>23204 rows × 2 columns</p>\n",
       "</div>"
      ],
      "text/plain": [
       "             ID  取引価格（総額）_log\n",
       "0       1000114      6.869121\n",
       "1       1000116      6.869121\n",
       "2       1000117      7.003421\n",
       "3       1000118      7.304973\n",
       "4       1000119      6.468594\n",
       "...         ...           ...\n",
       "23199  47012519      7.421840\n",
       "23200  47014760      7.056817\n",
       "23201  47014956      6.869121\n",
       "23202  47015505      7.043340\n",
       "23203  47015950      7.533642\n",
       "\n",
       "[23204 rows x 2 columns]"
      ]
     },
     "execution_count": 379,
     "metadata": {},
     "output_type": "execute_result"
    }
   ],
   "source": [
    "submission_3 = pd.read_csv('submission_3.csv')\n",
    "submission_3"
   ]
  },
  {
   "cell_type": "code",
   "execution_count": 380,
   "metadata": {},
   "outputs": [
    {
     "data": {
      "text/plain": [
       "ID              False\n",
       "取引価格（総額）_log    False\n",
       "dtype: bool"
      ]
     },
     "execution_count": 380,
     "metadata": {},
     "output_type": "execute_result"
    }
   ],
   "source": [
    "submission_3.isnull().any()"
   ]
  },
  {
   "cell_type": "code",
   "execution_count": null,
   "metadata": {},
   "outputs": [],
   "source": []
  }
 ],
 "metadata": {
  "kernelspec": {
   "display_name": "Python 3",
   "language": "python",
   "name": "python3"
  },
  "language_info": {
   "codemirror_mode": {
    "name": "ipython",
    "version": 3
   },
   "file_extension": ".py",
   "mimetype": "text/x-python",
   "name": "python",
   "nbconvert_exporter": "python",
   "pygments_lexer": "ipython3",
   "version": "3.7.6"
  }
 },
 "nbformat": 4,
 "nbformat_minor": 4
}
